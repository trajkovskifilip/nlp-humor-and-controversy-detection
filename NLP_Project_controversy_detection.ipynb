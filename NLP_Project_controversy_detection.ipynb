{
  "nbformat": 4,
  "nbformat_minor": 0,
  "metadata": {
    "colab": {
      "name": "NLP_Project_controversy_detection.ipynb",
      "provenance": [],
      "collapsed_sections": []
    },
    "kernelspec": {
      "name": "python3",
      "display_name": "Python 3"
    },
    "language_info": {
      "name": "python"
    },
    "accelerator": "GPU",
    "widgets": {
      "application/vnd.jupyter.widget-state+json": {
        "513d37007eb349d9bc8da66f5b6b81f4": {
          "model_module": "@jupyter-widgets/controls",
          "model_name": "HBoxModel",
          "model_module_version": "1.5.0",
          "state": {
            "_view_name": "HBoxView",
            "_dom_classes": [],
            "_model_name": "HBoxModel",
            "_view_module": "@jupyter-widgets/controls",
            "_model_module_version": "1.5.0",
            "_view_count": null,
            "_view_module_version": "1.5.0",
            "box_style": "",
            "layout": "IPY_MODEL_029559f12fb54bbf8c2129566eb76401",
            "_model_module": "@jupyter-widgets/controls",
            "children": [
              "IPY_MODEL_9bf1c72b8d554756a19a5d95154c7810",
              "IPY_MODEL_63f3a275b37b43378fa433aa65f8bb06",
              "IPY_MODEL_9d8037f669004bfca82438f01e5d4c57"
            ]
          }
        },
        "029559f12fb54bbf8c2129566eb76401": {
          "model_module": "@jupyter-widgets/base",
          "model_name": "LayoutModel",
          "model_module_version": "1.2.0",
          "state": {
            "_view_name": "LayoutView",
            "grid_template_rows": null,
            "right": null,
            "justify_content": null,
            "_view_module": "@jupyter-widgets/base",
            "overflow": null,
            "_model_module_version": "1.2.0",
            "_view_count": null,
            "flex_flow": null,
            "width": null,
            "min_width": null,
            "border": null,
            "align_items": null,
            "bottom": null,
            "_model_module": "@jupyter-widgets/base",
            "top": null,
            "grid_column": null,
            "overflow_y": null,
            "overflow_x": null,
            "grid_auto_flow": null,
            "grid_area": null,
            "grid_template_columns": null,
            "flex": null,
            "_model_name": "LayoutModel",
            "justify_items": null,
            "grid_row": null,
            "max_height": null,
            "align_content": null,
            "visibility": null,
            "align_self": null,
            "height": null,
            "min_height": null,
            "padding": null,
            "grid_auto_rows": null,
            "grid_gap": null,
            "max_width": null,
            "order": null,
            "_view_module_version": "1.2.0",
            "grid_template_areas": null,
            "object_position": null,
            "object_fit": null,
            "grid_auto_columns": null,
            "margin": null,
            "display": null,
            "left": null
          }
        },
        "9bf1c72b8d554756a19a5d95154c7810": {
          "model_module": "@jupyter-widgets/controls",
          "model_name": "HTMLModel",
          "model_module_version": "1.5.0",
          "state": {
            "_view_name": "HTMLView",
            "style": "IPY_MODEL_4c6d4b89579441788eb9d2a3f4409228",
            "_dom_classes": [],
            "description": "",
            "_model_name": "HTMLModel",
            "placeholder": "​",
            "_view_module": "@jupyter-widgets/controls",
            "_model_module_version": "1.5.0",
            "value": "Downloading: 100%",
            "_view_count": null,
            "_view_module_version": "1.5.0",
            "description_tooltip": null,
            "_model_module": "@jupyter-widgets/controls",
            "layout": "IPY_MODEL_9c530cbf76b64f28ad43bdbee292c6ab"
          }
        },
        "63f3a275b37b43378fa433aa65f8bb06": {
          "model_module": "@jupyter-widgets/controls",
          "model_name": "FloatProgressModel",
          "model_module_version": "1.5.0",
          "state": {
            "_view_name": "ProgressView",
            "style": "IPY_MODEL_d21f9f00fda942a88a22020ec9b84b6f",
            "_dom_classes": [],
            "description": "",
            "_model_name": "FloatProgressModel",
            "bar_style": "success",
            "max": 760289,
            "_view_module": "@jupyter-widgets/controls",
            "_model_module_version": "1.5.0",
            "value": 760289,
            "_view_count": null,
            "_view_module_version": "1.5.0",
            "orientation": "horizontal",
            "min": 0,
            "description_tooltip": null,
            "_model_module": "@jupyter-widgets/controls",
            "layout": "IPY_MODEL_8a6e0f10b32948dbaedc8b47b2f5a00d"
          }
        },
        "9d8037f669004bfca82438f01e5d4c57": {
          "model_module": "@jupyter-widgets/controls",
          "model_name": "HTMLModel",
          "model_module_version": "1.5.0",
          "state": {
            "_view_name": "HTMLView",
            "style": "IPY_MODEL_ec4ca6db0a63454c94a76c9a1ce00fe3",
            "_dom_classes": [],
            "description": "",
            "_model_name": "HTMLModel",
            "placeholder": "​",
            "_view_module": "@jupyter-widgets/controls",
            "_model_module_version": "1.5.0",
            "value": " 760k/760k [00:00&lt;00:00, 2.97MB/s]",
            "_view_count": null,
            "_view_module_version": "1.5.0",
            "description_tooltip": null,
            "_model_module": "@jupyter-widgets/controls",
            "layout": "IPY_MODEL_28488e8d392c4526aa77fb389ec81d60"
          }
        },
        "4c6d4b89579441788eb9d2a3f4409228": {
          "model_module": "@jupyter-widgets/controls",
          "model_name": "DescriptionStyleModel",
          "model_module_version": "1.5.0",
          "state": {
            "_view_name": "StyleView",
            "_model_name": "DescriptionStyleModel",
            "description_width": "",
            "_view_module": "@jupyter-widgets/base",
            "_model_module_version": "1.5.0",
            "_view_count": null,
            "_view_module_version": "1.2.0",
            "_model_module": "@jupyter-widgets/controls"
          }
        },
        "9c530cbf76b64f28ad43bdbee292c6ab": {
          "model_module": "@jupyter-widgets/base",
          "model_name": "LayoutModel",
          "model_module_version": "1.2.0",
          "state": {
            "_view_name": "LayoutView",
            "grid_template_rows": null,
            "right": null,
            "justify_content": null,
            "_view_module": "@jupyter-widgets/base",
            "overflow": null,
            "_model_module_version": "1.2.0",
            "_view_count": null,
            "flex_flow": null,
            "width": null,
            "min_width": null,
            "border": null,
            "align_items": null,
            "bottom": null,
            "_model_module": "@jupyter-widgets/base",
            "top": null,
            "grid_column": null,
            "overflow_y": null,
            "overflow_x": null,
            "grid_auto_flow": null,
            "grid_area": null,
            "grid_template_columns": null,
            "flex": null,
            "_model_name": "LayoutModel",
            "justify_items": null,
            "grid_row": null,
            "max_height": null,
            "align_content": null,
            "visibility": null,
            "align_self": null,
            "height": null,
            "min_height": null,
            "padding": null,
            "grid_auto_rows": null,
            "grid_gap": null,
            "max_width": null,
            "order": null,
            "_view_module_version": "1.2.0",
            "grid_template_areas": null,
            "object_position": null,
            "object_fit": null,
            "grid_auto_columns": null,
            "margin": null,
            "display": null,
            "left": null
          }
        },
        "d21f9f00fda942a88a22020ec9b84b6f": {
          "model_module": "@jupyter-widgets/controls",
          "model_name": "ProgressStyleModel",
          "model_module_version": "1.5.0",
          "state": {
            "_view_name": "StyleView",
            "_model_name": "ProgressStyleModel",
            "description_width": "",
            "_view_module": "@jupyter-widgets/base",
            "_model_module_version": "1.5.0",
            "_view_count": null,
            "_view_module_version": "1.2.0",
            "bar_color": null,
            "_model_module": "@jupyter-widgets/controls"
          }
        },
        "8a6e0f10b32948dbaedc8b47b2f5a00d": {
          "model_module": "@jupyter-widgets/base",
          "model_name": "LayoutModel",
          "model_module_version": "1.2.0",
          "state": {
            "_view_name": "LayoutView",
            "grid_template_rows": null,
            "right": null,
            "justify_content": null,
            "_view_module": "@jupyter-widgets/base",
            "overflow": null,
            "_model_module_version": "1.2.0",
            "_view_count": null,
            "flex_flow": null,
            "width": null,
            "min_width": null,
            "border": null,
            "align_items": null,
            "bottom": null,
            "_model_module": "@jupyter-widgets/base",
            "top": null,
            "grid_column": null,
            "overflow_y": null,
            "overflow_x": null,
            "grid_auto_flow": null,
            "grid_area": null,
            "grid_template_columns": null,
            "flex": null,
            "_model_name": "LayoutModel",
            "justify_items": null,
            "grid_row": null,
            "max_height": null,
            "align_content": null,
            "visibility": null,
            "align_self": null,
            "height": null,
            "min_height": null,
            "padding": null,
            "grid_auto_rows": null,
            "grid_gap": null,
            "max_width": null,
            "order": null,
            "_view_module_version": "1.2.0",
            "grid_template_areas": null,
            "object_position": null,
            "object_fit": null,
            "grid_auto_columns": null,
            "margin": null,
            "display": null,
            "left": null
          }
        },
        "ec4ca6db0a63454c94a76c9a1ce00fe3": {
          "model_module": "@jupyter-widgets/controls",
          "model_name": "DescriptionStyleModel",
          "model_module_version": "1.5.0",
          "state": {
            "_view_name": "StyleView",
            "_model_name": "DescriptionStyleModel",
            "description_width": "",
            "_view_module": "@jupyter-widgets/base",
            "_model_module_version": "1.5.0",
            "_view_count": null,
            "_view_module_version": "1.2.0",
            "_model_module": "@jupyter-widgets/controls"
          }
        },
        "28488e8d392c4526aa77fb389ec81d60": {
          "model_module": "@jupyter-widgets/base",
          "model_name": "LayoutModel",
          "model_module_version": "1.2.0",
          "state": {
            "_view_name": "LayoutView",
            "grid_template_rows": null,
            "right": null,
            "justify_content": null,
            "_view_module": "@jupyter-widgets/base",
            "overflow": null,
            "_model_module_version": "1.2.0",
            "_view_count": null,
            "flex_flow": null,
            "width": null,
            "min_width": null,
            "border": null,
            "align_items": null,
            "bottom": null,
            "_model_module": "@jupyter-widgets/base",
            "top": null,
            "grid_column": null,
            "overflow_y": null,
            "overflow_x": null,
            "grid_auto_flow": null,
            "grid_area": null,
            "grid_template_columns": null,
            "flex": null,
            "_model_name": "LayoutModel",
            "justify_items": null,
            "grid_row": null,
            "max_height": null,
            "align_content": null,
            "visibility": null,
            "align_self": null,
            "height": null,
            "min_height": null,
            "padding": null,
            "grid_auto_rows": null,
            "grid_gap": null,
            "max_width": null,
            "order": null,
            "_view_module_version": "1.2.0",
            "grid_template_areas": null,
            "object_position": null,
            "object_fit": null,
            "grid_auto_columns": null,
            "margin": null,
            "display": null,
            "left": null
          }
        },
        "697626f2e16a42f2a9efdf52d7663e6c": {
          "model_module": "@jupyter-widgets/controls",
          "model_name": "HBoxModel",
          "model_module_version": "1.5.0",
          "state": {
            "_view_name": "HBoxView",
            "_dom_classes": [],
            "_model_name": "HBoxModel",
            "_view_module": "@jupyter-widgets/controls",
            "_model_module_version": "1.5.0",
            "_view_count": null,
            "_view_module_version": "1.5.0",
            "box_style": "",
            "layout": "IPY_MODEL_e321473d135d45f9884c709215f83a0d",
            "_model_module": "@jupyter-widgets/controls",
            "children": [
              "IPY_MODEL_2895ced4d9684d4b94ea6d75949c4846",
              "IPY_MODEL_111f3e0197ce4fe18f5a515dd440c7bf",
              "IPY_MODEL_9af0824669474b93a451094cca0aa062"
            ]
          }
        },
        "e321473d135d45f9884c709215f83a0d": {
          "model_module": "@jupyter-widgets/base",
          "model_name": "LayoutModel",
          "model_module_version": "1.2.0",
          "state": {
            "_view_name": "LayoutView",
            "grid_template_rows": null,
            "right": null,
            "justify_content": null,
            "_view_module": "@jupyter-widgets/base",
            "overflow": null,
            "_model_module_version": "1.2.0",
            "_view_count": null,
            "flex_flow": null,
            "width": null,
            "min_width": null,
            "border": null,
            "align_items": null,
            "bottom": null,
            "_model_module": "@jupyter-widgets/base",
            "top": null,
            "grid_column": null,
            "overflow_y": null,
            "overflow_x": null,
            "grid_auto_flow": null,
            "grid_area": null,
            "grid_template_columns": null,
            "flex": null,
            "_model_name": "LayoutModel",
            "justify_items": null,
            "grid_row": null,
            "max_height": null,
            "align_content": null,
            "visibility": null,
            "align_self": null,
            "height": null,
            "min_height": null,
            "padding": null,
            "grid_auto_rows": null,
            "grid_gap": null,
            "max_width": null,
            "order": null,
            "_view_module_version": "1.2.0",
            "grid_template_areas": null,
            "object_position": null,
            "object_fit": null,
            "grid_auto_columns": null,
            "margin": null,
            "display": null,
            "left": null
          }
        },
        "2895ced4d9684d4b94ea6d75949c4846": {
          "model_module": "@jupyter-widgets/controls",
          "model_name": "HTMLModel",
          "model_module_version": "1.5.0",
          "state": {
            "_view_name": "HTMLView",
            "style": "IPY_MODEL_82dcb455991045118c93e465a92bfe42",
            "_dom_classes": [],
            "description": "",
            "_model_name": "HTMLModel",
            "placeholder": "​",
            "_view_module": "@jupyter-widgets/controls",
            "_model_module_version": "1.5.0",
            "value": "Downloading: 100%",
            "_view_count": null,
            "_view_module_version": "1.5.0",
            "description_tooltip": null,
            "_model_module": "@jupyter-widgets/controls",
            "layout": "IPY_MODEL_bf341921f0e641e29026441a7b54aa0a"
          }
        },
        "111f3e0197ce4fe18f5a515dd440c7bf": {
          "model_module": "@jupyter-widgets/controls",
          "model_name": "FloatProgressModel",
          "model_module_version": "1.5.0",
          "state": {
            "_view_name": "ProgressView",
            "style": "IPY_MODEL_ea1ef401731941a6ae249681a521327a",
            "_dom_classes": [],
            "description": "",
            "_model_name": "FloatProgressModel",
            "bar_style": "success",
            "max": 1312669,
            "_view_module": "@jupyter-widgets/controls",
            "_model_module_version": "1.5.0",
            "value": 1312669,
            "_view_count": null,
            "_view_module_version": "1.5.0",
            "orientation": "horizontal",
            "min": 0,
            "description_tooltip": null,
            "_model_module": "@jupyter-widgets/controls",
            "layout": "IPY_MODEL_059f3920b4944b56a1a1b8d4826d6d1c"
          }
        },
        "9af0824669474b93a451094cca0aa062": {
          "model_module": "@jupyter-widgets/controls",
          "model_name": "HTMLModel",
          "model_module_version": "1.5.0",
          "state": {
            "_view_name": "HTMLView",
            "style": "IPY_MODEL_ac4a3ce15c56417c8ad317c27b34c172",
            "_dom_classes": [],
            "description": "",
            "_model_name": "HTMLModel",
            "placeholder": "​",
            "_view_module": "@jupyter-widgets/controls",
            "_model_module_version": "1.5.0",
            "value": " 1.31M/1.31M [00:00&lt;00:00, 2.60MB/s]",
            "_view_count": null,
            "_view_module_version": "1.5.0",
            "description_tooltip": null,
            "_model_module": "@jupyter-widgets/controls",
            "layout": "IPY_MODEL_3db32a8bbcf64d6a8c169e584000a89a"
          }
        },
        "82dcb455991045118c93e465a92bfe42": {
          "model_module": "@jupyter-widgets/controls",
          "model_name": "DescriptionStyleModel",
          "model_module_version": "1.5.0",
          "state": {
            "_view_name": "StyleView",
            "_model_name": "DescriptionStyleModel",
            "description_width": "",
            "_view_module": "@jupyter-widgets/base",
            "_model_module_version": "1.5.0",
            "_view_count": null,
            "_view_module_version": "1.2.0",
            "_model_module": "@jupyter-widgets/controls"
          }
        },
        "bf341921f0e641e29026441a7b54aa0a": {
          "model_module": "@jupyter-widgets/base",
          "model_name": "LayoutModel",
          "model_module_version": "1.2.0",
          "state": {
            "_view_name": "LayoutView",
            "grid_template_rows": null,
            "right": null,
            "justify_content": null,
            "_view_module": "@jupyter-widgets/base",
            "overflow": null,
            "_model_module_version": "1.2.0",
            "_view_count": null,
            "flex_flow": null,
            "width": null,
            "min_width": null,
            "border": null,
            "align_items": null,
            "bottom": null,
            "_model_module": "@jupyter-widgets/base",
            "top": null,
            "grid_column": null,
            "overflow_y": null,
            "overflow_x": null,
            "grid_auto_flow": null,
            "grid_area": null,
            "grid_template_columns": null,
            "flex": null,
            "_model_name": "LayoutModel",
            "justify_items": null,
            "grid_row": null,
            "max_height": null,
            "align_content": null,
            "visibility": null,
            "align_self": null,
            "height": null,
            "min_height": null,
            "padding": null,
            "grid_auto_rows": null,
            "grid_gap": null,
            "max_width": null,
            "order": null,
            "_view_module_version": "1.2.0",
            "grid_template_areas": null,
            "object_position": null,
            "object_fit": null,
            "grid_auto_columns": null,
            "margin": null,
            "display": null,
            "left": null
          }
        },
        "ea1ef401731941a6ae249681a521327a": {
          "model_module": "@jupyter-widgets/controls",
          "model_name": "ProgressStyleModel",
          "model_module_version": "1.5.0",
          "state": {
            "_view_name": "StyleView",
            "_model_name": "ProgressStyleModel",
            "description_width": "",
            "_view_module": "@jupyter-widgets/base",
            "_model_module_version": "1.5.0",
            "_view_count": null,
            "_view_module_version": "1.2.0",
            "bar_color": null,
            "_model_module": "@jupyter-widgets/controls"
          }
        },
        "059f3920b4944b56a1a1b8d4826d6d1c": {
          "model_module": "@jupyter-widgets/base",
          "model_name": "LayoutModel",
          "model_module_version": "1.2.0",
          "state": {
            "_view_name": "LayoutView",
            "grid_template_rows": null,
            "right": null,
            "justify_content": null,
            "_view_module": "@jupyter-widgets/base",
            "overflow": null,
            "_model_module_version": "1.2.0",
            "_view_count": null,
            "flex_flow": null,
            "width": null,
            "min_width": null,
            "border": null,
            "align_items": null,
            "bottom": null,
            "_model_module": "@jupyter-widgets/base",
            "top": null,
            "grid_column": null,
            "overflow_y": null,
            "overflow_x": null,
            "grid_auto_flow": null,
            "grid_area": null,
            "grid_template_columns": null,
            "flex": null,
            "_model_name": "LayoutModel",
            "justify_items": null,
            "grid_row": null,
            "max_height": null,
            "align_content": null,
            "visibility": null,
            "align_self": null,
            "height": null,
            "min_height": null,
            "padding": null,
            "grid_auto_rows": null,
            "grid_gap": null,
            "max_width": null,
            "order": null,
            "_view_module_version": "1.2.0",
            "grid_template_areas": null,
            "object_position": null,
            "object_fit": null,
            "grid_auto_columns": null,
            "margin": null,
            "display": null,
            "left": null
          }
        },
        "ac4a3ce15c56417c8ad317c27b34c172": {
          "model_module": "@jupyter-widgets/controls",
          "model_name": "DescriptionStyleModel",
          "model_module_version": "1.5.0",
          "state": {
            "_view_name": "StyleView",
            "_model_name": "DescriptionStyleModel",
            "description_width": "",
            "_view_module": "@jupyter-widgets/base",
            "_model_module_version": "1.5.0",
            "_view_count": null,
            "_view_module_version": "1.2.0",
            "_model_module": "@jupyter-widgets/controls"
          }
        },
        "3db32a8bbcf64d6a8c169e584000a89a": {
          "model_module": "@jupyter-widgets/base",
          "model_name": "LayoutModel",
          "model_module_version": "1.2.0",
          "state": {
            "_view_name": "LayoutView",
            "grid_template_rows": null,
            "right": null,
            "justify_content": null,
            "_view_module": "@jupyter-widgets/base",
            "overflow": null,
            "_model_module_version": "1.2.0",
            "_view_count": null,
            "flex_flow": null,
            "width": null,
            "min_width": null,
            "border": null,
            "align_items": null,
            "bottom": null,
            "_model_module": "@jupyter-widgets/base",
            "top": null,
            "grid_column": null,
            "overflow_y": null,
            "overflow_x": null,
            "grid_auto_flow": null,
            "grid_area": null,
            "grid_template_columns": null,
            "flex": null,
            "_model_name": "LayoutModel",
            "justify_items": null,
            "grid_row": null,
            "max_height": null,
            "align_content": null,
            "visibility": null,
            "align_self": null,
            "height": null,
            "min_height": null,
            "padding": null,
            "grid_auto_rows": null,
            "grid_gap": null,
            "max_width": null,
            "order": null,
            "_view_module_version": "1.2.0",
            "grid_template_areas": null,
            "object_position": null,
            "object_fit": null,
            "grid_auto_columns": null,
            "margin": null,
            "display": null,
            "left": null
          }
        },
        "5da1c73afe21444f9b8ed0ca7cdc9121": {
          "model_module": "@jupyter-widgets/controls",
          "model_name": "HBoxModel",
          "model_module_version": "1.5.0",
          "state": {
            "_view_name": "HBoxView",
            "_dom_classes": [],
            "_model_name": "HBoxModel",
            "_view_module": "@jupyter-widgets/controls",
            "_model_module_version": "1.5.0",
            "_view_count": null,
            "_view_module_version": "1.5.0",
            "box_style": "",
            "layout": "IPY_MODEL_6cac94d275db473191b11a81125f4684",
            "_model_module": "@jupyter-widgets/controls",
            "children": [
              "IPY_MODEL_0481c3f9d659414aa679c8262e93feb9",
              "IPY_MODEL_532501db9b9b421bb44fce8f735a1d4c",
              "IPY_MODEL_8e363837767f4e0781da8ea0924c2d7f"
            ]
          }
        },
        "6cac94d275db473191b11a81125f4684": {
          "model_module": "@jupyter-widgets/base",
          "model_name": "LayoutModel",
          "model_module_version": "1.2.0",
          "state": {
            "_view_name": "LayoutView",
            "grid_template_rows": null,
            "right": null,
            "justify_content": null,
            "_view_module": "@jupyter-widgets/base",
            "overflow": null,
            "_model_module_version": "1.2.0",
            "_view_count": null,
            "flex_flow": null,
            "width": null,
            "min_width": null,
            "border": null,
            "align_items": null,
            "bottom": null,
            "_model_module": "@jupyter-widgets/base",
            "top": null,
            "grid_column": null,
            "overflow_y": null,
            "overflow_x": null,
            "grid_auto_flow": null,
            "grid_area": null,
            "grid_template_columns": null,
            "flex": null,
            "_model_name": "LayoutModel",
            "justify_items": null,
            "grid_row": null,
            "max_height": null,
            "align_content": null,
            "visibility": null,
            "align_self": null,
            "height": null,
            "min_height": null,
            "padding": null,
            "grid_auto_rows": null,
            "grid_gap": null,
            "max_width": null,
            "order": null,
            "_view_module_version": "1.2.0",
            "grid_template_areas": null,
            "object_position": null,
            "object_fit": null,
            "grid_auto_columns": null,
            "margin": null,
            "display": null,
            "left": null
          }
        },
        "0481c3f9d659414aa679c8262e93feb9": {
          "model_module": "@jupyter-widgets/controls",
          "model_name": "HTMLModel",
          "model_module_version": "1.5.0",
          "state": {
            "_view_name": "HTMLView",
            "style": "IPY_MODEL_ea145be9c03140bfa4203292d899e52e",
            "_dom_classes": [],
            "description": "",
            "_model_name": "HTMLModel",
            "placeholder": "​",
            "_view_module": "@jupyter-widgets/controls",
            "_model_module_version": "1.5.0",
            "value": "Downloading: 100%",
            "_view_count": null,
            "_view_module_version": "1.5.0",
            "description_tooltip": null,
            "_model_module": "@jupyter-widgets/controls",
            "layout": "IPY_MODEL_d9728ab335634343b8fddbbfd0ba4441"
          }
        },
        "532501db9b9b421bb44fce8f735a1d4c": {
          "model_module": "@jupyter-widgets/controls",
          "model_name": "FloatProgressModel",
          "model_module_version": "1.5.0",
          "state": {
            "_view_name": "ProgressView",
            "style": "IPY_MODEL_bcac3b8e52724194a5f8552af4e95d1f",
            "_dom_classes": [],
            "description": "",
            "_model_name": "FloatProgressModel",
            "bar_style": "success",
            "max": 684,
            "_view_module": "@jupyter-widgets/controls",
            "_model_module_version": "1.5.0",
            "value": 684,
            "_view_count": null,
            "_view_module_version": "1.5.0",
            "orientation": "horizontal",
            "min": 0,
            "description_tooltip": null,
            "_model_module": "@jupyter-widgets/controls",
            "layout": "IPY_MODEL_86b0e0e9fb524bc9a5a39c2e93ad7af0"
          }
        },
        "8e363837767f4e0781da8ea0924c2d7f": {
          "model_module": "@jupyter-widgets/controls",
          "model_name": "HTMLModel",
          "model_module_version": "1.5.0",
          "state": {
            "_view_name": "HTMLView",
            "style": "IPY_MODEL_4931ec31847040d0b1b4afc7ffded0d8",
            "_dom_classes": [],
            "description": "",
            "_model_name": "HTMLModel",
            "placeholder": "​",
            "_view_module": "@jupyter-widgets/controls",
            "_model_module_version": "1.5.0",
            "value": " 684/684 [00:00&lt;00:00, 17.3kB/s]",
            "_view_count": null,
            "_view_module_version": "1.5.0",
            "description_tooltip": null,
            "_model_module": "@jupyter-widgets/controls",
            "layout": "IPY_MODEL_da3753ff4a454ab58b0ea03e3d9f0a4c"
          }
        },
        "ea145be9c03140bfa4203292d899e52e": {
          "model_module": "@jupyter-widgets/controls",
          "model_name": "DescriptionStyleModel",
          "model_module_version": "1.5.0",
          "state": {
            "_view_name": "StyleView",
            "_model_name": "DescriptionStyleModel",
            "description_width": "",
            "_view_module": "@jupyter-widgets/base",
            "_model_module_version": "1.5.0",
            "_view_count": null,
            "_view_module_version": "1.2.0",
            "_model_module": "@jupyter-widgets/controls"
          }
        },
        "d9728ab335634343b8fddbbfd0ba4441": {
          "model_module": "@jupyter-widgets/base",
          "model_name": "LayoutModel",
          "model_module_version": "1.2.0",
          "state": {
            "_view_name": "LayoutView",
            "grid_template_rows": null,
            "right": null,
            "justify_content": null,
            "_view_module": "@jupyter-widgets/base",
            "overflow": null,
            "_model_module_version": "1.2.0",
            "_view_count": null,
            "flex_flow": null,
            "width": null,
            "min_width": null,
            "border": null,
            "align_items": null,
            "bottom": null,
            "_model_module": "@jupyter-widgets/base",
            "top": null,
            "grid_column": null,
            "overflow_y": null,
            "overflow_x": null,
            "grid_auto_flow": null,
            "grid_area": null,
            "grid_template_columns": null,
            "flex": null,
            "_model_name": "LayoutModel",
            "justify_items": null,
            "grid_row": null,
            "max_height": null,
            "align_content": null,
            "visibility": null,
            "align_self": null,
            "height": null,
            "min_height": null,
            "padding": null,
            "grid_auto_rows": null,
            "grid_gap": null,
            "max_width": null,
            "order": null,
            "_view_module_version": "1.2.0",
            "grid_template_areas": null,
            "object_position": null,
            "object_fit": null,
            "grid_auto_columns": null,
            "margin": null,
            "display": null,
            "left": null
          }
        },
        "bcac3b8e52724194a5f8552af4e95d1f": {
          "model_module": "@jupyter-widgets/controls",
          "model_name": "ProgressStyleModel",
          "model_module_version": "1.5.0",
          "state": {
            "_view_name": "StyleView",
            "_model_name": "ProgressStyleModel",
            "description_width": "",
            "_view_module": "@jupyter-widgets/base",
            "_model_module_version": "1.5.0",
            "_view_count": null,
            "_view_module_version": "1.2.0",
            "bar_color": null,
            "_model_module": "@jupyter-widgets/controls"
          }
        },
        "86b0e0e9fb524bc9a5a39c2e93ad7af0": {
          "model_module": "@jupyter-widgets/base",
          "model_name": "LayoutModel",
          "model_module_version": "1.2.0",
          "state": {
            "_view_name": "LayoutView",
            "grid_template_rows": null,
            "right": null,
            "justify_content": null,
            "_view_module": "@jupyter-widgets/base",
            "overflow": null,
            "_model_module_version": "1.2.0",
            "_view_count": null,
            "flex_flow": null,
            "width": null,
            "min_width": null,
            "border": null,
            "align_items": null,
            "bottom": null,
            "_model_module": "@jupyter-widgets/base",
            "top": null,
            "grid_column": null,
            "overflow_y": null,
            "overflow_x": null,
            "grid_auto_flow": null,
            "grid_area": null,
            "grid_template_columns": null,
            "flex": null,
            "_model_name": "LayoutModel",
            "justify_items": null,
            "grid_row": null,
            "max_height": null,
            "align_content": null,
            "visibility": null,
            "align_self": null,
            "height": null,
            "min_height": null,
            "padding": null,
            "grid_auto_rows": null,
            "grid_gap": null,
            "max_width": null,
            "order": null,
            "_view_module_version": "1.2.0",
            "grid_template_areas": null,
            "object_position": null,
            "object_fit": null,
            "grid_auto_columns": null,
            "margin": null,
            "display": null,
            "left": null
          }
        },
        "4931ec31847040d0b1b4afc7ffded0d8": {
          "model_module": "@jupyter-widgets/controls",
          "model_name": "DescriptionStyleModel",
          "model_module_version": "1.5.0",
          "state": {
            "_view_name": "StyleView",
            "_model_name": "DescriptionStyleModel",
            "description_width": "",
            "_view_module": "@jupyter-widgets/base",
            "_model_module_version": "1.5.0",
            "_view_count": null,
            "_view_module_version": "1.2.0",
            "_model_module": "@jupyter-widgets/controls"
          }
        },
        "da3753ff4a454ab58b0ea03e3d9f0a4c": {
          "model_module": "@jupyter-widgets/base",
          "model_name": "LayoutModel",
          "model_module_version": "1.2.0",
          "state": {
            "_view_name": "LayoutView",
            "grid_template_rows": null,
            "right": null,
            "justify_content": null,
            "_view_module": "@jupyter-widgets/base",
            "overflow": null,
            "_model_module_version": "1.2.0",
            "_view_count": null,
            "flex_flow": null,
            "width": null,
            "min_width": null,
            "border": null,
            "align_items": null,
            "bottom": null,
            "_model_module": "@jupyter-widgets/base",
            "top": null,
            "grid_column": null,
            "overflow_y": null,
            "overflow_x": null,
            "grid_auto_flow": null,
            "grid_area": null,
            "grid_template_columns": null,
            "flex": null,
            "_model_name": "LayoutModel",
            "justify_items": null,
            "grid_row": null,
            "max_height": null,
            "align_content": null,
            "visibility": null,
            "align_self": null,
            "height": null,
            "min_height": null,
            "padding": null,
            "grid_auto_rows": null,
            "grid_gap": null,
            "max_width": null,
            "order": null,
            "_view_module_version": "1.2.0",
            "grid_template_areas": null,
            "object_position": null,
            "object_fit": null,
            "grid_auto_columns": null,
            "margin": null,
            "display": null,
            "left": null
          }
        },
        "4b643171ab974c75a1c1d8c7ebe4c64f": {
          "model_module": "@jupyter-widgets/controls",
          "model_name": "HBoxModel",
          "model_module_version": "1.5.0",
          "state": {
            "_view_name": "HBoxView",
            "_dom_classes": [],
            "_model_name": "HBoxModel",
            "_view_module": "@jupyter-widgets/controls",
            "_model_module_version": "1.5.0",
            "_view_count": null,
            "_view_module_version": "1.5.0",
            "box_style": "",
            "layout": "IPY_MODEL_3ec4b402fe8044baa33c1dced8f96a1f",
            "_model_module": "@jupyter-widgets/controls",
            "children": [
              "IPY_MODEL_77488d0d61814622a3ad50975cd5f006",
              "IPY_MODEL_bbf9703c8db34dbe81fb45647f68d39d",
              "IPY_MODEL_a9a4f444c5a04c359b19ad818fcc5610"
            ]
          }
        },
        "3ec4b402fe8044baa33c1dced8f96a1f": {
          "model_module": "@jupyter-widgets/base",
          "model_name": "LayoutModel",
          "model_module_version": "1.2.0",
          "state": {
            "_view_name": "LayoutView",
            "grid_template_rows": null,
            "right": null,
            "justify_content": null,
            "_view_module": "@jupyter-widgets/base",
            "overflow": null,
            "_model_module_version": "1.2.0",
            "_view_count": null,
            "flex_flow": null,
            "width": null,
            "min_width": null,
            "border": null,
            "align_items": null,
            "bottom": null,
            "_model_module": "@jupyter-widgets/base",
            "top": null,
            "grid_column": null,
            "overflow_y": null,
            "overflow_x": null,
            "grid_auto_flow": null,
            "grid_area": null,
            "grid_template_columns": null,
            "flex": null,
            "_model_name": "LayoutModel",
            "justify_items": null,
            "grid_row": null,
            "max_height": null,
            "align_content": null,
            "visibility": null,
            "align_self": null,
            "height": null,
            "min_height": null,
            "padding": null,
            "grid_auto_rows": null,
            "grid_gap": null,
            "max_width": null,
            "order": null,
            "_view_module_version": "1.2.0",
            "grid_template_areas": null,
            "object_position": null,
            "object_fit": null,
            "grid_auto_columns": null,
            "margin": null,
            "display": null,
            "left": null
          }
        },
        "77488d0d61814622a3ad50975cd5f006": {
          "model_module": "@jupyter-widgets/controls",
          "model_name": "HTMLModel",
          "model_module_version": "1.5.0",
          "state": {
            "_view_name": "HTMLView",
            "style": "IPY_MODEL_f079a943c5094972954a1ab49d9efdc9",
            "_dom_classes": [],
            "description": "",
            "_model_name": "HTMLModel",
            "placeholder": "​",
            "_view_module": "@jupyter-widgets/controls",
            "_model_module_version": "1.5.0",
            "value": "Downloading: 100%",
            "_view_count": null,
            "_view_module_version": "1.5.0",
            "description_tooltip": null,
            "_model_module": "@jupyter-widgets/controls",
            "layout": "IPY_MODEL_f2521b8ca6444edd925c703f681c7e06"
          }
        },
        "bbf9703c8db34dbe81fb45647f68d39d": {
          "model_module": "@jupyter-widgets/controls",
          "model_name": "FloatProgressModel",
          "model_module_version": "1.5.0",
          "state": {
            "_view_name": "ProgressView",
            "style": "IPY_MODEL_0f91b4bade244f1bba027985afa2e454",
            "_dom_classes": [],
            "description": "",
            "_model_name": "FloatProgressModel",
            "bar_style": "success",
            "max": 898823,
            "_view_module": "@jupyter-widgets/controls",
            "_model_module_version": "1.5.0",
            "value": 898823,
            "_view_count": null,
            "_view_module_version": "1.5.0",
            "orientation": "horizontal",
            "min": 0,
            "description_tooltip": null,
            "_model_module": "@jupyter-widgets/controls",
            "layout": "IPY_MODEL_61d2ac199cfc4e42aaec5949e2f0d81f"
          }
        },
        "a9a4f444c5a04c359b19ad818fcc5610": {
          "model_module": "@jupyter-widgets/controls",
          "model_name": "HTMLModel",
          "model_module_version": "1.5.0",
          "state": {
            "_view_name": "HTMLView",
            "style": "IPY_MODEL_dc14a828ea634d8b82f59f48b2fcfa41",
            "_dom_classes": [],
            "description": "",
            "_model_name": "HTMLModel",
            "placeholder": "​",
            "_view_module": "@jupyter-widgets/controls",
            "_model_module_version": "1.5.0",
            "value": " 899k/899k [00:00&lt;00:00, 2.63MB/s]",
            "_view_count": null,
            "_view_module_version": "1.5.0",
            "description_tooltip": null,
            "_model_module": "@jupyter-widgets/controls",
            "layout": "IPY_MODEL_905bd41f68e74d0ca1af0ca65b309326"
          }
        },
        "f079a943c5094972954a1ab49d9efdc9": {
          "model_module": "@jupyter-widgets/controls",
          "model_name": "DescriptionStyleModel",
          "model_module_version": "1.5.0",
          "state": {
            "_view_name": "StyleView",
            "_model_name": "DescriptionStyleModel",
            "description_width": "",
            "_view_module": "@jupyter-widgets/base",
            "_model_module_version": "1.5.0",
            "_view_count": null,
            "_view_module_version": "1.2.0",
            "_model_module": "@jupyter-widgets/controls"
          }
        },
        "f2521b8ca6444edd925c703f681c7e06": {
          "model_module": "@jupyter-widgets/base",
          "model_name": "LayoutModel",
          "model_module_version": "1.2.0",
          "state": {
            "_view_name": "LayoutView",
            "grid_template_rows": null,
            "right": null,
            "justify_content": null,
            "_view_module": "@jupyter-widgets/base",
            "overflow": null,
            "_model_module_version": "1.2.0",
            "_view_count": null,
            "flex_flow": null,
            "width": null,
            "min_width": null,
            "border": null,
            "align_items": null,
            "bottom": null,
            "_model_module": "@jupyter-widgets/base",
            "top": null,
            "grid_column": null,
            "overflow_y": null,
            "overflow_x": null,
            "grid_auto_flow": null,
            "grid_area": null,
            "grid_template_columns": null,
            "flex": null,
            "_model_name": "LayoutModel",
            "justify_items": null,
            "grid_row": null,
            "max_height": null,
            "align_content": null,
            "visibility": null,
            "align_self": null,
            "height": null,
            "min_height": null,
            "padding": null,
            "grid_auto_rows": null,
            "grid_gap": null,
            "max_width": null,
            "order": null,
            "_view_module_version": "1.2.0",
            "grid_template_areas": null,
            "object_position": null,
            "object_fit": null,
            "grid_auto_columns": null,
            "margin": null,
            "display": null,
            "left": null
          }
        },
        "0f91b4bade244f1bba027985afa2e454": {
          "model_module": "@jupyter-widgets/controls",
          "model_name": "ProgressStyleModel",
          "model_module_version": "1.5.0",
          "state": {
            "_view_name": "StyleView",
            "_model_name": "ProgressStyleModel",
            "description_width": "",
            "_view_module": "@jupyter-widgets/base",
            "_model_module_version": "1.5.0",
            "_view_count": null,
            "_view_module_version": "1.2.0",
            "bar_color": null,
            "_model_module": "@jupyter-widgets/controls"
          }
        },
        "61d2ac199cfc4e42aaec5949e2f0d81f": {
          "model_module": "@jupyter-widgets/base",
          "model_name": "LayoutModel",
          "model_module_version": "1.2.0",
          "state": {
            "_view_name": "LayoutView",
            "grid_template_rows": null,
            "right": null,
            "justify_content": null,
            "_view_module": "@jupyter-widgets/base",
            "overflow": null,
            "_model_module_version": "1.2.0",
            "_view_count": null,
            "flex_flow": null,
            "width": null,
            "min_width": null,
            "border": null,
            "align_items": null,
            "bottom": null,
            "_model_module": "@jupyter-widgets/base",
            "top": null,
            "grid_column": null,
            "overflow_y": null,
            "overflow_x": null,
            "grid_auto_flow": null,
            "grid_area": null,
            "grid_template_columns": null,
            "flex": null,
            "_model_name": "LayoutModel",
            "justify_items": null,
            "grid_row": null,
            "max_height": null,
            "align_content": null,
            "visibility": null,
            "align_self": null,
            "height": null,
            "min_height": null,
            "padding": null,
            "grid_auto_rows": null,
            "grid_gap": null,
            "max_width": null,
            "order": null,
            "_view_module_version": "1.2.0",
            "grid_template_areas": null,
            "object_position": null,
            "object_fit": null,
            "grid_auto_columns": null,
            "margin": null,
            "display": null,
            "left": null
          }
        },
        "dc14a828ea634d8b82f59f48b2fcfa41": {
          "model_module": "@jupyter-widgets/controls",
          "model_name": "DescriptionStyleModel",
          "model_module_version": "1.5.0",
          "state": {
            "_view_name": "StyleView",
            "_model_name": "DescriptionStyleModel",
            "description_width": "",
            "_view_module": "@jupyter-widgets/base",
            "_model_module_version": "1.5.0",
            "_view_count": null,
            "_view_module_version": "1.2.0",
            "_model_module": "@jupyter-widgets/controls"
          }
        },
        "905bd41f68e74d0ca1af0ca65b309326": {
          "model_module": "@jupyter-widgets/base",
          "model_name": "LayoutModel",
          "model_module_version": "1.2.0",
          "state": {
            "_view_name": "LayoutView",
            "grid_template_rows": null,
            "right": null,
            "justify_content": null,
            "_view_module": "@jupyter-widgets/base",
            "overflow": null,
            "_model_module_version": "1.2.0",
            "_view_count": null,
            "flex_flow": null,
            "width": null,
            "min_width": null,
            "border": null,
            "align_items": null,
            "bottom": null,
            "_model_module": "@jupyter-widgets/base",
            "top": null,
            "grid_column": null,
            "overflow_y": null,
            "overflow_x": null,
            "grid_auto_flow": null,
            "grid_area": null,
            "grid_template_columns": null,
            "flex": null,
            "_model_name": "LayoutModel",
            "justify_items": null,
            "grid_row": null,
            "max_height": null,
            "align_content": null,
            "visibility": null,
            "align_self": null,
            "height": null,
            "min_height": null,
            "padding": null,
            "grid_auto_rows": null,
            "grid_gap": null,
            "max_width": null,
            "order": null,
            "_view_module_version": "1.2.0",
            "grid_template_areas": null,
            "object_position": null,
            "object_fit": null,
            "grid_auto_columns": null,
            "margin": null,
            "display": null,
            "left": null
          }
        },
        "0ef23a67af764382ad7108279e98f35c": {
          "model_module": "@jupyter-widgets/controls",
          "model_name": "HBoxModel",
          "model_module_version": "1.5.0",
          "state": {
            "_view_name": "HBoxView",
            "_dom_classes": [],
            "_model_name": "HBoxModel",
            "_view_module": "@jupyter-widgets/controls",
            "_model_module_version": "1.5.0",
            "_view_count": null,
            "_view_module_version": "1.5.0",
            "box_style": "",
            "layout": "IPY_MODEL_482669c37de942e094f3e9fa461000da",
            "_model_module": "@jupyter-widgets/controls",
            "children": [
              "IPY_MODEL_3b6b528d475c4f2e97e57ab21c5be412",
              "IPY_MODEL_50e1c4d4027a47d09606a55a84e565b4",
              "IPY_MODEL_50d7c00e50c34cd486578c79f40c6d82"
            ]
          }
        },
        "482669c37de942e094f3e9fa461000da": {
          "model_module": "@jupyter-widgets/base",
          "model_name": "LayoutModel",
          "model_module_version": "1.2.0",
          "state": {
            "_view_name": "LayoutView",
            "grid_template_rows": null,
            "right": null,
            "justify_content": null,
            "_view_module": "@jupyter-widgets/base",
            "overflow": null,
            "_model_module_version": "1.2.0",
            "_view_count": null,
            "flex_flow": null,
            "width": null,
            "min_width": null,
            "border": null,
            "align_items": null,
            "bottom": null,
            "_model_module": "@jupyter-widgets/base",
            "top": null,
            "grid_column": null,
            "overflow_y": null,
            "overflow_x": null,
            "grid_auto_flow": null,
            "grid_area": null,
            "grid_template_columns": null,
            "flex": null,
            "_model_name": "LayoutModel",
            "justify_items": null,
            "grid_row": null,
            "max_height": null,
            "align_content": null,
            "visibility": null,
            "align_self": null,
            "height": null,
            "min_height": null,
            "padding": null,
            "grid_auto_rows": null,
            "grid_gap": null,
            "max_width": null,
            "order": null,
            "_view_module_version": "1.2.0",
            "grid_template_areas": null,
            "object_position": null,
            "object_fit": null,
            "grid_auto_columns": null,
            "margin": null,
            "display": null,
            "left": null
          }
        },
        "3b6b528d475c4f2e97e57ab21c5be412": {
          "model_module": "@jupyter-widgets/controls",
          "model_name": "HTMLModel",
          "model_module_version": "1.5.0",
          "state": {
            "_view_name": "HTMLView",
            "style": "IPY_MODEL_bbb22d53b6494e08a4bc71b65594c67e",
            "_dom_classes": [],
            "description": "",
            "_model_name": "HTMLModel",
            "placeholder": "​",
            "_view_module": "@jupyter-widgets/controls",
            "_model_module_version": "1.5.0",
            "value": "Downloading: 100%",
            "_view_count": null,
            "_view_module_version": "1.5.0",
            "description_tooltip": null,
            "_model_module": "@jupyter-widgets/controls",
            "layout": "IPY_MODEL_60f37768cb844d30af316c7fbb9dfa00"
          }
        },
        "50e1c4d4027a47d09606a55a84e565b4": {
          "model_module": "@jupyter-widgets/controls",
          "model_name": "FloatProgressModel",
          "model_module_version": "1.5.0",
          "state": {
            "_view_name": "ProgressView",
            "style": "IPY_MODEL_2abe2a61d24d404887e43af81a0bda3f",
            "_dom_classes": [],
            "description": "",
            "_model_name": "FloatProgressModel",
            "bar_style": "success",
            "max": 456318,
            "_view_module": "@jupyter-widgets/controls",
            "_model_module_version": "1.5.0",
            "value": 456318,
            "_view_count": null,
            "_view_module_version": "1.5.0",
            "orientation": "horizontal",
            "min": 0,
            "description_tooltip": null,
            "_model_module": "@jupyter-widgets/controls",
            "layout": "IPY_MODEL_d784027defde4f558273e9b20a5a4085"
          }
        },
        "50d7c00e50c34cd486578c79f40c6d82": {
          "model_module": "@jupyter-widgets/controls",
          "model_name": "HTMLModel",
          "model_module_version": "1.5.0",
          "state": {
            "_view_name": "HTMLView",
            "style": "IPY_MODEL_69865d6ce09546afba86ad831108491e",
            "_dom_classes": [],
            "description": "",
            "_model_name": "HTMLModel",
            "placeholder": "​",
            "_view_module": "@jupyter-widgets/controls",
            "_model_module_version": "1.5.0",
            "value": " 456k/456k [00:00&lt;00:00, 809kB/s]",
            "_view_count": null,
            "_view_module_version": "1.5.0",
            "description_tooltip": null,
            "_model_module": "@jupyter-widgets/controls",
            "layout": "IPY_MODEL_0844d5c3ef3e459ab835c4d017d7a28f"
          }
        },
        "bbb22d53b6494e08a4bc71b65594c67e": {
          "model_module": "@jupyter-widgets/controls",
          "model_name": "DescriptionStyleModel",
          "model_module_version": "1.5.0",
          "state": {
            "_view_name": "StyleView",
            "_model_name": "DescriptionStyleModel",
            "description_width": "",
            "_view_module": "@jupyter-widgets/base",
            "_model_module_version": "1.5.0",
            "_view_count": null,
            "_view_module_version": "1.2.0",
            "_model_module": "@jupyter-widgets/controls"
          }
        },
        "60f37768cb844d30af316c7fbb9dfa00": {
          "model_module": "@jupyter-widgets/base",
          "model_name": "LayoutModel",
          "model_module_version": "1.2.0",
          "state": {
            "_view_name": "LayoutView",
            "grid_template_rows": null,
            "right": null,
            "justify_content": null,
            "_view_module": "@jupyter-widgets/base",
            "overflow": null,
            "_model_module_version": "1.2.0",
            "_view_count": null,
            "flex_flow": null,
            "width": null,
            "min_width": null,
            "border": null,
            "align_items": null,
            "bottom": null,
            "_model_module": "@jupyter-widgets/base",
            "top": null,
            "grid_column": null,
            "overflow_y": null,
            "overflow_x": null,
            "grid_auto_flow": null,
            "grid_area": null,
            "grid_template_columns": null,
            "flex": null,
            "_model_name": "LayoutModel",
            "justify_items": null,
            "grid_row": null,
            "max_height": null,
            "align_content": null,
            "visibility": null,
            "align_self": null,
            "height": null,
            "min_height": null,
            "padding": null,
            "grid_auto_rows": null,
            "grid_gap": null,
            "max_width": null,
            "order": null,
            "_view_module_version": "1.2.0",
            "grid_template_areas": null,
            "object_position": null,
            "object_fit": null,
            "grid_auto_columns": null,
            "margin": null,
            "display": null,
            "left": null
          }
        },
        "2abe2a61d24d404887e43af81a0bda3f": {
          "model_module": "@jupyter-widgets/controls",
          "model_name": "ProgressStyleModel",
          "model_module_version": "1.5.0",
          "state": {
            "_view_name": "StyleView",
            "_model_name": "ProgressStyleModel",
            "description_width": "",
            "_view_module": "@jupyter-widgets/base",
            "_model_module_version": "1.5.0",
            "_view_count": null,
            "_view_module_version": "1.2.0",
            "bar_color": null,
            "_model_module": "@jupyter-widgets/controls"
          }
        },
        "d784027defde4f558273e9b20a5a4085": {
          "model_module": "@jupyter-widgets/base",
          "model_name": "LayoutModel",
          "model_module_version": "1.2.0",
          "state": {
            "_view_name": "LayoutView",
            "grid_template_rows": null,
            "right": null,
            "justify_content": null,
            "_view_module": "@jupyter-widgets/base",
            "overflow": null,
            "_model_module_version": "1.2.0",
            "_view_count": null,
            "flex_flow": null,
            "width": null,
            "min_width": null,
            "border": null,
            "align_items": null,
            "bottom": null,
            "_model_module": "@jupyter-widgets/base",
            "top": null,
            "grid_column": null,
            "overflow_y": null,
            "overflow_x": null,
            "grid_auto_flow": null,
            "grid_area": null,
            "grid_template_columns": null,
            "flex": null,
            "_model_name": "LayoutModel",
            "justify_items": null,
            "grid_row": null,
            "max_height": null,
            "align_content": null,
            "visibility": null,
            "align_self": null,
            "height": null,
            "min_height": null,
            "padding": null,
            "grid_auto_rows": null,
            "grid_gap": null,
            "max_width": null,
            "order": null,
            "_view_module_version": "1.2.0",
            "grid_template_areas": null,
            "object_position": null,
            "object_fit": null,
            "grid_auto_columns": null,
            "margin": null,
            "display": null,
            "left": null
          }
        },
        "69865d6ce09546afba86ad831108491e": {
          "model_module": "@jupyter-widgets/controls",
          "model_name": "DescriptionStyleModel",
          "model_module_version": "1.5.0",
          "state": {
            "_view_name": "StyleView",
            "_model_name": "DescriptionStyleModel",
            "description_width": "",
            "_view_module": "@jupyter-widgets/base",
            "_model_module_version": "1.5.0",
            "_view_count": null,
            "_view_module_version": "1.2.0",
            "_model_module": "@jupyter-widgets/controls"
          }
        },
        "0844d5c3ef3e459ab835c4d017d7a28f": {
          "model_module": "@jupyter-widgets/base",
          "model_name": "LayoutModel",
          "model_module_version": "1.2.0",
          "state": {
            "_view_name": "LayoutView",
            "grid_template_rows": null,
            "right": null,
            "justify_content": null,
            "_view_module": "@jupyter-widgets/base",
            "overflow": null,
            "_model_module_version": "1.2.0",
            "_view_count": null,
            "flex_flow": null,
            "width": null,
            "min_width": null,
            "border": null,
            "align_items": null,
            "bottom": null,
            "_model_module": "@jupyter-widgets/base",
            "top": null,
            "grid_column": null,
            "overflow_y": null,
            "overflow_x": null,
            "grid_auto_flow": null,
            "grid_area": null,
            "grid_template_columns": null,
            "flex": null,
            "_model_name": "LayoutModel",
            "justify_items": null,
            "grid_row": null,
            "max_height": null,
            "align_content": null,
            "visibility": null,
            "align_self": null,
            "height": null,
            "min_height": null,
            "padding": null,
            "grid_auto_rows": null,
            "grid_gap": null,
            "max_width": null,
            "order": null,
            "_view_module_version": "1.2.0",
            "grid_template_areas": null,
            "object_position": null,
            "object_fit": null,
            "grid_auto_columns": null,
            "margin": null,
            "display": null,
            "left": null
          }
        },
        "7b97b04e1d00471ca3050aa0138c8d1b": {
          "model_module": "@jupyter-widgets/controls",
          "model_name": "HBoxModel",
          "model_module_version": "1.5.0",
          "state": {
            "_view_name": "HBoxView",
            "_dom_classes": [],
            "_model_name": "HBoxModel",
            "_view_module": "@jupyter-widgets/controls",
            "_model_module_version": "1.5.0",
            "_view_count": null,
            "_view_module_version": "1.5.0",
            "box_style": "",
            "layout": "IPY_MODEL_996f15a9dd3e4fc593e0396b523e815d",
            "_model_module": "@jupyter-widgets/controls",
            "children": [
              "IPY_MODEL_f8d91fd6769a4c72b85e51d0693129e3",
              "IPY_MODEL_5157b1ceb7334c5a883b3bc4b3b9bce7",
              "IPY_MODEL_8b02a97ab48741ad820a94e752a95708"
            ]
          }
        },
        "996f15a9dd3e4fc593e0396b523e815d": {
          "model_module": "@jupyter-widgets/base",
          "model_name": "LayoutModel",
          "model_module_version": "1.2.0",
          "state": {
            "_view_name": "LayoutView",
            "grid_template_rows": null,
            "right": null,
            "justify_content": null,
            "_view_module": "@jupyter-widgets/base",
            "overflow": null,
            "_model_module_version": "1.2.0",
            "_view_count": null,
            "flex_flow": null,
            "width": null,
            "min_width": null,
            "border": null,
            "align_items": null,
            "bottom": null,
            "_model_module": "@jupyter-widgets/base",
            "top": null,
            "grid_column": null,
            "overflow_y": null,
            "overflow_x": null,
            "grid_auto_flow": null,
            "grid_area": null,
            "grid_template_columns": null,
            "flex": null,
            "_model_name": "LayoutModel",
            "justify_items": null,
            "grid_row": null,
            "max_height": null,
            "align_content": null,
            "visibility": null,
            "align_self": null,
            "height": null,
            "min_height": null,
            "padding": null,
            "grid_auto_rows": null,
            "grid_gap": null,
            "max_width": null,
            "order": null,
            "_view_module_version": "1.2.0",
            "grid_template_areas": null,
            "object_position": null,
            "object_fit": null,
            "grid_auto_columns": null,
            "margin": null,
            "display": null,
            "left": null
          }
        },
        "f8d91fd6769a4c72b85e51d0693129e3": {
          "model_module": "@jupyter-widgets/controls",
          "model_name": "HTMLModel",
          "model_module_version": "1.5.0",
          "state": {
            "_view_name": "HTMLView",
            "style": "IPY_MODEL_5596f1ac6ed3494a8bcfaf6b2802c5be",
            "_dom_classes": [],
            "description": "",
            "_model_name": "HTMLModel",
            "placeholder": "​",
            "_view_module": "@jupyter-widgets/controls",
            "_model_module_version": "1.5.0",
            "value": "Downloading: 100%",
            "_view_count": null,
            "_view_module_version": "1.5.0",
            "description_tooltip": null,
            "_model_module": "@jupyter-widgets/controls",
            "layout": "IPY_MODEL_623deb41722e4ae38e25b8f8543f5167"
          }
        },
        "5157b1ceb7334c5a883b3bc4b3b9bce7": {
          "model_module": "@jupyter-widgets/controls",
          "model_name": "FloatProgressModel",
          "model_module_version": "1.5.0",
          "state": {
            "_view_name": "ProgressView",
            "style": "IPY_MODEL_41f37632f9d8402c8a2301256e1a784f",
            "_dom_classes": [],
            "description": "",
            "_model_name": "FloatProgressModel",
            "bar_style": "success",
            "max": 1355863,
            "_view_module": "@jupyter-widgets/controls",
            "_model_module_version": "1.5.0",
            "value": 1355863,
            "_view_count": null,
            "_view_module_version": "1.5.0",
            "orientation": "horizontal",
            "min": 0,
            "description_tooltip": null,
            "_model_module": "@jupyter-widgets/controls",
            "layout": "IPY_MODEL_9e15ac5430e946c2b66c926552d355a5"
          }
        },
        "8b02a97ab48741ad820a94e752a95708": {
          "model_module": "@jupyter-widgets/controls",
          "model_name": "HTMLModel",
          "model_module_version": "1.5.0",
          "state": {
            "_view_name": "HTMLView",
            "style": "IPY_MODEL_089b475a269c43309420e9a7d926648e",
            "_dom_classes": [],
            "description": "",
            "_model_name": "HTMLModel",
            "placeholder": "​",
            "_view_module": "@jupyter-widgets/controls",
            "_model_module_version": "1.5.0",
            "value": " 1.36M/1.36M [00:00&lt;00:00, 3.27MB/s]",
            "_view_count": null,
            "_view_module_version": "1.5.0",
            "description_tooltip": null,
            "_model_module": "@jupyter-widgets/controls",
            "layout": "IPY_MODEL_4ed9c6ed5742496ea4b97031ee5d6268"
          }
        },
        "5596f1ac6ed3494a8bcfaf6b2802c5be": {
          "model_module": "@jupyter-widgets/controls",
          "model_name": "DescriptionStyleModel",
          "model_module_version": "1.5.0",
          "state": {
            "_view_name": "StyleView",
            "_model_name": "DescriptionStyleModel",
            "description_width": "",
            "_view_module": "@jupyter-widgets/base",
            "_model_module_version": "1.5.0",
            "_view_count": null,
            "_view_module_version": "1.2.0",
            "_model_module": "@jupyter-widgets/controls"
          }
        },
        "623deb41722e4ae38e25b8f8543f5167": {
          "model_module": "@jupyter-widgets/base",
          "model_name": "LayoutModel",
          "model_module_version": "1.2.0",
          "state": {
            "_view_name": "LayoutView",
            "grid_template_rows": null,
            "right": null,
            "justify_content": null,
            "_view_module": "@jupyter-widgets/base",
            "overflow": null,
            "_model_module_version": "1.2.0",
            "_view_count": null,
            "flex_flow": null,
            "width": null,
            "min_width": null,
            "border": null,
            "align_items": null,
            "bottom": null,
            "_model_module": "@jupyter-widgets/base",
            "top": null,
            "grid_column": null,
            "overflow_y": null,
            "overflow_x": null,
            "grid_auto_flow": null,
            "grid_area": null,
            "grid_template_columns": null,
            "flex": null,
            "_model_name": "LayoutModel",
            "justify_items": null,
            "grid_row": null,
            "max_height": null,
            "align_content": null,
            "visibility": null,
            "align_self": null,
            "height": null,
            "min_height": null,
            "padding": null,
            "grid_auto_rows": null,
            "grid_gap": null,
            "max_width": null,
            "order": null,
            "_view_module_version": "1.2.0",
            "grid_template_areas": null,
            "object_position": null,
            "object_fit": null,
            "grid_auto_columns": null,
            "margin": null,
            "display": null,
            "left": null
          }
        },
        "41f37632f9d8402c8a2301256e1a784f": {
          "model_module": "@jupyter-widgets/controls",
          "model_name": "ProgressStyleModel",
          "model_module_version": "1.5.0",
          "state": {
            "_view_name": "StyleView",
            "_model_name": "ProgressStyleModel",
            "description_width": "",
            "_view_module": "@jupyter-widgets/base",
            "_model_module_version": "1.5.0",
            "_view_count": null,
            "_view_module_version": "1.2.0",
            "bar_color": null,
            "_model_module": "@jupyter-widgets/controls"
          }
        },
        "9e15ac5430e946c2b66c926552d355a5": {
          "model_module": "@jupyter-widgets/base",
          "model_name": "LayoutModel",
          "model_module_version": "1.2.0",
          "state": {
            "_view_name": "LayoutView",
            "grid_template_rows": null,
            "right": null,
            "justify_content": null,
            "_view_module": "@jupyter-widgets/base",
            "overflow": null,
            "_model_module_version": "1.2.0",
            "_view_count": null,
            "flex_flow": null,
            "width": null,
            "min_width": null,
            "border": null,
            "align_items": null,
            "bottom": null,
            "_model_module": "@jupyter-widgets/base",
            "top": null,
            "grid_column": null,
            "overflow_y": null,
            "overflow_x": null,
            "grid_auto_flow": null,
            "grid_area": null,
            "grid_template_columns": null,
            "flex": null,
            "_model_name": "LayoutModel",
            "justify_items": null,
            "grid_row": null,
            "max_height": null,
            "align_content": null,
            "visibility": null,
            "align_self": null,
            "height": null,
            "min_height": null,
            "padding": null,
            "grid_auto_rows": null,
            "grid_gap": null,
            "max_width": null,
            "order": null,
            "_view_module_version": "1.2.0",
            "grid_template_areas": null,
            "object_position": null,
            "object_fit": null,
            "grid_auto_columns": null,
            "margin": null,
            "display": null,
            "left": null
          }
        },
        "089b475a269c43309420e9a7d926648e": {
          "model_module": "@jupyter-widgets/controls",
          "model_name": "DescriptionStyleModel",
          "model_module_version": "1.5.0",
          "state": {
            "_view_name": "StyleView",
            "_model_name": "DescriptionStyleModel",
            "description_width": "",
            "_view_module": "@jupyter-widgets/base",
            "_model_module_version": "1.5.0",
            "_view_count": null,
            "_view_module_version": "1.2.0",
            "_model_module": "@jupyter-widgets/controls"
          }
        },
        "4ed9c6ed5742496ea4b97031ee5d6268": {
          "model_module": "@jupyter-widgets/base",
          "model_name": "LayoutModel",
          "model_module_version": "1.2.0",
          "state": {
            "_view_name": "LayoutView",
            "grid_template_rows": null,
            "right": null,
            "justify_content": null,
            "_view_module": "@jupyter-widgets/base",
            "overflow": null,
            "_model_module_version": "1.2.0",
            "_view_count": null,
            "flex_flow": null,
            "width": null,
            "min_width": null,
            "border": null,
            "align_items": null,
            "bottom": null,
            "_model_module": "@jupyter-widgets/base",
            "top": null,
            "grid_column": null,
            "overflow_y": null,
            "overflow_x": null,
            "grid_auto_flow": null,
            "grid_area": null,
            "grid_template_columns": null,
            "flex": null,
            "_model_name": "LayoutModel",
            "justify_items": null,
            "grid_row": null,
            "max_height": null,
            "align_content": null,
            "visibility": null,
            "align_self": null,
            "height": null,
            "min_height": null,
            "padding": null,
            "grid_auto_rows": null,
            "grid_gap": null,
            "max_width": null,
            "order": null,
            "_view_module_version": "1.2.0",
            "grid_template_areas": null,
            "object_position": null,
            "object_fit": null,
            "grid_auto_columns": null,
            "margin": null,
            "display": null,
            "left": null
          }
        },
        "330a6b378f764a55b935e9463d1bcdd7": {
          "model_module": "@jupyter-widgets/controls",
          "model_name": "HBoxModel",
          "model_module_version": "1.5.0",
          "state": {
            "_view_name": "HBoxView",
            "_dom_classes": [],
            "_model_name": "HBoxModel",
            "_view_module": "@jupyter-widgets/controls",
            "_model_module_version": "1.5.0",
            "_view_count": null,
            "_view_module_version": "1.5.0",
            "box_style": "",
            "layout": "IPY_MODEL_5c27aa4376f6432c8843411e6f2a8ca7",
            "_model_module": "@jupyter-widgets/controls",
            "children": [
              "IPY_MODEL_7195991715714036a4bf536a808b4669",
              "IPY_MODEL_e70c01d0d3ea49b0b645f63fbfbe69c8",
              "IPY_MODEL_d9600739e2e5442db2ed9af8609216d5"
            ]
          }
        },
        "5c27aa4376f6432c8843411e6f2a8ca7": {
          "model_module": "@jupyter-widgets/base",
          "model_name": "LayoutModel",
          "model_module_version": "1.2.0",
          "state": {
            "_view_name": "LayoutView",
            "grid_template_rows": null,
            "right": null,
            "justify_content": null,
            "_view_module": "@jupyter-widgets/base",
            "overflow": null,
            "_model_module_version": "1.2.0",
            "_view_count": null,
            "flex_flow": null,
            "width": null,
            "min_width": null,
            "border": null,
            "align_items": null,
            "bottom": null,
            "_model_module": "@jupyter-widgets/base",
            "top": null,
            "grid_column": null,
            "overflow_y": null,
            "overflow_x": null,
            "grid_auto_flow": null,
            "grid_area": null,
            "grid_template_columns": null,
            "flex": null,
            "_model_name": "LayoutModel",
            "justify_items": null,
            "grid_row": null,
            "max_height": null,
            "align_content": null,
            "visibility": null,
            "align_self": null,
            "height": null,
            "min_height": null,
            "padding": null,
            "grid_auto_rows": null,
            "grid_gap": null,
            "max_width": null,
            "order": null,
            "_view_module_version": "1.2.0",
            "grid_template_areas": null,
            "object_position": null,
            "object_fit": null,
            "grid_auto_columns": null,
            "margin": null,
            "display": null,
            "left": null
          }
        },
        "7195991715714036a4bf536a808b4669": {
          "model_module": "@jupyter-widgets/controls",
          "model_name": "HTMLModel",
          "model_module_version": "1.5.0",
          "state": {
            "_view_name": "HTMLView",
            "style": "IPY_MODEL_2d4d270c383d4c7091e37695905534df",
            "_dom_classes": [],
            "description": "",
            "_model_name": "HTMLModel",
            "placeholder": "​",
            "_view_module": "@jupyter-widgets/controls",
            "_model_module_version": "1.5.0",
            "value": "Downloading: 100%",
            "_view_count": null,
            "_view_module_version": "1.5.0",
            "description_tooltip": null,
            "_model_module": "@jupyter-widgets/controls",
            "layout": "IPY_MODEL_e471c909ea954b468898d7a79a37dc01"
          }
        },
        "e70c01d0d3ea49b0b645f63fbfbe69c8": {
          "model_module": "@jupyter-widgets/controls",
          "model_name": "FloatProgressModel",
          "model_module_version": "1.5.0",
          "state": {
            "_view_name": "ProgressView",
            "style": "IPY_MODEL_4650cfb266f1405ba423bf8210b1b047",
            "_dom_classes": [],
            "description": "",
            "_model_name": "FloatProgressModel",
            "bar_style": "success",
            "max": 481,
            "_view_module": "@jupyter-widgets/controls",
            "_model_module_version": "1.5.0",
            "value": 481,
            "_view_count": null,
            "_view_module_version": "1.5.0",
            "orientation": "horizontal",
            "min": 0,
            "description_tooltip": null,
            "_model_module": "@jupyter-widgets/controls",
            "layout": "IPY_MODEL_07f2849601b44e2c8d766c70d2747bf9"
          }
        },
        "d9600739e2e5442db2ed9af8609216d5": {
          "model_module": "@jupyter-widgets/controls",
          "model_name": "HTMLModel",
          "model_module_version": "1.5.0",
          "state": {
            "_view_name": "HTMLView",
            "style": "IPY_MODEL_149cc38bbe77480db63677a400174a10",
            "_dom_classes": [],
            "description": "",
            "_model_name": "HTMLModel",
            "placeholder": "​",
            "_view_module": "@jupyter-widgets/controls",
            "_model_module_version": "1.5.0",
            "value": " 481/481 [00:00&lt;00:00, 11.2kB/s]",
            "_view_count": null,
            "_view_module_version": "1.5.0",
            "description_tooltip": null,
            "_model_module": "@jupyter-widgets/controls",
            "layout": "IPY_MODEL_72636b84c93148d6beb025170dff5809"
          }
        },
        "2d4d270c383d4c7091e37695905534df": {
          "model_module": "@jupyter-widgets/controls",
          "model_name": "DescriptionStyleModel",
          "model_module_version": "1.5.0",
          "state": {
            "_view_name": "StyleView",
            "_model_name": "DescriptionStyleModel",
            "description_width": "",
            "_view_module": "@jupyter-widgets/base",
            "_model_module_version": "1.5.0",
            "_view_count": null,
            "_view_module_version": "1.2.0",
            "_model_module": "@jupyter-widgets/controls"
          }
        },
        "e471c909ea954b468898d7a79a37dc01": {
          "model_module": "@jupyter-widgets/base",
          "model_name": "LayoutModel",
          "model_module_version": "1.2.0",
          "state": {
            "_view_name": "LayoutView",
            "grid_template_rows": null,
            "right": null,
            "justify_content": null,
            "_view_module": "@jupyter-widgets/base",
            "overflow": null,
            "_model_module_version": "1.2.0",
            "_view_count": null,
            "flex_flow": null,
            "width": null,
            "min_width": null,
            "border": null,
            "align_items": null,
            "bottom": null,
            "_model_module": "@jupyter-widgets/base",
            "top": null,
            "grid_column": null,
            "overflow_y": null,
            "overflow_x": null,
            "grid_auto_flow": null,
            "grid_area": null,
            "grid_template_columns": null,
            "flex": null,
            "_model_name": "LayoutModel",
            "justify_items": null,
            "grid_row": null,
            "max_height": null,
            "align_content": null,
            "visibility": null,
            "align_self": null,
            "height": null,
            "min_height": null,
            "padding": null,
            "grid_auto_rows": null,
            "grid_gap": null,
            "max_width": null,
            "order": null,
            "_view_module_version": "1.2.0",
            "grid_template_areas": null,
            "object_position": null,
            "object_fit": null,
            "grid_auto_columns": null,
            "margin": null,
            "display": null,
            "left": null
          }
        },
        "4650cfb266f1405ba423bf8210b1b047": {
          "model_module": "@jupyter-widgets/controls",
          "model_name": "ProgressStyleModel",
          "model_module_version": "1.5.0",
          "state": {
            "_view_name": "StyleView",
            "_model_name": "ProgressStyleModel",
            "description_width": "",
            "_view_module": "@jupyter-widgets/base",
            "_model_module_version": "1.5.0",
            "_view_count": null,
            "_view_module_version": "1.2.0",
            "bar_color": null,
            "_model_module": "@jupyter-widgets/controls"
          }
        },
        "07f2849601b44e2c8d766c70d2747bf9": {
          "model_module": "@jupyter-widgets/base",
          "model_name": "LayoutModel",
          "model_module_version": "1.2.0",
          "state": {
            "_view_name": "LayoutView",
            "grid_template_rows": null,
            "right": null,
            "justify_content": null,
            "_view_module": "@jupyter-widgets/base",
            "overflow": null,
            "_model_module_version": "1.2.0",
            "_view_count": null,
            "flex_flow": null,
            "width": null,
            "min_width": null,
            "border": null,
            "align_items": null,
            "bottom": null,
            "_model_module": "@jupyter-widgets/base",
            "top": null,
            "grid_column": null,
            "overflow_y": null,
            "overflow_x": null,
            "grid_auto_flow": null,
            "grid_area": null,
            "grid_template_columns": null,
            "flex": null,
            "_model_name": "LayoutModel",
            "justify_items": null,
            "grid_row": null,
            "max_height": null,
            "align_content": null,
            "visibility": null,
            "align_self": null,
            "height": null,
            "min_height": null,
            "padding": null,
            "grid_auto_rows": null,
            "grid_gap": null,
            "max_width": null,
            "order": null,
            "_view_module_version": "1.2.0",
            "grid_template_areas": null,
            "object_position": null,
            "object_fit": null,
            "grid_auto_columns": null,
            "margin": null,
            "display": null,
            "left": null
          }
        },
        "149cc38bbe77480db63677a400174a10": {
          "model_module": "@jupyter-widgets/controls",
          "model_name": "DescriptionStyleModel",
          "model_module_version": "1.5.0",
          "state": {
            "_view_name": "StyleView",
            "_model_name": "DescriptionStyleModel",
            "description_width": "",
            "_view_module": "@jupyter-widgets/base",
            "_model_module_version": "1.5.0",
            "_view_count": null,
            "_view_module_version": "1.2.0",
            "_model_module": "@jupyter-widgets/controls"
          }
        },
        "72636b84c93148d6beb025170dff5809": {
          "model_module": "@jupyter-widgets/base",
          "model_name": "LayoutModel",
          "model_module_version": "1.2.0",
          "state": {
            "_view_name": "LayoutView",
            "grid_template_rows": null,
            "right": null,
            "justify_content": null,
            "_view_module": "@jupyter-widgets/base",
            "overflow": null,
            "_model_module_version": "1.2.0",
            "_view_count": null,
            "flex_flow": null,
            "width": null,
            "min_width": null,
            "border": null,
            "align_items": null,
            "bottom": null,
            "_model_module": "@jupyter-widgets/base",
            "top": null,
            "grid_column": null,
            "overflow_y": null,
            "overflow_x": null,
            "grid_auto_flow": null,
            "grid_area": null,
            "grid_template_columns": null,
            "flex": null,
            "_model_name": "LayoutModel",
            "justify_items": null,
            "grid_row": null,
            "max_height": null,
            "align_content": null,
            "visibility": null,
            "align_self": null,
            "height": null,
            "min_height": null,
            "padding": null,
            "grid_auto_rows": null,
            "grid_gap": null,
            "max_width": null,
            "order": null,
            "_view_module_version": "1.2.0",
            "grid_template_areas": null,
            "object_position": null,
            "object_fit": null,
            "grid_auto_columns": null,
            "margin": null,
            "display": null,
            "left": null
          }
        },
        "c4455cca9ce642afa25a569c3d68bda3": {
          "model_module": "@jupyter-widgets/controls",
          "model_name": "HBoxModel",
          "model_module_version": "1.5.0",
          "state": {
            "_view_name": "HBoxView",
            "_dom_classes": [],
            "_model_name": "HBoxModel",
            "_view_module": "@jupyter-widgets/controls",
            "_model_module_version": "1.5.0",
            "_view_count": null,
            "_view_module_version": "1.5.0",
            "box_style": "",
            "layout": "IPY_MODEL_b57a1911e1664bef878d91463000f4d3",
            "_model_module": "@jupyter-widgets/controls",
            "children": [
              "IPY_MODEL_a2af5631b7b84413b7c44d1517d4406c",
              "IPY_MODEL_7f438551a36a457e9d8c7dc512bf29ef",
              "IPY_MODEL_8e039f61e4a447caa34139a9799992d2"
            ]
          }
        },
        "b57a1911e1664bef878d91463000f4d3": {
          "model_module": "@jupyter-widgets/base",
          "model_name": "LayoutModel",
          "model_module_version": "1.2.0",
          "state": {
            "_view_name": "LayoutView",
            "grid_template_rows": null,
            "right": null,
            "justify_content": null,
            "_view_module": "@jupyter-widgets/base",
            "overflow": null,
            "_model_module_version": "1.2.0",
            "_view_count": null,
            "flex_flow": null,
            "width": null,
            "min_width": null,
            "border": null,
            "align_items": null,
            "bottom": null,
            "_model_module": "@jupyter-widgets/base",
            "top": null,
            "grid_column": null,
            "overflow_y": null,
            "overflow_x": null,
            "grid_auto_flow": null,
            "grid_area": null,
            "grid_template_columns": null,
            "flex": null,
            "_model_name": "LayoutModel",
            "justify_items": null,
            "grid_row": null,
            "max_height": null,
            "align_content": null,
            "visibility": null,
            "align_self": null,
            "height": null,
            "min_height": null,
            "padding": null,
            "grid_auto_rows": null,
            "grid_gap": null,
            "max_width": null,
            "order": null,
            "_view_module_version": "1.2.0",
            "grid_template_areas": null,
            "object_position": null,
            "object_fit": null,
            "grid_auto_columns": null,
            "margin": null,
            "display": null,
            "left": null
          }
        },
        "a2af5631b7b84413b7c44d1517d4406c": {
          "model_module": "@jupyter-widgets/controls",
          "model_name": "HTMLModel",
          "model_module_version": "1.5.0",
          "state": {
            "_view_name": "HTMLView",
            "style": "IPY_MODEL_a57286b625844e97996b1ce216442435",
            "_dom_classes": [],
            "description": "",
            "_model_name": "HTMLModel",
            "placeholder": "​",
            "_view_module": "@jupyter-widgets/controls",
            "_model_module_version": "1.5.0",
            "value": "Downloading: 100%",
            "_view_count": null,
            "_view_module_version": "1.5.0",
            "description_tooltip": null,
            "_model_module": "@jupyter-widgets/controls",
            "layout": "IPY_MODEL_b66e050ae9ae4d5eb610930519f5ff0f"
          }
        },
        "7f438551a36a457e9d8c7dc512bf29ef": {
          "model_module": "@jupyter-widgets/controls",
          "model_name": "FloatProgressModel",
          "model_module_version": "1.5.0",
          "state": {
            "_view_name": "ProgressView",
            "style": "IPY_MODEL_b96831207a874bc1aad6bb1938fcb6fd",
            "_dom_classes": [],
            "description": "",
            "_model_name": "FloatProgressModel",
            "bar_style": "success",
            "max": 657434796,
            "_view_module": "@jupyter-widgets/controls",
            "_model_module_version": "1.5.0",
            "value": 657434796,
            "_view_count": null,
            "_view_module_version": "1.5.0",
            "orientation": "horizontal",
            "min": 0,
            "description_tooltip": null,
            "_model_module": "@jupyter-widgets/controls",
            "layout": "IPY_MODEL_b45024f810b14494bcf31809cea399a1"
          }
        },
        "8e039f61e4a447caa34139a9799992d2": {
          "model_module": "@jupyter-widgets/controls",
          "model_name": "HTMLModel",
          "model_module_version": "1.5.0",
          "state": {
            "_view_name": "HTMLView",
            "style": "IPY_MODEL_eababfd86cbc4b239287c8b1a8ccdee7",
            "_dom_classes": [],
            "description": "",
            "_model_name": "HTMLModel",
            "placeholder": "​",
            "_view_module": "@jupyter-widgets/controls",
            "_model_module_version": "1.5.0",
            "value": " 657M/657M [00:21&lt;00:00, 33.3MB/s]",
            "_view_count": null,
            "_view_module_version": "1.5.0",
            "description_tooltip": null,
            "_model_module": "@jupyter-widgets/controls",
            "layout": "IPY_MODEL_691f8c143c494caebdec242eb60cccff"
          }
        },
        "a57286b625844e97996b1ce216442435": {
          "model_module": "@jupyter-widgets/controls",
          "model_name": "DescriptionStyleModel",
          "model_module_version": "1.5.0",
          "state": {
            "_view_name": "StyleView",
            "_model_name": "DescriptionStyleModel",
            "description_width": "",
            "_view_module": "@jupyter-widgets/base",
            "_model_module_version": "1.5.0",
            "_view_count": null,
            "_view_module_version": "1.2.0",
            "_model_module": "@jupyter-widgets/controls"
          }
        },
        "b66e050ae9ae4d5eb610930519f5ff0f": {
          "model_module": "@jupyter-widgets/base",
          "model_name": "LayoutModel",
          "model_module_version": "1.2.0",
          "state": {
            "_view_name": "LayoutView",
            "grid_template_rows": null,
            "right": null,
            "justify_content": null,
            "_view_module": "@jupyter-widgets/base",
            "overflow": null,
            "_model_module_version": "1.2.0",
            "_view_count": null,
            "flex_flow": null,
            "width": null,
            "min_width": null,
            "border": null,
            "align_items": null,
            "bottom": null,
            "_model_module": "@jupyter-widgets/base",
            "top": null,
            "grid_column": null,
            "overflow_y": null,
            "overflow_x": null,
            "grid_auto_flow": null,
            "grid_area": null,
            "grid_template_columns": null,
            "flex": null,
            "_model_name": "LayoutModel",
            "justify_items": null,
            "grid_row": null,
            "max_height": null,
            "align_content": null,
            "visibility": null,
            "align_self": null,
            "height": null,
            "min_height": null,
            "padding": null,
            "grid_auto_rows": null,
            "grid_gap": null,
            "max_width": null,
            "order": null,
            "_view_module_version": "1.2.0",
            "grid_template_areas": null,
            "object_position": null,
            "object_fit": null,
            "grid_auto_columns": null,
            "margin": null,
            "display": null,
            "left": null
          }
        },
        "b96831207a874bc1aad6bb1938fcb6fd": {
          "model_module": "@jupyter-widgets/controls",
          "model_name": "ProgressStyleModel",
          "model_module_version": "1.5.0",
          "state": {
            "_view_name": "StyleView",
            "_model_name": "ProgressStyleModel",
            "description_width": "",
            "_view_module": "@jupyter-widgets/base",
            "_model_module_version": "1.5.0",
            "_view_count": null,
            "_view_module_version": "1.2.0",
            "bar_color": null,
            "_model_module": "@jupyter-widgets/controls"
          }
        },
        "b45024f810b14494bcf31809cea399a1": {
          "model_module": "@jupyter-widgets/base",
          "model_name": "LayoutModel",
          "model_module_version": "1.2.0",
          "state": {
            "_view_name": "LayoutView",
            "grid_template_rows": null,
            "right": null,
            "justify_content": null,
            "_view_module": "@jupyter-widgets/base",
            "overflow": null,
            "_model_module_version": "1.2.0",
            "_view_count": null,
            "flex_flow": null,
            "width": null,
            "min_width": null,
            "border": null,
            "align_items": null,
            "bottom": null,
            "_model_module": "@jupyter-widgets/base",
            "top": null,
            "grid_column": null,
            "overflow_y": null,
            "overflow_x": null,
            "grid_auto_flow": null,
            "grid_area": null,
            "grid_template_columns": null,
            "flex": null,
            "_model_name": "LayoutModel",
            "justify_items": null,
            "grid_row": null,
            "max_height": null,
            "align_content": null,
            "visibility": null,
            "align_self": null,
            "height": null,
            "min_height": null,
            "padding": null,
            "grid_auto_rows": null,
            "grid_gap": null,
            "max_width": null,
            "order": null,
            "_view_module_version": "1.2.0",
            "grid_template_areas": null,
            "object_position": null,
            "object_fit": null,
            "grid_auto_columns": null,
            "margin": null,
            "display": null,
            "left": null
          }
        },
        "eababfd86cbc4b239287c8b1a8ccdee7": {
          "model_module": "@jupyter-widgets/controls",
          "model_name": "DescriptionStyleModel",
          "model_module_version": "1.5.0",
          "state": {
            "_view_name": "StyleView",
            "_model_name": "DescriptionStyleModel",
            "description_width": "",
            "_view_module": "@jupyter-widgets/base",
            "_model_module_version": "1.5.0",
            "_view_count": null,
            "_view_module_version": "1.2.0",
            "_model_module": "@jupyter-widgets/controls"
          }
        },
        "691f8c143c494caebdec242eb60cccff": {
          "model_module": "@jupyter-widgets/base",
          "model_name": "LayoutModel",
          "model_module_version": "1.2.0",
          "state": {
            "_view_name": "LayoutView",
            "grid_template_rows": null,
            "right": null,
            "justify_content": null,
            "_view_module": "@jupyter-widgets/base",
            "overflow": null,
            "_model_module_version": "1.2.0",
            "_view_count": null,
            "flex_flow": null,
            "width": null,
            "min_width": null,
            "border": null,
            "align_items": null,
            "bottom": null,
            "_model_module": "@jupyter-widgets/base",
            "top": null,
            "grid_column": null,
            "overflow_y": null,
            "overflow_x": null,
            "grid_auto_flow": null,
            "grid_area": null,
            "grid_template_columns": null,
            "flex": null,
            "_model_name": "LayoutModel",
            "justify_items": null,
            "grid_row": null,
            "max_height": null,
            "align_content": null,
            "visibility": null,
            "align_self": null,
            "height": null,
            "min_height": null,
            "padding": null,
            "grid_auto_rows": null,
            "grid_gap": null,
            "max_width": null,
            "order": null,
            "_view_module_version": "1.2.0",
            "grid_template_areas": null,
            "object_position": null,
            "object_fit": null,
            "grid_auto_columns": null,
            "margin": null,
            "display": null,
            "left": null
          }
        }
      }
    }
  },
  "cells": [
    {
      "cell_type": "code",
      "metadata": {
        "id": "BIfuN384tvko"
      },
      "source": [
        "from google.colab import drive\n",
        "drive.mount('/content/drive')"
      ],
      "execution_count": null,
      "outputs": []
    },
    {
      "cell_type": "code",
      "metadata": {
        "id": "vfZkAKe-t22S"
      },
      "source": [
        "%cd /content/drive/My\\Drive/HumorDetection"
      ],
      "execution_count": null,
      "outputs": []
    },
    {
      "cell_type": "code",
      "metadata": {
        "id": "mSNi-x0Gwel_"
      },
      "source": [
        "!pip install transformers"
      ],
      "execution_count": null,
      "outputs": []
    },
    {
      "cell_type": "code",
      "metadata": {
        "colab": {
          "base_uri": "https://localhost:8080/"
        },
        "id": "agztcBjvuZFu",
        "outputId": "c3927365-9020-4ae3-f7f4-11c021717444"
      },
      "source": [
        "import nltk\n",
        "nltk.download('punkt')\n",
        "nltk.download('wordnet')\n",
        "nltk.download('stopwords')\n",
        "from nltk.tokenize import word_tokenize, TweetTokenizer\n",
        "from nltk.corpus import stopwords, wordnet\n",
        "from tqdm.notebook import tqdm\n",
        "import string\n",
        "import re\n",
        "import math\n",
        "import os\n",
        "import pickle\n",
        "import numpy as np\n",
        "import pandas as pd\n",
        "import seaborn as sns\n",
        "import matplotlib.pyplot as plt\n",
        "from wordcloud import WordCloud\n",
        "from collections import Counter\n",
        "from nltk.stem import WordNetLemmatizer\n",
        "from keras.models import Sequential, Model\n",
        "from keras.layers import Embedding, LSTM, GRU, Conv1D, Dense, Input, Bidirectional, Dropout, SpatialDropout1D, MaxPooling1D, Flatten, BatchNormalization\n",
        "from keras.callbacks import CSVLogger\n",
        "import tensorflow as tf\n",
        "from tensorflow import keras\n",
        "from tensorflow.keras import layers\n",
        "import tensorflow.keras.backend as K\n",
        "from tensorflow.keras.preprocessing.text import Tokenizer\n",
        "from tensorflow.keras.preprocessing.sequence import pad_sequences\n",
        "from transformers import TFBertModel, TFAlbertModel, TFRobertaModel, BertTokenizerFast, AlbertTokenizerFast, RobertaTokenizerFast\n",
        "from sklearn.metrics import *\n",
        "%matplotlib inline"
      ],
      "execution_count": 4,
      "outputs": [
        {
          "output_type": "stream",
          "name": "stdout",
          "text": [
            "[nltk_data] Downloading package punkt to /root/nltk_data...\n",
            "[nltk_data]   Unzipping tokenizers/punkt.zip.\n",
            "[nltk_data] Downloading package wordnet to /root/nltk_data...\n",
            "[nltk_data]   Unzipping corpora/wordnet.zip.\n",
            "[nltk_data] Downloading package stopwords to /root/nltk_data...\n",
            "[nltk_data]   Unzipping corpora/stopwords.zip.\n"
          ]
        }
      ]
    },
    {
      "cell_type": "code",
      "metadata": {
        "id": "5X05FmyhuqB9",
        "colab": {
          "base_uri": "https://localhost:8080/",
          "height": 35
        },
        "outputId": "c21c7a14-111c-49e9-e4bc-8081a2b48a57"
      },
      "source": [
        "tf.test.gpu_device_name()"
      ],
      "execution_count": 5,
      "outputs": [
        {
          "output_type": "execute_result",
          "data": {
            "application/vnd.google.colaboratory.intrinsic+json": {
              "type": "string"
            },
            "text/plain": [
              "'/device:GPU:0'"
            ]
          },
          "metadata": {},
          "execution_count": 5
        }
      ]
    },
    {
      "cell_type": "markdown",
      "metadata": {
        "id": "T-HOhC3TutC1"
      },
      "source": [
        "**Data preparation**"
      ]
    },
    {
      "cell_type": "code",
      "metadata": {
        "id": "f4QWrBFpuvU2"
      },
      "source": [
        "train_data = pd.read_csv('train.csv') \n",
        "dev_data = pd.read_csv('dev.csv')\n",
        "test_data = pd.read_csv('test.csv')"
      ],
      "execution_count": 6,
      "outputs": []
    },
    {
      "cell_type": "code",
      "metadata": {
        "id": "bc5jfAMru6YG"
      },
      "source": [
        "def preprocess_text(text):\n",
        "  \"\"\"\n",
        "  This function receives texts and returns clean word-list\n",
        "  \"\"\"\n",
        "  # convert to lower case\n",
        "  text = text.lower()\n",
        "  # cleaning: non-ASCII filtering, appostrophes etc.\n",
        "  text = re.sub(r\"’\", r\"'\", text)\n",
        "  text = re.sub(r\",\", \" \", text)\n",
        "  text = re.sub(r\"\\.\", \" \", text)\n",
        "  text = re.sub(r\"!\", \" \", text)\n",
        "  text = re.sub(r\"\\/\", \" \", text)\n",
        "  text = re.sub(r\"\\^\", \" \", text)\n",
        "  text = re.sub(r\"\\+\", \" \", text)\n",
        "  text = re.sub(r\"\\*\", \"\", text)\n",
        "  text = re.sub(r\"\\-\", \" \", text)\n",
        "  text = re.sub(r\"\\=\", \" \", text)\n",
        "  text = re.sub(r\":\", \" \", text)\n",
        "  text = re.sub(r\";\", \" \", text)\n",
        "  text = re.sub(r\"\\\"\", \" \", text)\n",
        "  text = re.sub(r\"“\", \" \", text)\n",
        "  text = re.sub(r\"\\&\", \" \", text)\n",
        "  text = re.sub(r\"\\?\", \" \", text)\n",
        "  text = re.sub(r\"\\(\", \" \", text)\n",
        "  text = re.sub(r\"\\)\", \" \", text)\n",
        "  text = re.sub(r\"-\", \" \", text)\n",
        "  text = re.sub(r\"”\", \" \", text)\n",
        "  text = re.sub(r\"%\", \" \", text)\n",
        "  text = re.sub(r\"‘\", \"'\", text)\n",
        "  text = re.sub(r\"@\", \" \", text)\n",
        "  text = re.sub(r\"\\$\", \" \", text)\n",
        "  text = re.sub(r\"–\", \" \", text)\n",
        "  text = re.sub(r\"£\", \" \", text)\n",
        "  text = re.sub(r\"{\", \" \", text)\n",
        "  text = re.sub(r\"}\", \" \", text)\n",
        "  text = re.sub(r\"・\", \" \", text)\n",
        "  text = re.sub(r\"\\.{3}\", \" \", text)\n",
        "  text = re.sub(r\"„\", \" \", text)\n",
        "  text = re.sub(r\"\\s{2,}\", \" \", text)\n",
        "\n",
        "  tokenizer = TweetTokenizer()\n",
        "  words = tokenizer.tokenize(text)\n",
        "\n",
        "  contractions = {\"aren't\": \"are not\", \"can't\": \"cannot\", \"couldn't\": \"could not\", \"didn't\": \"did not\", \"doesn't\": \"does not\", \"don't\": \"do not\",\n",
        "                  \"hadn't\": \"had not\", \"hasn't\": \"has not\", \"haven't\": \"have not\", \"he'd\": \"he would\", \"he'll\": \"he will\", \"he's\": \"he is\",\n",
        "                  \"i'd\": \"i would\", \"i'll\": \"i will\", \"i'm\": \"i am\", \"isn't\": \"is not\", \"it's\": \"it is\", \"it'll\": \"it will\",\n",
        "                  \"i've\": \"i have\", \"let's\": \"let us\", \"mightn't\": \"might not\", \"mustn't\": \"must not\", \"shan't\": \"shall not\", \"she'd\": \"she would\",\n",
        "                  \"she'll\": \"she will\", \"she's\": \"she is\", \"shouldn't\": \"should not\", \"that's\": \"that is\", \"there's\": \"there is\", \"they'd\": \"they would\",\n",
        "                  \"they'll\": \"they will\", \"they're\": \"they are\", \"they've\": \"they have\", \"we'd\": \"we would\", \"we're\": \"we are\", \"weren't\": \"were not\",\n",
        "                  \"we've\": \"we have\", \"what'll\": \"what will\", \"what're\": \"what are\", \"what's\": \"what is\", \"what've\": \"what have\", \"where's\": \"where is\",\n",
        "                  \"who'd\": \"who would\", \"who'll\": \"who will\", \"who're\": \"who are\", \"who's\": \"who is\", \"who've\": \"who have\", \"won't\": \"will not\",\n",
        "                  \"wouldn't\": \"would not\", \"you'd\": \"you would\", \"you'll\": \"you will\", \"you're\": \"you are\", \"you've\": \"you have\", \"'re\": \" are\",\n",
        "                  \"wasn't\": \"was not\", \"we'll\": \"we will\"}\n",
        "  words = [contractions[word] if word in contractions else word for word in words]\n",
        "\n",
        "  clean_text = \" \".join(words)\n",
        "  clean_text = re.sub(\"  \", \" \", clean_text)\n",
        "  return clean_text"
      ],
      "execution_count": 7,
      "outputs": []
    },
    {
      "cell_type": "code",
      "metadata": {
        "id": "RjUFMeB0u7CV"
      },
      "source": [
        "def calculate_metrics_classification(y_test, y_predicted):\n",
        "  print(classification_report(y_test, y_predicted))\n",
        "  plt.figure(figsize=(7,7))\n",
        "  sns.heatmap(confusion_matrix(y_test, y_predicted), annot=True, fmt='.5g')\n",
        "  plt.xlabel('Predicted')\n",
        "  plt.ylabel('Actual')\n",
        "  plt.title('Confusion matrix')\n",
        "  plt.show()"
      ],
      "execution_count": 8,
      "outputs": []
    },
    {
      "cell_type": "code",
      "metadata": {
        "id": "AjKrS4qVu-Xm"
      },
      "source": [
        "def load_embeddings(file_name, vocabulary):\n",
        "  \"\"\"\n",
        "  Loads word embeddings from the file with the given name.\n",
        "  :param file_name: name of the file containing word embeddings\n",
        "  :type file_name: str\n",
        "  :param vocabulary: captions vocabulary\n",
        "  :type vocabulary: numpy.array\n",
        "  :return: word embeddings\n",
        "  :rtype: dict\n",
        "  \"\"\"\n",
        "  embeddings = dict()\n",
        "  with open(file_name, 'r', encoding='utf-8') as doc:\n",
        "    line = doc.readline()\n",
        "    while line != '':\n",
        "      line = line.rstrip('\\n').lower()\n",
        "      parts = line.split(' ')\n",
        "      vals = np.array(parts[1:], dtype=np.float)\n",
        "      if parts[0] in vocabulary:\n",
        "        embeddings[parts[0]] = vals\n",
        "      line = doc.readline()\n",
        "  return embeddings"
      ],
      "execution_count": 9,
      "outputs": []
    },
    {
      "cell_type": "code",
      "metadata": {
        "id": "N6mhtEwMvD00"
      },
      "source": [
        "def load_embedding_weights(vocabulary, embedding_size):\n",
        "  \"\"\"\n",
        "  Creates and loads embedding weights.\n",
        "  :param vocabulary: captions vocabulary\n",
        "  :type vocabulary: numpy.array\n",
        "  :param embedding_size: embedding size\n",
        "  :type embedding_size: int\n",
        "  :return: embedding weights\n",
        "  :rtype: numpy.array\n",
        "  \"\"\"\n",
        "  if os.path.exists('embedding_matrix.pkl'):\n",
        "    with open('embedding_matrix.pkl', 'rb') as f:\n",
        "      embedding_matrix = pickle.load(f)\n",
        "  else:\n",
        "    print('Creating embedding weights...')\n",
        "    embeddings = load_embeddings(f'glove.twitter.27B.{embedding_size}d.txt', vocabulary)\n",
        "    embedding_matrix = np.zeros((len(vocabulary), embedding_size))\n",
        "    for i in range(len(vocabulary)):\n",
        "      if vocabulary[i] in embeddings.keys():\n",
        "        embedding_matrix[i] = embeddings[vocabulary[i]]\n",
        "      else:\n",
        "        embedding_matrix[i] = np.random.standard_normal(embedding_size)\n",
        "    with open('embedding_matrix.pkl', 'wb') as f:\n",
        "      pickle.dump(embedding_matrix, f)\n",
        "  return embedding_matrix"
      ],
      "execution_count": 10,
      "outputs": []
    },
    {
      "cell_type": "code",
      "metadata": {
        "id": "nze8CnCRvHmN"
      },
      "source": [
        "train_data['text'] = train_data['text'].apply(lambda x: preprocess_text(x))\n",
        "dev_data['text'] = dev_data['text'].apply(lambda x: preprocess_text(x))\n",
        "test_data['text'] = test_data['text'].apply(lambda x: preprocess_text(x))"
      ],
      "execution_count": 11,
      "outputs": []
    },
    {
      "cell_type": "code",
      "metadata": {
        "id": "zk3APmuH9XIZ"
      },
      "source": [
        "train_data = train_data.dropna()\n",
        "dev_data = dev_data.dropna()\n",
        "test_data = test_data.dropna()\n",
        "train_data.humor_controversy = train_data.humor_controversy.astype(int)\n",
        "dev_data.humor_controversy = dev_data.humor_controversy.astype(int)\n",
        "test_data.humor_controversy = test_data.humor_controversy.astype(int)"
      ],
      "execution_count": 12,
      "outputs": []
    },
    {
      "cell_type": "code",
      "metadata": {
        "colab": {
          "base_uri": "https://localhost:8080/"
        },
        "id": "3DhTnsMEu_FE",
        "outputId": "0608a150-264c-4ac6-8b79-b2c83fed0ddb"
      },
      "source": [
        "X_train = train_data['text']\n",
        "y_train = train_data['humor_controversy']\n",
        "count = sum([len(i.split()) for i in X_train])\n",
        "avg_length = math.ceil(count/len(X_train))\n",
        "print(\"Average length of all the texts is:\", avg_length)\n",
        "X_dev = dev_data['text']\n",
        "y_dev = dev_data['humor_controversy']\n",
        "X_test = test_data['text']\n",
        "y_test = test_data['humor_controversy']"
      ],
      "execution_count": 13,
      "outputs": [
        {
          "output_type": "stream",
          "name": "stdout",
          "text": [
            "Average length of all the texts is: 22\n"
          ]
        }
      ]
    },
    {
      "cell_type": "code",
      "metadata": {
        "id": "qpLLu5qg_bhe"
      },
      "source": [
        "X = X_train\n",
        "X = X.append(X_dev, ignore_index=True)\n",
        "X = X.append(X_test, ignore_index=True)\n",
        "y_train = np.array(y_train)\n",
        "y_train = y_train.reshape(-1, 1)\n",
        "y_dev = np.array(y_dev)\n",
        "y_dev = y_dev.reshape(-1, 1)\n",
        "y_test = np.array(y_test)\n",
        "y_test = y_test.reshape(-1, 1)"
      ],
      "execution_count": 14,
      "outputs": []
    },
    {
      "cell_type": "code",
      "metadata": {
        "id": "YxlICKHe_5Ll"
      },
      "source": [
        "# Setting tokenizer properties\n",
        "vocabulary_size = 20000\n",
        "tokenizer = Tokenizer(num_words=vocabulary_size)\n",
        "tokenizer.fit_on_texts(X)\n",
        "word_index = tokenizer.word_index\n",
        "# Setting the padding properties\n",
        "max_length = 50\n",
        "trunc_type = 'post'\n",
        "padding_type = 'post'\n",
        "# Creating padded sequences from train and test data\n",
        "training_sequences = tokenizer.texts_to_sequences(X_train)\n",
        "training_padded = pad_sequences(training_sequences, maxlen=max_length, padding=padding_type, truncating=trunc_type)\n",
        "validation_sequences = tokenizer.texts_to_sequences(X_dev)\n",
        "validation_padded = pad_sequences(validation_sequences, maxlen=max_length, padding=padding_type, truncating=trunc_type)\n",
        "testing_sequences = tokenizer.texts_to_sequences(X_test)\n",
        "testing_padded = pad_sequences(testing_sequences, maxlen=max_length, padding=padding_type, truncating=trunc_type)\n",
        "all_sequences = tokenizer.texts_to_sequences(X)\n",
        "all_padded = pad_sequences(all_sequences, maxlen=max_length, padding=padding_type, truncating=trunc_type)"
      ],
      "execution_count": 15,
      "outputs": []
    },
    {
      "cell_type": "code",
      "metadata": {
        "id": "PGquoJ97ACeK"
      },
      "source": [
        "vocabulary = list(word_index.keys())\n",
        "vocabulary.insert(0, '<tok>')\n",
        "vocabulary_size = len(vocabulary)"
      ],
      "execution_count": 16,
      "outputs": []
    },
    {
      "cell_type": "code",
      "metadata": {
        "id": "LU_cFsmsJxZ9"
      },
      "source": [
        "# Converting the lists to numpy arrays for Tensorflow 2.x\n",
        "training_padded = np.array(training_padded)\n",
        "validation_padded = np.array(validation_padded)\n",
        "testing_padded = np.array(testing_padded)"
      ],
      "execution_count": 17,
      "outputs": []
    },
    {
      "cell_type": "code",
      "metadata": {
        "id": "Xnzz9nQPAIAf",
        "colab": {
          "base_uri": "https://localhost:8080/"
        },
        "outputId": "8f574314-f6d2-4ce7-f669-9b57294d6305"
      },
      "source": [
        "embedding_weights = load_embedding_weights(vocabulary, 100)\n",
        "embedding_dim = 100"
      ],
      "execution_count": 18,
      "outputs": [
        {
          "output_type": "stream",
          "name": "stdout",
          "text": [
            "Creating embedding weights...\n"
          ]
        }
      ]
    },
    {
      "cell_type": "code",
      "metadata": {
        "id": "qTIAOg59Bu0P"
      },
      "source": [
        "# Model with Embedding layer without initialized weights\n",
        "def build_LSTM1(vocabulary_size, max_len):\n",
        "  model = Sequential()\n",
        "  model.add(Embedding(vocabulary_size, 100, input_length=max_len))\n",
        "  model.add(Dropout(0.3))\n",
        "  model.add(LSTM(32))\n",
        "  model.add(Dense(1, activation='sigmoid'))\n",
        "  model.compile(loss='binary_crossentropy', optimizer='adam', metrics=['accuracy'])\n",
        "  model.summary()\n",
        "  return model"
      ],
      "execution_count": 19,
      "outputs": []
    },
    {
      "cell_type": "code",
      "metadata": {
        "id": "TTf7QiONCOhx"
      },
      "source": [
        "# Model with Embedding layer with initialized weights (without training)\n",
        "def build_LSTM2(vocabulary_size, max_len, embedding_matrix):\n",
        "  model = Sequential()\n",
        "  model.add(Embedding(vocabulary_size, 100, input_length=max_len, weights=[embedding_matrix], trainable=False))\n",
        "  model.add(Dropout(0.3))\n",
        "  model.add(LSTM(32))\n",
        "  model.add(Dense(1, activation='sigmoid'))\n",
        "  model.compile(loss='binary_crossentropy', optimizer='adam', metrics=['accuracy'])\n",
        "  model.summary()\n",
        "  return model"
      ],
      "execution_count": 20,
      "outputs": []
    },
    {
      "cell_type": "code",
      "metadata": {
        "id": "tKYgfbDgAJMe"
      },
      "source": [
        "# Model with Embedding layer with initialized weights (with training)\n",
        "def build_LSTM3(vocabulary_size, max_len, embedding_matrix):\n",
        "  model = Sequential()\n",
        "  model.add(Embedding(vocabulary_size, 100, input_length=max_len, weights=[embedding_matrix], trainable=True))\n",
        "  model.add(Dropout(0.3))\n",
        "  model.add(LSTM(32))\n",
        "  model.add(Dense(1, activation='sigmoid'))\n",
        "  model.compile(loss='binary_crossentropy', optimizer='adam', metrics=['accuracy'])\n",
        "  model.summary()\n",
        "  return model"
      ],
      "execution_count": 21,
      "outputs": []
    },
    {
      "cell_type": "code",
      "metadata": {
        "id": "XBm85JpSJfiI"
      },
      "source": [
        "# Model with Embedding layer without initialized weights\n",
        "def build_GRU1(vocabulary_size, max_len):\n",
        "  model = Sequential()\n",
        "  model.add(Embedding(vocabulary_size, 100, input_length=max_len))\n",
        "  model.add(Dropout(0.3))\n",
        "  model.add(GRU(32))\n",
        "  model.add(Dense(1, activation='sigmoid'))\n",
        "  model.compile(loss='binary_crossentropy', optimizer='adam', metrics=['accuracy'])\n",
        "  model.summary()\n",
        "  return model"
      ],
      "execution_count": 22,
      "outputs": []
    },
    {
      "cell_type": "code",
      "metadata": {
        "id": "QUn-sz6XJcTG"
      },
      "source": [
        "# Model with Embedding layer with initialized weights (without training)\n",
        "def build_GRU2(vocabulary_size, max_len, embedding_matrix):\n",
        "  model = Sequential()\n",
        "  model.add(Embedding(vocabulary_size, 100, input_length=max_len, weights=[embedding_matrix], trainable=False))\n",
        "  model.add(Dropout(0.3))\n",
        "  model.add(GRU(32))\n",
        "  model.add(Dense(1, activation='sigmoid'))\n",
        "  model.compile(loss='binary_crossentropy', optimizer='adam', metrics=['accuracy'])\n",
        "  model.summary()\n",
        "  return model"
      ],
      "execution_count": 23,
      "outputs": []
    },
    {
      "cell_type": "code",
      "metadata": {
        "id": "IWLAeKXBJOQc"
      },
      "source": [
        "# Model with Embedding layer with initialized weights (with training)\n",
        "def build_GRU3(vocabulary_size, max_len, embedding_matrix):\n",
        "  model = Sequential()\n",
        "  model.add(Embedding(vocabulary_size, 100, input_length=max_len, weights=[embedding_matrix], trainable=True))\n",
        "  model.add(Dropout(0.3))\n",
        "  model.add(GRU(32))\n",
        "  model.add(Dense(1, activation='sigmoid'))\n",
        "  model.compile(loss='binary_crossentropy', optimizer='adam', metrics=['accuracy'])\n",
        "  model.summary()\n",
        "  return model"
      ],
      "execution_count": 24,
      "outputs": []
    },
    {
      "cell_type": "code",
      "metadata": {
        "id": "7R0ZXIu4V0nR"
      },
      "source": [
        "def build_bidirectional_LSTM(vocabulary_size, max_len, embedding_matrix):\n",
        "  model = Sequential()\n",
        "  model.add(Embedding(vocabulary_size, 100, input_length=max_len, weights=[embedding_matrix], trainable=True))\n",
        "  model.add(SpatialDropout1D(0.3))\n",
        "  model.add(Dropout(0.3))\n",
        "  model.add(Bidirectional(LSTM(32, return_sequences=True)))\n",
        "  model.add(Bidirectional(LSTM(32)))\n",
        "  model.add(Dense(1, activation='sigmoid'))\n",
        "  model.compile(loss='binary_crossentropy', optimizer='adam', metrics=['accuracy'])\n",
        "  model.summary()\n",
        "  return model"
      ],
      "execution_count": 25,
      "outputs": []
    },
    {
      "cell_type": "code",
      "metadata": {
        "id": "JGG2eQygXhiM"
      },
      "source": [
        "def build_bidirectional_GRU(vocabulary_size, max_len, embedding_matrix):\n",
        "  model = Sequential()\n",
        "  model.add(Embedding(vocabulary_size, 100, input_length=max_len, weights=[embedding_matrix], trainable=True))\n",
        "  model.add(SpatialDropout1D(0.3))\n",
        "  model.add(Dropout(0.3))\n",
        "  model.add(Bidirectional(GRU(32, return_sequences=True)))\n",
        "  model.add(Bidirectional(GRU(32)))\n",
        "  model.add(Dense(1, activation='sigmoid'))\n",
        "  model.compile(loss='binary_crossentropy', optimizer='adam', metrics=['accuracy'])\n",
        "  model.summary()\n",
        "  return model"
      ],
      "execution_count": 26,
      "outputs": []
    },
    {
      "cell_type": "code",
      "metadata": {
        "id": "iGkS7PpSVNOG"
      },
      "source": [
        "def build_CNN(vocabulary_size, max_len, embedding_matrix):\n",
        "  model = Sequential()\n",
        "  model.add(Embedding(vocabulary_size, 100, input_length=max_len, weights=[embedding_matrix], trainable=True))\n",
        "  model.add(Conv1D(32, kernel_size=5, activation=\"relu\"))\n",
        "  model.add(Dropout(0.3))\n",
        "  model.add(Conv1D(16, kernel_size=3, activation=\"sigmoid\"))\n",
        "  model.add(MaxPooling1D(pool_size=3))\n",
        "  model.add(Flatten())\n",
        "  model.add(Dense(1, activation='sigmoid'))\n",
        "  model.compile(loss='binary_crossentropy', optimizer='adam', metrics=['accuracy'])\n",
        "  model.summary()\n",
        "  return model"
      ],
      "execution_count": 27,
      "outputs": []
    },
    {
      "cell_type": "code",
      "metadata": {
        "id": "j4Ep2rpRTM_X"
      },
      "source": [
        "def build_LSTM_CNN(vocabulary_size, max_len, embedding_matrix):\n",
        "  model = Sequential()\n",
        "  model.add(Embedding(vocabulary_size, 100, input_length=max_len, weights=[embedding_matrix], trainable=True))\n",
        "  model.add(Dropout(0.3))\n",
        "  model.add(Bidirectional(LSTM(64, return_sequences=True, dropout=0.3, recurrent_dropout=0.0)))\n",
        "  model.add(Conv1D(64, kernel_size=3, activation='relu', padding='valid', kernel_initializer='he_uniform'))\n",
        "  model.add(Flatten())\n",
        "  model.add(Dense(1, activation='sigmoid'))\n",
        "  model.compile(loss='binary_crossentropy', optimizer='adam', metrics=['accuracy'])\n",
        "  model.summary()\n",
        "  return model"
      ],
      "execution_count": 28,
      "outputs": []
    },
    {
      "cell_type": "code",
      "metadata": {
        "id": "TxgYsX6PTc9I"
      },
      "source": [
        "def build_CNN_LSTM(vocabulary_size, max_len, embedding_matrix):\n",
        "  model = Sequential()\n",
        "  model.add(Embedding(vocabulary_size, 100, input_length=max_len, weights=[embedding_matrix], trainable=True))\n",
        "  model.add(SpatialDropout1D(0.4))\n",
        "  model.add(Conv1D(64, kernel_size=4, activation='relu', padding='valid', kernel_initializer='he_uniform'))\n",
        "  model.add(MaxPooling1D(pool_size=4))\n",
        "  model.add(Bidirectional(LSTM(32, dropout=0.2, recurrent_dropout=0.0)))\n",
        "  model.add(Dense(1, activation='sigmoid'))\n",
        "  model.compile(loss='binary_crossentropy', optimizer='adam', metrics=['accuracy'])\n",
        "  model.summary()\n",
        "  return model"
      ],
      "execution_count": 29,
      "outputs": []
    },
    {
      "cell_type": "code",
      "metadata": {
        "id": "2PeZW15RLHlv"
      },
      "source": [
        "def plot_graph_loss(history):\n",
        "  # Evaluating Accuracy and Loss of the model\n",
        "  accuracy = history.history['accuracy']\n",
        "  val_accuracy = history.history['val_accuracy']\n",
        "  loss = history.history['loss']\n",
        "  val_loss = history.history['val_loss']\n",
        "  epochs = range(len(accuracy)) # Number of epochs\n",
        "\n",
        "  # Plot training and validation accuracy per epoch\n",
        "  plt.plot(epochs, accuracy, label='Training Accuracy')\n",
        "  plt.plot(epochs, val_accuracy, label='Validation Accuracy')\n",
        "  plt.legend()\n",
        "  plt.xlabel('Epoch')\n",
        "  plt.ylabel('Accuracy')\n",
        "  plt.figure()\n",
        "\n",
        "  # Plot training and validation loss per epoch\n",
        "  plt.plot(epochs, loss, label='Training Loss')\n",
        "  plt.plot(epochs, val_loss, label='Validation Loss')\n",
        "  plt.legend()\n",
        "  plt.xlabel('Epoch')\n",
        "  plt.ylabel('Loss')\n",
        "  plt.show()"
      ],
      "execution_count": 30,
      "outputs": []
    },
    {
      "cell_type": "markdown",
      "metadata": {
        "id": "iAvElOnSNDCS"
      },
      "source": [
        "**LSTM Model 1**"
      ]
    },
    {
      "cell_type": "code",
      "metadata": {
        "colab": {
          "base_uri": "https://localhost:8080/"
        },
        "id": "9gNdSgKzKJ3W",
        "outputId": "cfad639f-369a-4b74-a38c-ebae12ca6021"
      },
      "source": [
        "lstm_model1 = build_LSTM1(vocabulary_size, max_length)\n",
        "history = lstm_model1.fit(training_padded, y_train, epochs=10, validation_data=(validation_padded, y_dev), verbose=1)"
      ],
      "execution_count": 31,
      "outputs": [
        {
          "output_type": "stream",
          "name": "stdout",
          "text": [
            "Model: \"sequential\"\n",
            "_________________________________________________________________\n",
            "Layer (type)                 Output Shape              Param #   \n",
            "=================================================================\n",
            "embedding (Embedding)        (None, 50, 100)           1144800   \n",
            "_________________________________________________________________\n",
            "dropout (Dropout)            (None, 50, 100)           0         \n",
            "_________________________________________________________________\n",
            "lstm (LSTM)                  (None, 32)                17024     \n",
            "_________________________________________________________________\n",
            "dense (Dense)                (None, 1)                 33        \n",
            "=================================================================\n",
            "Total params: 1,161,857\n",
            "Trainable params: 1,161,857\n",
            "Non-trainable params: 0\n",
            "_________________________________________________________________\n",
            "Epoch 1/10\n",
            "155/155 [==============================] - 10s 18ms/step - loss: 0.6943 - accuracy: 0.5075 - val_loss: 0.6932 - val_accuracy: 0.4842\n",
            "Epoch 2/10\n",
            "155/155 [==============================] - 2s 14ms/step - loss: 0.6932 - accuracy: 0.5059 - val_loss: 0.6935 - val_accuracy: 0.4873\n",
            "Epoch 3/10\n",
            "155/155 [==============================] - 2s 14ms/step - loss: 0.6927 - accuracy: 0.5152 - val_loss: 0.6987 - val_accuracy: 0.5127\n",
            "Epoch 4/10\n",
            "155/155 [==============================] - 2s 14ms/step - loss: 0.6864 - accuracy: 0.5479 - val_loss: 0.6976 - val_accuracy: 0.4873\n",
            "Epoch 5/10\n",
            "155/155 [==============================] - 2s 14ms/step - loss: 0.6444 - accuracy: 0.6438 - val_loss: 0.7501 - val_accuracy: 0.4589\n",
            "Epoch 6/10\n",
            "155/155 [==============================] - 2s 14ms/step - loss: 0.5544 - accuracy: 0.7453 - val_loss: 0.8616 - val_accuracy: 0.5047\n",
            "Epoch 7/10\n",
            "155/155 [==============================] - 2s 14ms/step - loss: 0.4937 - accuracy: 0.7946 - val_loss: 0.9888 - val_accuracy: 0.4794\n",
            "Epoch 8/10\n",
            "155/155 [==============================] - 2s 14ms/step - loss: 0.4000 - accuracy: 0.8528 - val_loss: 1.0098 - val_accuracy: 0.4731\n",
            "Epoch 9/10\n",
            "155/155 [==============================] - 2s 14ms/step - loss: 0.3227 - accuracy: 0.8919 - val_loss: 1.2202 - val_accuracy: 0.4889\n",
            "Epoch 10/10\n",
            "155/155 [==============================] - 2s 14ms/step - loss: 0.2685 - accuracy: 0.9171 - val_loss: 1.1720 - val_accuracy: 0.4636\n"
          ]
        }
      ]
    },
    {
      "cell_type": "code",
      "metadata": {
        "colab": {
          "base_uri": "https://localhost:8080/",
          "height": 541
        },
        "id": "5XQZ_EDULFl8",
        "outputId": "91a25f92-39ab-4afb-a352-805930105356"
      },
      "source": [
        "plot_graph_loss(history)"
      ],
      "execution_count": 32,
      "outputs": [
        {
          "output_type": "display_data",
          "data": {
            "image/png": "[encoded data removed]",
            "text/plain": [
              "<Figure size 432x288 with 1 Axes>"
            ]
          },
          "metadata": {
            "needs_background": "light"
          }
        },
        {
          "output_type": "display_data",
          "data": {
            "image/png": "[encoded data removed]",
            "text/plain": [
              "<Figure size 432x288 with 1 Axes>"
            ]
          },
          "metadata": {
            "needs_background": "light"
          }
        }
      ]
    },
    {
      "cell_type": "code",
      "metadata": {
        "colab": {
          "base_uri": "https://localhost:8080/",
          "height": 611
        },
        "id": "9jG4y_-YMErE",
        "outputId": "79a0e987-1635-4f39-8e24-3c6bfe760f82"
      },
      "source": [
        "predictions = lstm_model1.predict(testing_padded)\n",
        "predictions = predictions.flatten()\n",
        "predictions = np.where(predictions >= 0.5, 1, 0)\n",
        "calculate_metrics_classification(y_test, predictions)"
      ],
      "execution_count": 33,
      "outputs": [
        {
          "output_type": "stream",
          "name": "stdout",
          "text": [
            "              precision    recall  f1-score   support\n",
            "\n",
            "           0       0.56      0.57      0.57       336\n",
            "           1       0.47      0.46      0.47       279\n",
            "\n",
            "    accuracy                           0.52       615\n",
            "   macro avg       0.52      0.52      0.52       615\n",
            "weighted avg       0.52      0.52      0.52       615\n",
            "\n"
          ]
        },
        {
          "output_type": "display_data",
          "data": {
            "image/png": "[encoded data removed]",
            "text/plain": [
              "<Figure size 504x504 with 2 Axes>"
            ]
          },
          "metadata": {
            "needs_background": "light"
          }
        }
      ]
    },
    {
      "cell_type": "markdown",
      "metadata": {
        "id": "qpRm9e67NGtL"
      },
      "source": [
        "**LSTM Model 2**"
      ]
    },
    {
      "cell_type": "code",
      "metadata": {
        "id": "MTo907eJUtKy",
        "colab": {
          "base_uri": "https://localhost:8080/"
        },
        "outputId": "fb88db5f-56b0-4f90-d1f7-d702ce67af32"
      },
      "source": [
        "lstm_model2 = build_LSTM2(vocabulary_size, max_length, embedding_weights)\n",
        "history = lstm_model2.fit(training_padded, y_train, epochs=100, validation_data=(validation_padded, y_dev), verbose=1)"
      ],
      "execution_count": 34,
      "outputs": [
        {
          "output_type": "stream",
          "name": "stdout",
          "text": [
            "Model: \"sequential_1\"\n",
            "_________________________________________________________________\n",
            "Layer (type)                 Output Shape              Param #   \n",
            "=================================================================\n",
            "embedding_1 (Embedding)      (None, 50, 100)           1144800   \n",
            "_________________________________________________________________\n",
            "dropout_1 (Dropout)          (None, 50, 100)           0         \n",
            "_________________________________________________________________\n",
            "lstm_1 (LSTM)                (None, 32)                17024     \n",
            "_________________________________________________________________\n",
            "dense_1 (Dense)              (None, 1)                 33        \n",
            "=================================================================\n",
            "Total params: 1,161,857\n",
            "Trainable params: 17,057\n",
            "Non-trainable params: 1,144,800\n",
            "_________________________________________________________________\n",
            "Epoch 1/100\n",
            "155/155 [==============================] - 4s 15ms/step - loss: 0.7004 - accuracy: 0.4915 - val_loss: 0.6959 - val_accuracy: 0.4889\n",
            "Epoch 2/100\n",
            "155/155 [==============================] - 2s 12ms/step - loss: 0.6963 - accuracy: 0.4886 - val_loss: 0.6951 - val_accuracy: 0.4889\n",
            "Epoch 3/100\n",
            "155/155 [==============================] - 2s 12ms/step - loss: 0.6957 - accuracy: 0.4909 - val_loss: 0.6928 - val_accuracy: 0.5142\n",
            "Epoch 4/100\n",
            "155/155 [==============================] - 2s 11ms/step - loss: 0.6932 - accuracy: 0.5071 - val_loss: 0.6933 - val_accuracy: 0.5127\n",
            "Epoch 5/100\n",
            "155/155 [==============================] - 2s 12ms/step - loss: 0.6922 - accuracy: 0.5193 - val_loss: 0.6931 - val_accuracy: 0.5111\n",
            "Epoch 6/100\n",
            "155/155 [==============================] - 2s 11ms/step - loss: 0.6926 - accuracy: 0.5085 - val_loss: 0.6935 - val_accuracy: 0.4873\n",
            "Epoch 7/100\n",
            "155/155 [==============================] - 2s 11ms/step - loss: 0.6922 - accuracy: 0.5004 - val_loss: 0.6934 - val_accuracy: 0.5127\n",
            "Epoch 8/100\n",
            "155/155 [==============================] - 2s 12ms/step - loss: 0.6919 - accuracy: 0.4897 - val_loss: 0.6937 - val_accuracy: 0.5111\n",
            "Epoch 9/100\n",
            "155/155 [==============================] - 2s 12ms/step - loss: 0.6914 - accuracy: 0.5014 - val_loss: 0.6941 - val_accuracy: 0.5111\n",
            "Epoch 10/100\n",
            "155/155 [==============================] - 2s 12ms/step - loss: 0.6906 - accuracy: 0.5028 - val_loss: 0.6937 - val_accuracy: 0.4889\n",
            "Epoch 11/100\n",
            "155/155 [==============================] - 2s 12ms/step - loss: 0.6886 - accuracy: 0.5116 - val_loss: 0.6948 - val_accuracy: 0.5127\n",
            "Epoch 12/100\n",
            "155/155 [==============================] - 2s 11ms/step - loss: 0.6869 - accuracy: 0.5351 - val_loss: 0.6933 - val_accuracy: 0.5032\n",
            "Epoch 13/100\n",
            "155/155 [==============================] - 2s 12ms/step - loss: 0.6838 - accuracy: 0.5430 - val_loss: 0.6952 - val_accuracy: 0.5301\n",
            "Epoch 14/100\n",
            "155/155 [==============================] - 2s 12ms/step - loss: 0.6820 - accuracy: 0.5458 - val_loss: 0.6920 - val_accuracy: 0.5301\n",
            "Epoch 15/100\n",
            "155/155 [==============================] - 2s 12ms/step - loss: 0.6803 - accuracy: 0.5535 - val_loss: 0.6922 - val_accuracy: 0.5237\n",
            "Epoch 16/100\n",
            "155/155 [==============================] - 2s 12ms/step - loss: 0.6848 - accuracy: 0.5387 - val_loss: 0.6927 - val_accuracy: 0.5301\n",
            "Epoch 17/100\n",
            "155/155 [==============================] - 2s 11ms/step - loss: 0.6765 - accuracy: 0.5655 - val_loss: 0.6957 - val_accuracy: 0.5285\n",
            "Epoch 18/100\n",
            "155/155 [==============================] - 2s 11ms/step - loss: 0.6740 - accuracy: 0.5691 - val_loss: 0.6911 - val_accuracy: 0.5443\n",
            "Epoch 19/100\n",
            "155/155 [==============================] - 2s 12ms/step - loss: 0.6699 - accuracy: 0.5837 - val_loss: 0.6904 - val_accuracy: 0.5506\n",
            "Epoch 20/100\n",
            "155/155 [==============================] - 2s 12ms/step - loss: 0.6700 - accuracy: 0.5779 - val_loss: 0.6948 - val_accuracy: 0.5190\n",
            "Epoch 21/100\n",
            "155/155 [==============================] - 2s 12ms/step - loss: 0.6652 - accuracy: 0.5906 - val_loss: 0.6991 - val_accuracy: 0.5174\n",
            "Epoch 22/100\n",
            "155/155 [==============================] - 2s 12ms/step - loss: 0.6607 - accuracy: 0.6002 - val_loss: 0.6934 - val_accuracy: 0.5427\n",
            "Epoch 23/100\n",
            "155/155 [==============================] - 2s 12ms/step - loss: 0.6593 - accuracy: 0.5959 - val_loss: 0.7134 - val_accuracy: 0.5190\n",
            "Epoch 24/100\n",
            "155/155 [==============================] - 2s 12ms/step - loss: 0.6541 - accuracy: 0.6085 - val_loss: 0.7065 - val_accuracy: 0.5237\n",
            "Epoch 25/100\n",
            "155/155 [==============================] - 2s 12ms/step - loss: 0.6539 - accuracy: 0.6056 - val_loss: 0.6977 - val_accuracy: 0.5222\n",
            "Epoch 26/100\n",
            "155/155 [==============================] - 2s 11ms/step - loss: 0.6499 - accuracy: 0.6164 - val_loss: 0.7054 - val_accuracy: 0.5190\n",
            "Epoch 27/100\n",
            "155/155 [==============================] - 2s 11ms/step - loss: 0.6476 - accuracy: 0.6229 - val_loss: 0.7123 - val_accuracy: 0.5237\n",
            "Epoch 28/100\n",
            "155/155 [==============================] - 2s 11ms/step - loss: 0.6441 - accuracy: 0.6245 - val_loss: 0.7134 - val_accuracy: 0.5047\n",
            "Epoch 29/100\n",
            "155/155 [==============================] - 2s 12ms/step - loss: 0.6375 - accuracy: 0.6233 - val_loss: 0.7122 - val_accuracy: 0.5190\n",
            "Epoch 30/100\n",
            "155/155 [==============================] - 2s 12ms/step - loss: 0.6364 - accuracy: 0.6318 - val_loss: 0.7312 - val_accuracy: 0.5127\n",
            "Epoch 31/100\n",
            "155/155 [==============================] - 2s 12ms/step - loss: 0.6293 - accuracy: 0.6470 - val_loss: 0.7188 - val_accuracy: 0.5127\n",
            "Epoch 32/100\n",
            "155/155 [==============================] - 2s 12ms/step - loss: 0.6207 - accuracy: 0.6519 - val_loss: 0.7491 - val_accuracy: 0.4858\n",
            "Epoch 33/100\n",
            "155/155 [==============================] - 2s 12ms/step - loss: 0.6184 - accuracy: 0.6582 - val_loss: 0.7426 - val_accuracy: 0.4889\n",
            "Epoch 34/100\n",
            "155/155 [==============================] - 2s 12ms/step - loss: 0.6115 - accuracy: 0.6610 - val_loss: 0.7462 - val_accuracy: 0.5237\n",
            "Epoch 35/100\n",
            "155/155 [==============================] - 2s 11ms/step - loss: 0.6071 - accuracy: 0.6661 - val_loss: 0.7585 - val_accuracy: 0.5000\n",
            "Epoch 36/100\n",
            "155/155 [==============================] - 2s 12ms/step - loss: 0.6007 - accuracy: 0.6778 - val_loss: 0.7657 - val_accuracy: 0.4905\n",
            "Epoch 37/100\n",
            "155/155 [==============================] - 2s 12ms/step - loss: 0.5950 - accuracy: 0.6778 - val_loss: 0.7854 - val_accuracy: 0.4810\n",
            "Epoch 38/100\n",
            "155/155 [==============================] - 2s 11ms/step - loss: 0.5904 - accuracy: 0.6831 - val_loss: 0.7917 - val_accuracy: 0.5016\n",
            "Epoch 39/100\n",
            "155/155 [==============================] - 2s 12ms/step - loss: 0.5825 - accuracy: 0.6878 - val_loss: 0.8322 - val_accuracy: 0.4731\n",
            "Epoch 40/100\n",
            "155/155 [==============================] - 2s 12ms/step - loss: 0.5816 - accuracy: 0.6973 - val_loss: 0.8012 - val_accuracy: 0.4826\n",
            "Epoch 41/100\n",
            "155/155 [==============================] - 2s 12ms/step - loss: 0.5774 - accuracy: 0.6902 - val_loss: 0.8096 - val_accuracy: 0.4889\n",
            "Epoch 42/100\n",
            "155/155 [==============================] - 2s 12ms/step - loss: 0.5638 - accuracy: 0.7115 - val_loss: 0.7919 - val_accuracy: 0.4921\n",
            "Epoch 43/100\n",
            "155/155 [==============================] - 2s 12ms/step - loss: 0.5560 - accuracy: 0.7123 - val_loss: 0.8705 - val_accuracy: 0.4763\n",
            "Epoch 44/100\n",
            "155/155 [==============================] - 2s 12ms/step - loss: 0.5554 - accuracy: 0.7143 - val_loss: 0.8351 - val_accuracy: 0.4889\n",
            "Epoch 45/100\n",
            "155/155 [==============================] - 2s 12ms/step - loss: 0.5403 - accuracy: 0.7242 - val_loss: 0.8577 - val_accuracy: 0.4652\n",
            "Epoch 46/100\n",
            "155/155 [==============================] - 2s 12ms/step - loss: 0.5429 - accuracy: 0.7255 - val_loss: 0.8749 - val_accuracy: 0.4953\n",
            "Epoch 47/100\n",
            "155/155 [==============================] - 2s 12ms/step - loss: 0.5342 - accuracy: 0.7318 - val_loss: 0.8533 - val_accuracy: 0.4794\n",
            "Epoch 48/100\n",
            "155/155 [==============================] - 2s 12ms/step - loss: 0.5309 - accuracy: 0.7384 - val_loss: 0.8639 - val_accuracy: 0.4810\n",
            "Epoch 49/100\n",
            "155/155 [==============================] - 2s 12ms/step - loss: 0.5325 - accuracy: 0.7279 - val_loss: 0.8314 - val_accuracy: 0.5174\n",
            "Epoch 50/100\n",
            "155/155 [==============================] - 2s 12ms/step - loss: 0.5185 - accuracy: 0.7411 - val_loss: 0.9097 - val_accuracy: 0.4921\n",
            "Epoch 51/100\n",
            "155/155 [==============================] - 2s 11ms/step - loss: 0.5232 - accuracy: 0.7399 - val_loss: 0.8787 - val_accuracy: 0.4842\n",
            "Epoch 52/100\n",
            "155/155 [==============================] - 2s 12ms/step - loss: 0.5161 - accuracy: 0.7415 - val_loss: 0.9170 - val_accuracy: 0.4968\n",
            "Epoch 53/100\n",
            "155/155 [==============================] - 2s 12ms/step - loss: 0.5010 - accuracy: 0.7500 - val_loss: 0.8882 - val_accuracy: 0.4905\n",
            "Epoch 54/100\n",
            "155/155 [==============================] - 2s 12ms/step - loss: 0.4984 - accuracy: 0.7589 - val_loss: 0.9918 - val_accuracy: 0.4842\n",
            "Epoch 55/100\n",
            "155/155 [==============================] - 2s 12ms/step - loss: 0.5053 - accuracy: 0.7421 - val_loss: 0.9216 - val_accuracy: 0.4842\n",
            "Epoch 56/100\n",
            "155/155 [==============================] - 2s 11ms/step - loss: 0.4974 - accuracy: 0.7593 - val_loss: 0.9407 - val_accuracy: 0.4778\n",
            "Epoch 57/100\n",
            "155/155 [==============================] - 2s 12ms/step - loss: 0.4849 - accuracy: 0.7609 - val_loss: 0.9378 - val_accuracy: 0.4763\n",
            "Epoch 58/100\n",
            "155/155 [==============================] - 2s 12ms/step - loss: 0.4867 - accuracy: 0.7642 - val_loss: 0.9699 - val_accuracy: 0.4953\n",
            "Epoch 59/100\n",
            "155/155 [==============================] - 2s 11ms/step - loss: 0.4726 - accuracy: 0.7802 - val_loss: 1.0014 - val_accuracy: 0.4842\n",
            "Epoch 60/100\n",
            "155/155 [==============================] - 2s 12ms/step - loss: 0.4604 - accuracy: 0.7784 - val_loss: 1.0004 - val_accuracy: 0.4810\n",
            "Epoch 61/100\n",
            "155/155 [==============================] - 2s 12ms/step - loss: 0.4662 - accuracy: 0.7790 - val_loss: 0.9811 - val_accuracy: 0.4778\n",
            "Epoch 62/100\n",
            "155/155 [==============================] - 2s 12ms/step - loss: 0.4673 - accuracy: 0.7826 - val_loss: 1.0180 - val_accuracy: 0.4858\n",
            "Epoch 63/100\n",
            "155/155 [==============================] - 2s 12ms/step - loss: 0.4557 - accuracy: 0.7833 - val_loss: 1.0003 - val_accuracy: 0.4858\n",
            "Epoch 64/100\n",
            "155/155 [==============================] - 2s 12ms/step - loss: 0.4634 - accuracy: 0.7774 - val_loss: 1.0295 - val_accuracy: 0.5032\n",
            "Epoch 65/100\n",
            "155/155 [==============================] - 2s 12ms/step - loss: 0.4560 - accuracy: 0.7824 - val_loss: 1.0072 - val_accuracy: 0.4763\n",
            "Epoch 66/100\n",
            "155/155 [==============================] - 2s 12ms/step - loss: 0.4411 - accuracy: 0.7952 - val_loss: 1.0756 - val_accuracy: 0.4873\n",
            "Epoch 67/100\n",
            "155/155 [==============================] - 2s 12ms/step - loss: 0.4451 - accuracy: 0.7875 - val_loss: 1.0115 - val_accuracy: 0.5032\n",
            "Epoch 68/100\n",
            "155/155 [==============================] - 2s 12ms/step - loss: 0.4419 - accuracy: 0.8005 - val_loss: 1.0728 - val_accuracy: 0.4889\n",
            "Epoch 69/100\n",
            "155/155 [==============================] - 2s 12ms/step - loss: 0.4312 - accuracy: 0.7908 - val_loss: 1.0350 - val_accuracy: 0.4763\n",
            "Epoch 70/100\n",
            "155/155 [==============================] - 2s 12ms/step - loss: 0.4317 - accuracy: 0.8001 - val_loss: 1.0706 - val_accuracy: 0.4889\n",
            "Epoch 71/100\n",
            "155/155 [==============================] - 2s 12ms/step - loss: 0.4344 - accuracy: 0.7944 - val_loss: 1.0875 - val_accuracy: 0.4842\n",
            "Epoch 72/100\n",
            "155/155 [==============================] - 2s 12ms/step - loss: 0.4384 - accuracy: 0.7938 - val_loss: 1.0338 - val_accuracy: 0.4747\n",
            "Epoch 73/100\n",
            "155/155 [==============================] - 2s 12ms/step - loss: 0.4236 - accuracy: 0.8062 - val_loss: 1.0744 - val_accuracy: 0.4826\n",
            "Epoch 74/100\n",
            "155/155 [==============================] - 2s 12ms/step - loss: 0.4101 - accuracy: 0.8124 - val_loss: 1.0560 - val_accuracy: 0.4842\n",
            "Epoch 75/100\n",
            "155/155 [==============================] - 2s 12ms/step - loss: 0.4311 - accuracy: 0.7997 - val_loss: 1.0801 - val_accuracy: 0.4937\n",
            "Epoch 76/100\n",
            "155/155 [==============================] - 2s 12ms/step - loss: 0.4175 - accuracy: 0.8019 - val_loss: 1.0989 - val_accuracy: 0.4810\n",
            "Epoch 77/100\n",
            "155/155 [==============================] - 2s 12ms/step - loss: 0.4102 - accuracy: 0.8080 - val_loss: 1.0909 - val_accuracy: 0.4858\n",
            "Epoch 78/100\n",
            "155/155 [==============================] - 2s 12ms/step - loss: 0.4150 - accuracy: 0.8076 - val_loss: 1.1294 - val_accuracy: 0.4810\n",
            "Epoch 79/100\n",
            "155/155 [==============================] - 2s 12ms/step - loss: 0.4104 - accuracy: 0.8068 - val_loss: 1.0489 - val_accuracy: 0.4858\n",
            "Epoch 80/100\n",
            "155/155 [==============================] - 2s 12ms/step - loss: 0.4057 - accuracy: 0.8127 - val_loss: 1.1325 - val_accuracy: 0.4858\n",
            "Epoch 81/100\n",
            "155/155 [==============================] - 2s 12ms/step - loss: 0.4033 - accuracy: 0.8161 - val_loss: 1.1576 - val_accuracy: 0.4921\n",
            "Epoch 82/100\n",
            "155/155 [==============================] - 2s 12ms/step - loss: 0.4049 - accuracy: 0.8129 - val_loss: 1.1384 - val_accuracy: 0.4842\n",
            "Epoch 83/100\n",
            "155/155 [==============================] - 2s 12ms/step - loss: 0.3838 - accuracy: 0.8254 - val_loss: 1.1248 - val_accuracy: 0.4810\n",
            "Epoch 84/100\n",
            "155/155 [==============================] - 2s 12ms/step - loss: 0.3963 - accuracy: 0.8206 - val_loss: 1.1374 - val_accuracy: 0.4984\n",
            "Epoch 85/100\n",
            "155/155 [==============================] - 2s 12ms/step - loss: 0.3907 - accuracy: 0.8270 - val_loss: 1.1831 - val_accuracy: 0.4873\n",
            "Epoch 86/100\n",
            "155/155 [==============================] - 2s 12ms/step - loss: 0.4002 - accuracy: 0.8193 - val_loss: 1.1657 - val_accuracy: 0.4842\n",
            "Epoch 87/100\n",
            "155/155 [==============================] - 2s 12ms/step - loss: 0.3847 - accuracy: 0.8281 - val_loss: 1.1834 - val_accuracy: 0.4794\n",
            "Epoch 88/100\n",
            "155/155 [==============================] - 2s 12ms/step - loss: 0.3769 - accuracy: 0.8317 - val_loss: 1.2154 - val_accuracy: 0.4858\n",
            "Epoch 89/100\n",
            "155/155 [==============================] - 2s 12ms/step - loss: 0.3851 - accuracy: 0.8216 - val_loss: 1.1504 - val_accuracy: 0.4905\n",
            "Epoch 90/100\n",
            "155/155 [==============================] - 2s 12ms/step - loss: 0.3760 - accuracy: 0.8329 - val_loss: 1.1791 - val_accuracy: 0.4984\n",
            "Epoch 91/100\n",
            "155/155 [==============================] - 2s 12ms/step - loss: 0.3780 - accuracy: 0.8319 - val_loss: 1.2119 - val_accuracy: 0.4842\n",
            "Epoch 92/100\n",
            "155/155 [==============================] - 2s 12ms/step - loss: 0.3776 - accuracy: 0.8281 - val_loss: 1.1759 - val_accuracy: 0.4842\n",
            "Epoch 93/100\n",
            "155/155 [==============================] - 2s 12ms/step - loss: 0.3730 - accuracy: 0.8406 - val_loss: 1.1761 - val_accuracy: 0.5000\n",
            "Epoch 94/100\n",
            "155/155 [==============================] - 2s 12ms/step - loss: 0.3747 - accuracy: 0.8291 - val_loss: 1.2300 - val_accuracy: 0.4763\n",
            "Epoch 95/100\n",
            "155/155 [==============================] - 2s 12ms/step - loss: 0.3633 - accuracy: 0.8416 - val_loss: 1.2023 - val_accuracy: 0.4858\n",
            "Epoch 96/100\n",
            "155/155 [==============================] - 2s 12ms/step - loss: 0.3606 - accuracy: 0.8433 - val_loss: 1.2097 - val_accuracy: 0.4731\n",
            "Epoch 97/100\n",
            "155/155 [==============================] - 2s 12ms/step - loss: 0.3617 - accuracy: 0.8372 - val_loss: 1.2738 - val_accuracy: 0.4794\n",
            "Epoch 98/100\n",
            "155/155 [==============================] - 2s 12ms/step - loss: 0.3819 - accuracy: 0.8283 - val_loss: 1.1927 - val_accuracy: 0.4905\n",
            "Epoch 99/100\n",
            "155/155 [==============================] - 2s 12ms/step - loss: 0.3428 - accuracy: 0.8498 - val_loss: 1.3033 - val_accuracy: 0.4778\n",
            "Epoch 100/100\n",
            "155/155 [==============================] - 2s 12ms/step - loss: 0.3655 - accuracy: 0.8370 - val_loss: 1.1955 - val_accuracy: 0.4810\n"
          ]
        }
      ]
    },
    {
      "cell_type": "code",
      "metadata": {
        "colab": {
          "base_uri": "https://localhost:8080/",
          "height": 541
        },
        "id": "6wFQvCS3NNWo",
        "outputId": "36a44662-c0f5-4eef-960b-a79203422a44"
      },
      "source": [
        "plot_graph_loss(history)"
      ],
      "execution_count": 35,
      "outputs": [
        {
          "output_type": "display_data",
          "data": {
            "image/png": "[encoded data removed]",
            "text/plain": [
              "<Figure size 432x288 with 1 Axes>"
            ]
          },
          "metadata": {
            "needs_background": "light"
          }
        },
        {
          "output_type": "display_data",
          "data": {
            "image/png": "[encoded data removed]",
            "text/plain": [
              "<Figure size 432x288 with 1 Axes>"
            ]
          },
          "metadata": {
            "needs_background": "light"
          }
        }
      ]
    },
    {
      "cell_type": "code",
      "metadata": {
        "colab": {
          "base_uri": "https://localhost:8080/",
          "height": 611
        },
        "id": "kF1iETBpNToA",
        "outputId": "46673e00-1279-4ef5-f699-3c1b589e5075"
      },
      "source": [
        "predictions = lstm_model2.predict(testing_padded)\n",
        "predictions = predictions.flatten()\n",
        "predictions = np.where(predictions >= 0.5, 1, 0)\n",
        "calculate_metrics_classification(y_test, predictions)"
      ],
      "execution_count": 36,
      "outputs": [
        {
          "output_type": "stream",
          "name": "stdout",
          "text": [
            "              precision    recall  f1-score   support\n",
            "\n",
            "           0       0.57      0.63      0.60       336\n",
            "           1       0.49      0.43      0.46       279\n",
            "\n",
            "    accuracy                           0.54       615\n",
            "   macro avg       0.53      0.53      0.53       615\n",
            "weighted avg       0.53      0.54      0.53       615\n",
            "\n"
          ]
        },
        {
          "output_type": "display_data",
          "data": {
            "image/png": "[encoded data removed]",
            "text/plain": [
              "<Figure size 504x504 with 2 Axes>"
            ]
          },
          "metadata": {
            "needs_background": "light"
          }
        }
      ]
    },
    {
      "cell_type": "markdown",
      "metadata": {
        "id": "9sT0aa1-NpGx"
      },
      "source": [
        "**LSTM Model 3**"
      ]
    },
    {
      "cell_type": "code",
      "metadata": {
        "colab": {
          "base_uri": "https://localhost:8080/"
        },
        "id": "olgKxb2lOEVz",
        "outputId": "908dd4a3-8fc4-4298-fa59-46fb5c8bedbf"
      },
      "source": [
        "lstm_model3 = build_LSTM3(vocabulary_size, max_length, embedding_weights)\n",
        "history = lstm_model3.fit(training_padded, y_train, epochs=20, validation_data=(validation_padded, y_dev), verbose=1)"
      ],
      "execution_count": 37,
      "outputs": [
        {
          "output_type": "stream",
          "name": "stdout",
          "text": [
            "Model: \"sequential_2\"\n",
            "_________________________________________________________________\n",
            "Layer (type)                 Output Shape              Param #   \n",
            "=================================================================\n",
            "embedding_2 (Embedding)      (None, 50, 100)           1144800   \n",
            "_________________________________________________________________\n",
            "dropout_2 (Dropout)          (None, 50, 100)           0         \n",
            "_________________________________________________________________\n",
            "lstm_2 (LSTM)                (None, 32)                17024     \n",
            "_________________________________________________________________\n",
            "dense_2 (Dense)              (None, 1)                 33        \n",
            "=================================================================\n",
            "Total params: 1,161,857\n",
            "Trainable params: 1,161,857\n",
            "Non-trainable params: 0\n",
            "_________________________________________________________________\n",
            "Epoch 1/20\n",
            "155/155 [==============================] - 5s 17ms/step - loss: 0.6975 - accuracy: 0.5047 - val_loss: 0.6927 - val_accuracy: 0.5142\n",
            "Epoch 2/20\n",
            "155/155 [==============================] - 2s 14ms/step - loss: 0.6941 - accuracy: 0.5089 - val_loss: 0.6956 - val_accuracy: 0.4905\n",
            "Epoch 3/20\n",
            "155/155 [==============================] - 2s 14ms/step - loss: 0.6935 - accuracy: 0.4994 - val_loss: 0.6932 - val_accuracy: 0.5142\n",
            "Epoch 4/20\n",
            "155/155 [==============================] - 2s 14ms/step - loss: 0.6915 - accuracy: 0.5107 - val_loss: 0.6953 - val_accuracy: 0.4889\n",
            "Epoch 5/20\n",
            "155/155 [==============================] - 2s 14ms/step - loss: 0.6904 - accuracy: 0.5032 - val_loss: 0.6931 - val_accuracy: 0.5127\n",
            "Epoch 6/20\n",
            "155/155 [==============================] - 2s 14ms/step - loss: 0.6876 - accuracy: 0.5091 - val_loss: 0.6908 - val_accuracy: 0.5222\n",
            "Epoch 7/20\n",
            "155/155 [==============================] - 2s 14ms/step - loss: 0.6820 - accuracy: 0.5424 - val_loss: 0.6903 - val_accuracy: 0.5396\n",
            "Epoch 8/20\n",
            "155/155 [==============================] - 2s 14ms/step - loss: 0.6579 - accuracy: 0.6081 - val_loss: 0.6950 - val_accuracy: 0.5364\n",
            "Epoch 9/20\n",
            "155/155 [==============================] - 2s 14ms/step - loss: 0.5919 - accuracy: 0.6965 - val_loss: 0.7915 - val_accuracy: 0.5253\n",
            "Epoch 10/20\n",
            "155/155 [==============================] - 2s 14ms/step - loss: 0.4931 - accuracy: 0.7739 - val_loss: 0.8156 - val_accuracy: 0.5364\n",
            "Epoch 11/20\n",
            "155/155 [==============================] - 2s 14ms/step - loss: 0.3875 - accuracy: 0.8345 - val_loss: 0.9116 - val_accuracy: 0.5491\n",
            "Epoch 12/20\n",
            "155/155 [==============================] - 2s 14ms/step - loss: 0.3069 - accuracy: 0.8777 - val_loss: 1.0093 - val_accuracy: 0.5332\n",
            "Epoch 13/20\n",
            "155/155 [==============================] - 2s 14ms/step - loss: 0.2446 - accuracy: 0.9049 - val_loss: 1.2995 - val_accuracy: 0.5237\n",
            "Epoch 14/20\n",
            "155/155 [==============================] - 2s 14ms/step - loss: 0.1896 - accuracy: 0.9303 - val_loss: 1.3169 - val_accuracy: 0.5206\n",
            "Epoch 15/20\n",
            "155/155 [==============================] - 2s 14ms/step - loss: 0.1564 - accuracy: 0.9428 - val_loss: 1.4717 - val_accuracy: 0.5190\n",
            "Epoch 16/20\n",
            "155/155 [==============================] - 2s 14ms/step - loss: 0.1355 - accuracy: 0.9503 - val_loss: 1.4681 - val_accuracy: 0.5269\n",
            "Epoch 17/20\n",
            "155/155 [==============================] - 2s 14ms/step - loss: 0.1171 - accuracy: 0.9576 - val_loss: 1.5422 - val_accuracy: 0.5063\n",
            "Epoch 18/20\n",
            "155/155 [==============================] - 2s 14ms/step - loss: 0.0959 - accuracy: 0.9670 - val_loss: 1.6124 - val_accuracy: 0.5190\n",
            "Epoch 19/20\n",
            "155/155 [==============================] - 2s 14ms/step - loss: 0.0927 - accuracy: 0.9667 - val_loss: 1.7326 - val_accuracy: 0.5016\n",
            "Epoch 20/20\n",
            "155/155 [==============================] - 2s 14ms/step - loss: 0.0698 - accuracy: 0.9773 - val_loss: 1.8901 - val_accuracy: 0.5127\n"
          ]
        }
      ]
    },
    {
      "cell_type": "code",
      "metadata": {
        "colab": {
          "base_uri": "https://localhost:8080/",
          "height": 545
        },
        "id": "MjwlNZbSOEbd",
        "outputId": "8676de36-0ad2-4ef1-97c6-0adc01f14a61"
      },
      "source": [
        "plot_graph_loss(history)"
      ],
      "execution_count": 38,
      "outputs": [
        {
          "output_type": "display_data",
          "data": {
            "image/png": "[encoded data removed]",
            "text/plain": [
              "<Figure size 432x288 with 1 Axes>"
            ]
          },
          "metadata": {
            "needs_background": "light"
          }
        },
        {
          "output_type": "display_data",
          "data": {
            "image/png": "[encoded data removed]",
            "text/plain": [
              "<Figure size 432x288 with 1 Axes>"
            ]
          },
          "metadata": {
            "needs_background": "light"
          }
        }
      ]
    },
    {
      "cell_type": "code",
      "metadata": {
        "colab": {
          "base_uri": "https://localhost:8080/",
          "height": 611
        },
        "id": "0iu44wGcOEjj",
        "outputId": "47bacf04-b285-4651-c01b-42b0f2f626ad"
      },
      "source": [
        "predictions = lstm_model3.predict(testing_padded)\n",
        "predictions = predictions.flatten()\n",
        "predictions = np.where(predictions >= 0.5, 1, 0)\n",
        "calculate_metrics_classification(y_test, predictions)"
      ],
      "execution_count": 39,
      "outputs": [
        {
          "output_type": "stream",
          "name": "stdout",
          "text": [
            "              precision    recall  f1-score   support\n",
            "\n",
            "           0       0.55      0.53      0.54       336\n",
            "           1       0.46      0.48      0.47       279\n",
            "\n",
            "    accuracy                           0.51       615\n",
            "   macro avg       0.50      0.50      0.50       615\n",
            "weighted avg       0.51      0.51      0.51       615\n",
            "\n"
          ]
        },
        {
          "output_type": "display_data",
          "data": {
            "image/png": "[encoded data removed]",
            "text/plain": [
              "<Figure size 504x504 with 2 Axes>"
            ]
          },
          "metadata": {
            "needs_background": "light"
          }
        }
      ]
    },
    {
      "cell_type": "markdown",
      "metadata": {
        "id": "awCf6Z2uObHi"
      },
      "source": [
        "**GRU Model 1**"
      ]
    },
    {
      "cell_type": "code",
      "metadata": {
        "colab": {
          "base_uri": "https://localhost:8080/"
        },
        "id": "yYCFYLp5OdWQ",
        "outputId": "41dd71e1-cd79-4910-d8f1-880dfcef4f74"
      },
      "source": [
        "gru_model1 = build_GRU1(vocabulary_size, max_length)\n",
        "history = gru_model1.fit(training_padded, y_train, epochs=10, validation_data=(validation_padded, y_dev), verbose=1)"
      ],
      "execution_count": 40,
      "outputs": [
        {
          "output_type": "stream",
          "name": "stdout",
          "text": [
            "Model: \"sequential_3\"\n",
            "_________________________________________________________________\n",
            "Layer (type)                 Output Shape              Param #   \n",
            "=================================================================\n",
            "embedding_3 (Embedding)      (None, 50, 100)           1144800   \n",
            "_________________________________________________________________\n",
            "dropout_3 (Dropout)          (None, 50, 100)           0         \n",
            "_________________________________________________________________\n",
            "gru (GRU)                    (None, 32)                12864     \n",
            "_________________________________________________________________\n",
            "dense_3 (Dense)              (None, 1)                 33        \n",
            "=================================================================\n",
            "Total params: 1,157,697\n",
            "Trainable params: 1,157,697\n",
            "Non-trainable params: 0\n",
            "_________________________________________________________________\n",
            "Epoch 1/10\n",
            "155/155 [==============================] - 5s 17ms/step - loss: 0.6939 - accuracy: 0.5000 - val_loss: 0.6928 - val_accuracy: 0.5142\n",
            "Epoch 2/10\n",
            "155/155 [==============================] - 2s 14ms/step - loss: 0.6933 - accuracy: 0.4980 - val_loss: 0.6929 - val_accuracy: 0.5142\n",
            "Epoch 3/10\n",
            "155/155 [==============================] - 2s 14ms/step - loss: 0.6928 - accuracy: 0.5152 - val_loss: 0.6930 - val_accuracy: 0.5127\n",
            "Epoch 4/10\n",
            "155/155 [==============================] - 2s 14ms/step - loss: 0.6907 - accuracy: 0.5243 - val_loss: 0.6966 - val_accuracy: 0.4873\n",
            "Epoch 5/10\n",
            "155/155 [==============================] - 2s 14ms/step - loss: 0.6880 - accuracy: 0.5264 - val_loss: 0.6987 - val_accuracy: 0.4873\n",
            "Epoch 6/10\n",
            "155/155 [==============================] - 2s 14ms/step - loss: 0.6767 - accuracy: 0.5306 - val_loss: 0.6921 - val_accuracy: 0.5190\n",
            "Epoch 7/10\n",
            "155/155 [==============================] - 2s 14ms/step - loss: 0.6603 - accuracy: 0.5529 - val_loss: 0.6994 - val_accuracy: 0.5237\n",
            "Epoch 8/10\n",
            "155/155 [==============================] - 2s 14ms/step - loss: 0.5822 - accuracy: 0.6912 - val_loss: 0.7238 - val_accuracy: 0.5174\n",
            "Epoch 9/10\n",
            "155/155 [==============================] - 2s 14ms/step - loss: 0.4171 - accuracy: 0.8226 - val_loss: 1.0113 - val_accuracy: 0.4858\n",
            "Epoch 10/10\n",
            "155/155 [==============================] - 2s 14ms/step - loss: 0.2511 - accuracy: 0.9077 - val_loss: 1.2744 - val_accuracy: 0.4826\n"
          ]
        }
      ]
    },
    {
      "cell_type": "code",
      "metadata": {
        "colab": {
          "base_uri": "https://localhost:8080/",
          "height": 541
        },
        "id": "Fv0jZmGVOdcx",
        "outputId": "3e01aecb-a9eb-4727-d35e-de8a0b5dd029"
      },
      "source": [
        "plot_graph_loss(history)"
      ],
      "execution_count": 41,
      "outputs": [
        {
          "output_type": "display_data",
          "data": {
            "image/png": "[encoded data removed]",
            "text/plain": [
              "<Figure size 432x288 with 1 Axes>"
            ]
          },
          "metadata": {
            "needs_background": "light"
          }
        },
        {
          "output_type": "display_data",
          "data": {
            "image/png": "[encoded data removed]",
            "text/plain": [
              "<Figure size 432x288 with 1 Axes>"
            ]
          },
          "metadata": {
            "needs_background": "light"
          }
        }
      ]
    },
    {
      "cell_type": "code",
      "metadata": {
        "colab": {
          "base_uri": "https://localhost:8080/",
          "height": 611
        },
        "id": "uiwoH57nOdkJ",
        "outputId": "4249f053-b860-4d4e-929c-2e082ad78940"
      },
      "source": [
        "predictions = gru_model1.predict(testing_padded)\n",
        "predictions = predictions.flatten()\n",
        "predictions = np.where(predictions >= 0.5, 1, 0)\n",
        "calculate_metrics_classification(y_test, predictions)"
      ],
      "execution_count": 42,
      "outputs": [
        {
          "output_type": "stream",
          "name": "stdout",
          "text": [
            "              precision    recall  f1-score   support\n",
            "\n",
            "           0       0.56      0.56      0.56       336\n",
            "           1       0.47      0.46      0.46       279\n",
            "\n",
            "    accuracy                           0.52       615\n",
            "   macro avg       0.51      0.51      0.51       615\n",
            "weighted avg       0.52      0.52      0.52       615\n",
            "\n"
          ]
        },
        {
          "output_type": "display_data",
          "data": {
            "image/png": "[encoded data removed]",
            "text/plain": [
              "<Figure size 504x504 with 2 Axes>"
            ]
          },
          "metadata": {
            "needs_background": "light"
          }
        }
      ]
    },
    {
      "cell_type": "markdown",
      "metadata": {
        "id": "tM5hc9Y4O-KE"
      },
      "source": [
        "**GRU Model 2**"
      ]
    },
    {
      "cell_type": "code",
      "metadata": {
        "colab": {
          "base_uri": "https://localhost:8080/"
        },
        "id": "FUHOFA99PBGi",
        "outputId": "d84171c1-6e8a-41a0-b33d-761c42201471"
      },
      "source": [
        "gru_model2 = build_GRU2(vocabulary_size, max_length, embedding_weights)\n",
        "history = gru_model2.fit(training_padded, y_train, epochs=100, validation_data=(validation_padded, y_dev), verbose=1)"
      ],
      "execution_count": 43,
      "outputs": [
        {
          "output_type": "stream",
          "name": "stdout",
          "text": [
            "Model: \"sequential_4\"\n",
            "_________________________________________________________________\n",
            "Layer (type)                 Output Shape              Param #   \n",
            "=================================================================\n",
            "embedding_4 (Embedding)      (None, 50, 100)           1144800   \n",
            "_________________________________________________________________\n",
            "dropout_4 (Dropout)          (None, 50, 100)           0         \n",
            "_________________________________________________________________\n",
            "gru_1 (GRU)                  (None, 32)                12864     \n",
            "_________________________________________________________________\n",
            "dense_4 (Dense)              (None, 1)                 33        \n",
            "=================================================================\n",
            "Total params: 1,157,697\n",
            "Trainable params: 12,897\n",
            "Non-trainable params: 1,144,800\n",
            "_________________________________________________________________\n",
            "Epoch 1/100\n",
            "155/155 [==============================] - 5s 15ms/step - loss: 0.7027 - accuracy: 0.5016 - val_loss: 0.6929 - val_accuracy: 0.5174\n",
            "Epoch 2/100\n",
            "155/155 [==============================] - 2s 11ms/step - loss: 0.6978 - accuracy: 0.4858 - val_loss: 0.6951 - val_accuracy: 0.4826\n",
            "Epoch 3/100\n",
            "155/155 [==============================] - 2s 11ms/step - loss: 0.6961 - accuracy: 0.4957 - val_loss: 0.6931 - val_accuracy: 0.5142\n",
            "Epoch 4/100\n",
            "155/155 [==============================] - 2s 11ms/step - loss: 0.6938 - accuracy: 0.5114 - val_loss: 0.6971 - val_accuracy: 0.4858\n",
            "Epoch 5/100\n",
            "155/155 [==============================] - 2s 11ms/step - loss: 0.6930 - accuracy: 0.5041 - val_loss: 0.6967 - val_accuracy: 0.5095\n",
            "Epoch 6/100\n",
            "155/155 [==============================] - 2s 11ms/step - loss: 0.6923 - accuracy: 0.5043 - val_loss: 0.6942 - val_accuracy: 0.4842\n",
            "Epoch 7/100\n",
            "155/155 [==============================] - 2s 11ms/step - loss: 0.6918 - accuracy: 0.5069 - val_loss: 0.6942 - val_accuracy: 0.4889\n",
            "Epoch 8/100\n",
            "155/155 [==============================] - 2s 11ms/step - loss: 0.6926 - accuracy: 0.4939 - val_loss: 0.6983 - val_accuracy: 0.4858\n",
            "Epoch 9/100\n",
            "155/155 [==============================] - 2s 11ms/step - loss: 0.6918 - accuracy: 0.4970 - val_loss: 0.6947 - val_accuracy: 0.5095\n",
            "Epoch 10/100\n",
            "155/155 [==============================] - 2s 11ms/step - loss: 0.6913 - accuracy: 0.5043 - val_loss: 0.6936 - val_accuracy: 0.5095\n",
            "Epoch 11/100\n",
            "155/155 [==============================] - 2s 11ms/step - loss: 0.6903 - accuracy: 0.5085 - val_loss: 0.6985 - val_accuracy: 0.4858\n",
            "Epoch 12/100\n",
            "155/155 [==============================] - 2s 11ms/step - loss: 0.6897 - accuracy: 0.5041 - val_loss: 0.6969 - val_accuracy: 0.5063\n",
            "Epoch 13/100\n",
            "155/155 [==============================] - 2s 11ms/step - loss: 0.6886 - accuracy: 0.5187 - val_loss: 0.6957 - val_accuracy: 0.5000\n",
            "Epoch 14/100\n",
            "155/155 [==============================] - 2s 12ms/step - loss: 0.6868 - accuracy: 0.5328 - val_loss: 0.6965 - val_accuracy: 0.5000\n",
            "Epoch 15/100\n",
            "155/155 [==============================] - 2s 11ms/step - loss: 0.6853 - accuracy: 0.5225 - val_loss: 0.6954 - val_accuracy: 0.5095\n",
            "Epoch 16/100\n",
            "155/155 [==============================] - 2s 11ms/step - loss: 0.6820 - accuracy: 0.5369 - val_loss: 0.6925 - val_accuracy: 0.5174\n",
            "Epoch 17/100\n",
            "155/155 [==============================] - 2s 12ms/step - loss: 0.6800 - accuracy: 0.5509 - val_loss: 0.6933 - val_accuracy: 0.5222\n",
            "Epoch 18/100\n",
            "155/155 [==============================] - 2s 11ms/step - loss: 0.6771 - accuracy: 0.5614 - val_loss: 0.6936 - val_accuracy: 0.5253\n",
            "Epoch 19/100\n",
            "155/155 [==============================] - 2s 11ms/step - loss: 0.6742 - accuracy: 0.5710 - val_loss: 0.6952 - val_accuracy: 0.5222\n",
            "Epoch 20/100\n",
            "155/155 [==============================] - 2s 11ms/step - loss: 0.6694 - accuracy: 0.5793 - val_loss: 0.6939 - val_accuracy: 0.5253\n",
            "Epoch 21/100\n",
            "155/155 [==============================] - 2s 11ms/step - loss: 0.6671 - accuracy: 0.5841 - val_loss: 0.6947 - val_accuracy: 0.5332\n",
            "Epoch 22/100\n",
            "155/155 [==============================] - 2s 11ms/step - loss: 0.6640 - accuracy: 0.5994 - val_loss: 0.6984 - val_accuracy: 0.5601\n",
            "Epoch 23/100\n",
            "155/155 [==============================] - 2s 11ms/step - loss: 0.6619 - accuracy: 0.5998 - val_loss: 0.7001 - val_accuracy: 0.5506\n",
            "Epoch 24/100\n",
            "155/155 [==============================] - 2s 11ms/step - loss: 0.6558 - accuracy: 0.6079 - val_loss: 0.7068 - val_accuracy: 0.5491\n",
            "Epoch 25/100\n",
            "155/155 [==============================] - 2s 11ms/step - loss: 0.6546 - accuracy: 0.6067 - val_loss: 0.7041 - val_accuracy: 0.5427\n",
            "Epoch 26/100\n",
            "155/155 [==============================] - 2s 11ms/step - loss: 0.6545 - accuracy: 0.6142 - val_loss: 0.7056 - val_accuracy: 0.5316\n",
            "Epoch 27/100\n",
            "155/155 [==============================] - 2s 11ms/step - loss: 0.6492 - accuracy: 0.6182 - val_loss: 0.7180 - val_accuracy: 0.5348\n",
            "Epoch 28/100\n",
            "155/155 [==============================] - 2s 11ms/step - loss: 0.6454 - accuracy: 0.6255 - val_loss: 0.7108 - val_accuracy: 0.5079\n",
            "Epoch 29/100\n",
            "155/155 [==============================] - 2s 12ms/step - loss: 0.6405 - accuracy: 0.6385 - val_loss: 0.7114 - val_accuracy: 0.5142\n",
            "Epoch 30/100\n",
            "155/155 [==============================] - 2s 12ms/step - loss: 0.6353 - accuracy: 0.6472 - val_loss: 0.7230 - val_accuracy: 0.5174\n",
            "Epoch 31/100\n",
            "155/155 [==============================] - 2s 12ms/step - loss: 0.6284 - accuracy: 0.6417 - val_loss: 0.7254 - val_accuracy: 0.5237\n",
            "Epoch 32/100\n",
            "155/155 [==============================] - 2s 11ms/step - loss: 0.6316 - accuracy: 0.6379 - val_loss: 0.7254 - val_accuracy: 0.5063\n",
            "Epoch 33/100\n",
            "155/155 [==============================] - 2s 11ms/step - loss: 0.6203 - accuracy: 0.6541 - val_loss: 0.7340 - val_accuracy: 0.5111\n",
            "Epoch 34/100\n",
            "155/155 [==============================] - 2s 12ms/step - loss: 0.6158 - accuracy: 0.6565 - val_loss: 0.7348 - val_accuracy: 0.5222\n",
            "Epoch 35/100\n",
            "155/155 [==============================] - 2s 12ms/step - loss: 0.6079 - accuracy: 0.6705 - val_loss: 0.7477 - val_accuracy: 0.5032\n",
            "Epoch 36/100\n",
            "155/155 [==============================] - 2s 11ms/step - loss: 0.6061 - accuracy: 0.6725 - val_loss: 0.7570 - val_accuracy: 0.5063\n",
            "Epoch 37/100\n",
            "155/155 [==============================] - 2s 12ms/step - loss: 0.6008 - accuracy: 0.6803 - val_loss: 0.7754 - val_accuracy: 0.5253\n",
            "Epoch 38/100\n",
            "155/155 [==============================] - 2s 12ms/step - loss: 0.6017 - accuracy: 0.6829 - val_loss: 0.7682 - val_accuracy: 0.5111\n",
            "Epoch 39/100\n",
            "155/155 [==============================] - 2s 12ms/step - loss: 0.5948 - accuracy: 0.6807 - val_loss: 0.7684 - val_accuracy: 0.5079\n",
            "Epoch 40/100\n",
            "155/155 [==============================] - 2s 12ms/step - loss: 0.5978 - accuracy: 0.6756 - val_loss: 0.7768 - val_accuracy: 0.5111\n",
            "Epoch 41/100\n",
            "155/155 [==============================] - 2s 11ms/step - loss: 0.5832 - accuracy: 0.6953 - val_loss: 0.7834 - val_accuracy: 0.5127\n",
            "Epoch 42/100\n",
            "155/155 [==============================] - 2s 11ms/step - loss: 0.5798 - accuracy: 0.6967 - val_loss: 0.7876 - val_accuracy: 0.5158\n",
            "Epoch 43/100\n",
            "155/155 [==============================] - 2s 11ms/step - loss: 0.5745 - accuracy: 0.6991 - val_loss: 0.7911 - val_accuracy: 0.5079\n",
            "Epoch 44/100\n",
            "155/155 [==============================] - 2s 11ms/step - loss: 0.5652 - accuracy: 0.7137 - val_loss: 0.8095 - val_accuracy: 0.5111\n",
            "Epoch 45/100\n",
            "155/155 [==============================] - 2s 11ms/step - loss: 0.5643 - accuracy: 0.7040 - val_loss: 0.7962 - val_accuracy: 0.5190\n",
            "Epoch 46/100\n",
            "155/155 [==============================] - 2s 11ms/step - loss: 0.5576 - accuracy: 0.7174 - val_loss: 0.7911 - val_accuracy: 0.5190\n",
            "Epoch 47/100\n",
            "155/155 [==============================] - 2s 11ms/step - loss: 0.5543 - accuracy: 0.7172 - val_loss: 0.8413 - val_accuracy: 0.5206\n",
            "Epoch 48/100\n",
            "155/155 [==============================] - 2s 11ms/step - loss: 0.5627 - accuracy: 0.7068 - val_loss: 0.8283 - val_accuracy: 0.5000\n",
            "Epoch 49/100\n",
            "155/155 [==============================] - 2s 11ms/step - loss: 0.5448 - accuracy: 0.7236 - val_loss: 0.8798 - val_accuracy: 0.4984\n",
            "Epoch 50/100\n",
            "155/155 [==============================] - 2s 11ms/step - loss: 0.5507 - accuracy: 0.7232 - val_loss: 0.8174 - val_accuracy: 0.4937\n",
            "Epoch 51/100\n",
            "155/155 [==============================] - 2s 11ms/step - loss: 0.5278 - accuracy: 0.7366 - val_loss: 0.8948 - val_accuracy: 0.4905\n",
            "Epoch 52/100\n",
            "155/155 [==============================] - 2s 11ms/step - loss: 0.5317 - accuracy: 0.7358 - val_loss: 0.8284 - val_accuracy: 0.5047\n",
            "Epoch 53/100\n",
            "155/155 [==============================] - 2s 12ms/step - loss: 0.5375 - accuracy: 0.7297 - val_loss: 0.8430 - val_accuracy: 0.5127\n",
            "Epoch 54/100\n",
            "155/155 [==============================] - 2s 11ms/step - loss: 0.5265 - accuracy: 0.7370 - val_loss: 0.9132 - val_accuracy: 0.5079\n",
            "Epoch 55/100\n",
            "155/155 [==============================] - 2s 11ms/step - loss: 0.5245 - accuracy: 0.7431 - val_loss: 0.8490 - val_accuracy: 0.5142\n",
            "Epoch 56/100\n",
            "155/155 [==============================] - 2s 11ms/step - loss: 0.5241 - accuracy: 0.7364 - val_loss: 0.8733 - val_accuracy: 0.5016\n",
            "Epoch 57/100\n",
            "155/155 [==============================] - 2s 11ms/step - loss: 0.5083 - accuracy: 0.7518 - val_loss: 0.8950 - val_accuracy: 0.5079\n",
            "Epoch 58/100\n",
            "155/155 [==============================] - 2s 11ms/step - loss: 0.5050 - accuracy: 0.7571 - val_loss: 0.9028 - val_accuracy: 0.5000\n",
            "Epoch 59/100\n",
            "155/155 [==============================] - 2s 11ms/step - loss: 0.5063 - accuracy: 0.7492 - val_loss: 0.8947 - val_accuracy: 0.4953\n",
            "Epoch 60/100\n",
            "155/155 [==============================] - 2s 11ms/step - loss: 0.5078 - accuracy: 0.7490 - val_loss: 0.9073 - val_accuracy: 0.4873\n",
            "Epoch 61/100\n",
            "155/155 [==============================] - 2s 11ms/step - loss: 0.4984 - accuracy: 0.7573 - val_loss: 0.8804 - val_accuracy: 0.5000\n",
            "Epoch 62/100\n",
            "155/155 [==============================] - 2s 12ms/step - loss: 0.4895 - accuracy: 0.7640 - val_loss: 0.9140 - val_accuracy: 0.5095\n",
            "Epoch 63/100\n",
            "155/155 [==============================] - 2s 11ms/step - loss: 0.4896 - accuracy: 0.7703 - val_loss: 0.9196 - val_accuracy: 0.5111\n",
            "Epoch 64/100\n",
            "155/155 [==============================] - 2s 12ms/step - loss: 0.5013 - accuracy: 0.7545 - val_loss: 0.9667 - val_accuracy: 0.4873\n",
            "Epoch 65/100\n",
            "155/155 [==============================] - 2s 12ms/step - loss: 0.4969 - accuracy: 0.7628 - val_loss: 0.9128 - val_accuracy: 0.4905\n",
            "Epoch 66/100\n",
            "155/155 [==============================] - 2s 13ms/step - loss: 0.4879 - accuracy: 0.7672 - val_loss: 0.9345 - val_accuracy: 0.4810\n",
            "Epoch 67/100\n",
            "155/155 [==============================] - 2s 11ms/step - loss: 0.4774 - accuracy: 0.7664 - val_loss: 0.9305 - val_accuracy: 0.4794\n",
            "Epoch 68/100\n",
            "155/155 [==============================] - 2s 12ms/step - loss: 0.4899 - accuracy: 0.7599 - val_loss: 0.9058 - val_accuracy: 0.4937\n",
            "Epoch 69/100\n",
            "155/155 [==============================] - 2s 11ms/step - loss: 0.4754 - accuracy: 0.7725 - val_loss: 0.9646 - val_accuracy: 0.4858\n",
            "Epoch 70/100\n",
            "155/155 [==============================] - 2s 11ms/step - loss: 0.4800 - accuracy: 0.7662 - val_loss: 0.9452 - val_accuracy: 0.4937\n",
            "Epoch 71/100\n",
            "155/155 [==============================] - 2s 12ms/step - loss: 0.4684 - accuracy: 0.7778 - val_loss: 0.9835 - val_accuracy: 0.4826\n",
            "Epoch 72/100\n",
            "155/155 [==============================] - 2s 12ms/step - loss: 0.4724 - accuracy: 0.7751 - val_loss: 0.9972 - val_accuracy: 0.4826\n",
            "Epoch 73/100\n",
            "155/155 [==============================] - 2s 11ms/step - loss: 0.4649 - accuracy: 0.7818 - val_loss: 0.9970 - val_accuracy: 0.4826\n",
            "Epoch 74/100\n",
            "155/155 [==============================] - 2s 12ms/step - loss: 0.4658 - accuracy: 0.7727 - val_loss: 1.0040 - val_accuracy: 0.4731\n",
            "Epoch 75/100\n",
            "155/155 [==============================] - 2s 12ms/step - loss: 0.4642 - accuracy: 0.7749 - val_loss: 1.0330 - val_accuracy: 0.4810\n",
            "Epoch 76/100\n",
            "155/155 [==============================] - 2s 12ms/step - loss: 0.4561 - accuracy: 0.7859 - val_loss: 0.9939 - val_accuracy: 0.4873\n",
            "Epoch 77/100\n",
            "155/155 [==============================] - 2s 12ms/step - loss: 0.4583 - accuracy: 0.7820 - val_loss: 1.0190 - val_accuracy: 0.4715\n",
            "Epoch 78/100\n",
            "155/155 [==============================] - 2s 12ms/step - loss: 0.4543 - accuracy: 0.7883 - val_loss: 1.0323 - val_accuracy: 0.4747\n",
            "Epoch 79/100\n",
            "155/155 [==============================] - 2s 12ms/step - loss: 0.4553 - accuracy: 0.7871 - val_loss: 1.0257 - val_accuracy: 0.4763\n",
            "Epoch 80/100\n",
            "155/155 [==============================] - 2s 12ms/step - loss: 0.4539 - accuracy: 0.7857 - val_loss: 1.0027 - val_accuracy: 0.4905\n",
            "Epoch 81/100\n",
            "155/155 [==============================] - 2s 12ms/step - loss: 0.4489 - accuracy: 0.7956 - val_loss: 0.9968 - val_accuracy: 0.4921\n",
            "Epoch 82/100\n",
            "155/155 [==============================] - 2s 12ms/step - loss: 0.4584 - accuracy: 0.7845 - val_loss: 1.0022 - val_accuracy: 0.4778\n",
            "Epoch 83/100\n",
            "155/155 [==============================] - 2s 12ms/step - loss: 0.4473 - accuracy: 0.7944 - val_loss: 1.0220 - val_accuracy: 0.4810\n",
            "Epoch 84/100\n",
            "155/155 [==============================] - 2s 12ms/step - loss: 0.4435 - accuracy: 0.7964 - val_loss: 1.0100 - val_accuracy: 0.5095\n",
            "Epoch 85/100\n",
            "155/155 [==============================] - 2s 11ms/step - loss: 0.4438 - accuracy: 0.7875 - val_loss: 0.9994 - val_accuracy: 0.5016\n",
            "Epoch 86/100\n",
            "155/155 [==============================] - 2s 12ms/step - loss: 0.4354 - accuracy: 0.7974 - val_loss: 1.0526 - val_accuracy: 0.4937\n",
            "Epoch 87/100\n",
            "155/155 [==============================] - 2s 11ms/step - loss: 0.4423 - accuracy: 0.7966 - val_loss: 1.0005 - val_accuracy: 0.4953\n",
            "Epoch 88/100\n",
            "155/155 [==============================] - 2s 12ms/step - loss: 0.4361 - accuracy: 0.7989 - val_loss: 1.0074 - val_accuracy: 0.5000\n",
            "Epoch 89/100\n",
            "155/155 [==============================] - 2s 12ms/step - loss: 0.4291 - accuracy: 0.8033 - val_loss: 1.0440 - val_accuracy: 0.4889\n",
            "Epoch 90/100\n",
            "155/155 [==============================] - 2s 12ms/step - loss: 0.4359 - accuracy: 0.7962 - val_loss: 1.0788 - val_accuracy: 0.4715\n",
            "Epoch 91/100\n",
            "155/155 [==============================] - 2s 11ms/step - loss: 0.4301 - accuracy: 0.8007 - val_loss: 1.0534 - val_accuracy: 0.4842\n",
            "Epoch 92/100\n",
            "155/155 [==============================] - 2s 12ms/step - loss: 0.4289 - accuracy: 0.8011 - val_loss: 1.0278 - val_accuracy: 0.4636\n",
            "Epoch 93/100\n",
            "155/155 [==============================] - 2s 12ms/step - loss: 0.4243 - accuracy: 0.8122 - val_loss: 1.0653 - val_accuracy: 0.4921\n",
            "Epoch 94/100\n",
            "155/155 [==============================] - 2s 11ms/step - loss: 0.4194 - accuracy: 0.8100 - val_loss: 1.0662 - val_accuracy: 0.4794\n",
            "Epoch 95/100\n",
            "155/155 [==============================] - 2s 12ms/step - loss: 0.4169 - accuracy: 0.8110 - val_loss: 1.0445 - val_accuracy: 0.4715\n",
            "Epoch 96/100\n",
            "155/155 [==============================] - 2s 12ms/step - loss: 0.4205 - accuracy: 0.8039 - val_loss: 1.0539 - val_accuracy: 0.4778\n",
            "Epoch 97/100\n",
            "155/155 [==============================] - 2s 12ms/step - loss: 0.4260 - accuracy: 0.8054 - val_loss: 1.0862 - val_accuracy: 0.4858\n",
            "Epoch 98/100\n",
            "155/155 [==============================] - 2s 11ms/step - loss: 0.4210 - accuracy: 0.8015 - val_loss: 1.1144 - val_accuracy: 0.4826\n",
            "Epoch 99/100\n",
            "155/155 [==============================] - 2s 12ms/step - loss: 0.4191 - accuracy: 0.8096 - val_loss: 1.1597 - val_accuracy: 0.4652\n",
            "Epoch 100/100\n",
            "155/155 [==============================] - 2s 12ms/step - loss: 0.4104 - accuracy: 0.8070 - val_loss: 1.1388 - val_accuracy: 0.4715\n"
          ]
        }
      ]
    },
    {
      "cell_type": "code",
      "metadata": {
        "colab": {
          "base_uri": "https://localhost:8080/",
          "height": 541
        },
        "id": "RuWQrPvUPBJB",
        "outputId": "8cb109b6-57f8-4813-fd2a-0b60004dcb2e"
      },
      "source": [
        "plot_graph_loss(history)"
      ],
      "execution_count": 44,
      "outputs": [
        {
          "output_type": "display_data",
          "data": {
            "image/png": "[encoded data removed]",
            "text/plain": [
              "<Figure size 432x288 with 1 Axes>"
            ]
          },
          "metadata": {
            "needs_background": "light"
          }
        },
        {
          "output_type": "display_data",
          "data": {
            "image/png": "[encoded data removed]",
            "text/plain": [
              "<Figure size 432x288 with 1 Axes>"
            ]
          },
          "metadata": {
            "needs_background": "light"
          }
        }
      ]
    },
    {
      "cell_type": "code",
      "metadata": {
        "colab": {
          "base_uri": "https://localhost:8080/",
          "height": 611
        },
        "id": "hN7_FRHMPBfR",
        "outputId": "1a17059e-2378-4999-8eeb-10217dcb3d44"
      },
      "source": [
        "predictions = gru_model2.predict(testing_padded)\n",
        "predictions = predictions.flatten()\n",
        "predictions = np.where(predictions >= 0.5, 1, 0)\n",
        "calculate_metrics_classification(y_test, predictions)"
      ],
      "execution_count": 45,
      "outputs": [
        {
          "output_type": "stream",
          "name": "stdout",
          "text": [
            "              precision    recall  f1-score   support\n",
            "\n",
            "           0       0.54      0.53      0.53       336\n",
            "           1       0.44      0.46      0.45       279\n",
            "\n",
            "    accuracy                           0.49       615\n",
            "   macro avg       0.49      0.49      0.49       615\n",
            "weighted avg       0.50      0.49      0.49       615\n",
            "\n"
          ]
        },
        {
          "output_type": "display_data",
          "data": {
            "image/png": "[encoded data removed]",
            "text/plain": [
              "<Figure size 504x504 with 2 Axes>"
            ]
          },
          "metadata": {
            "needs_background": "light"
          }
        }
      ]
    },
    {
      "cell_type": "markdown",
      "metadata": {
        "id": "bzmCnvxfPNpq"
      },
      "source": [
        "**GRU Model 3**"
      ]
    },
    {
      "cell_type": "code",
      "metadata": {
        "colab": {
          "base_uri": "https://localhost:8080/"
        },
        "id": "rdgkFhQEPRpZ",
        "outputId": "1f30ef34-39a3-493b-8c83-f14ec2c4fa19"
      },
      "source": [
        "gru_model3 = build_GRU3(vocabulary_size, max_length, embedding_weights)\n",
        "history = gru_model3.fit(training_padded, y_train, epochs=10, validation_data=(validation_padded, y_dev), verbose=1)"
      ],
      "execution_count": 46,
      "outputs": [
        {
          "output_type": "stream",
          "name": "stdout",
          "text": [
            "Model: \"sequential_5\"\n",
            "_________________________________________________________________\n",
            "Layer (type)                 Output Shape              Param #   \n",
            "=================================================================\n",
            "embedding_5 (Embedding)      (None, 50, 100)           1144800   \n",
            "_________________________________________________________________\n",
            "dropout_5 (Dropout)          (None, 50, 100)           0         \n",
            "_________________________________________________________________\n",
            "gru_2 (GRU)                  (None, 32)                12864     \n",
            "_________________________________________________________________\n",
            "dense_5 (Dense)              (None, 1)                 33        \n",
            "=================================================================\n",
            "Total params: 1,157,697\n",
            "Trainable params: 1,157,697\n",
            "Non-trainable params: 0\n",
            "_________________________________________________________________\n",
            "Epoch 1/10\n",
            "155/155 [==============================] - 5s 17ms/step - loss: 0.7065 - accuracy: 0.5032 - val_loss: 0.6927 - val_accuracy: 0.5411\n",
            "Epoch 2/10\n",
            "155/155 [==============================] - 2s 14ms/step - loss: 0.6993 - accuracy: 0.4945 - val_loss: 0.6956 - val_accuracy: 0.4873\n",
            "Epoch 3/10\n",
            "155/155 [==============================] - 2s 14ms/step - loss: 0.6903 - accuracy: 0.5306 - val_loss: 0.6920 - val_accuracy: 0.5142\n",
            "Epoch 4/10\n",
            "155/155 [==============================] - 2s 14ms/step - loss: 0.6652 - accuracy: 0.6087 - val_loss: 0.7047 - val_accuracy: 0.5301\n",
            "Epoch 5/10\n",
            "155/155 [==============================] - 2s 14ms/step - loss: 0.6075 - accuracy: 0.6760 - val_loss: 0.7554 - val_accuracy: 0.5475\n",
            "Epoch 6/10\n",
            "155/155 [==============================] - 2s 14ms/step - loss: 0.5296 - accuracy: 0.7453 - val_loss: 0.8053 - val_accuracy: 0.5427\n",
            "Epoch 7/10\n",
            "155/155 [==============================] - 2s 15ms/step - loss: 0.4414 - accuracy: 0.7981 - val_loss: 0.8871 - val_accuracy: 0.5316\n",
            "Epoch 8/10\n",
            "155/155 [==============================] - 2s 14ms/step - loss: 0.3482 - accuracy: 0.8550 - val_loss: 1.0131 - val_accuracy: 0.5332\n",
            "Epoch 9/10\n",
            "155/155 [==============================] - 2s 14ms/step - loss: 0.2764 - accuracy: 0.8901 - val_loss: 1.1528 - val_accuracy: 0.5332\n",
            "Epoch 10/10\n",
            "155/155 [==============================] - 2s 14ms/step - loss: 0.2343 - accuracy: 0.9082 - val_loss: 1.2835 - val_accuracy: 0.5301\n"
          ]
        }
      ]
    },
    {
      "cell_type": "code",
      "metadata": {
        "colab": {
          "base_uri": "https://localhost:8080/",
          "height": 541
        },
        "id": "SUkqF_J4PRwA",
        "outputId": "21b7f72e-9ec8-444b-9198-cdefbaec9a2e"
      },
      "source": [
        "plot_graph_loss(history)"
      ],
      "execution_count": 47,
      "outputs": [
        {
          "output_type": "display_data",
          "data": {
            "image/png": "[encoded data removed]",
            "text/plain": [
              "<Figure size 432x288 with 1 Axes>"
            ]
          },
          "metadata": {
            "needs_background": "light"
          }
        },
        {
          "output_type": "display_data",
          "data": {
            "image/png": "[encoded data removed]",
            "text/plain": [
              "<Figure size 432x288 with 1 Axes>"
            ]
          },
          "metadata": {
            "needs_background": "light"
          }
        }
      ]
    },
    {
      "cell_type": "code",
      "metadata": {
        "colab": {
          "base_uri": "https://localhost:8080/",
          "height": 611
        },
        "id": "iLIjvYWiPR2I",
        "outputId": "ff41eb7a-67ef-4791-89f2-322b588dc935"
      },
      "source": [
        "predictions = gru_model3.predict(testing_padded)\n",
        "predictions = predictions.flatten()\n",
        "predictions = np.where(predictions >= 0.5, 1, 0)\n",
        "calculate_metrics_classification(y_test, predictions)"
      ],
      "execution_count": 48,
      "outputs": [
        {
          "output_type": "stream",
          "name": "stdout",
          "text": [
            "              precision    recall  f1-score   support\n",
            "\n",
            "           0       0.58      0.45      0.51       336\n",
            "           1       0.48      0.60      0.53       279\n",
            "\n",
            "    accuracy                           0.52       615\n",
            "   macro avg       0.53      0.53      0.52       615\n",
            "weighted avg       0.53      0.52      0.52       615\n",
            "\n"
          ]
        },
        {
          "output_type": "display_data",
          "data": {
            "image/png": "[encoded data removed]",
            "text/plain": [
              "<Figure size 504x504 with 2 Axes>"
            ]
          },
          "metadata": {
            "needs_background": "light"
          }
        }
      ]
    },
    {
      "cell_type": "markdown",
      "metadata": {
        "id": "QoLmpyckYk8V"
      },
      "source": [
        "**Bidirectional LSTM**"
      ]
    },
    {
      "cell_type": "code",
      "metadata": {
        "colab": {
          "base_uri": "https://localhost:8080/"
        },
        "id": "Yy09q2rZYn87",
        "outputId": "f553178d-c63a-41bc-fd79-3b7dc31d4ae6"
      },
      "source": [
        "bi_lstm = build_bidirectional_LSTM(vocabulary_size, max_length, embedding_weights)\n",
        "history = bi_lstm.fit(training_padded, y_train, epochs=10, validation_data=(validation_padded, y_dev), verbose=1)"
      ],
      "execution_count": 55,
      "outputs": [
        {
          "output_type": "stream",
          "name": "stdout",
          "text": [
            "Model: \"sequential_8\"\n",
            "_________________________________________________________________\n",
            "Layer (type)                 Output Shape              Param #   \n",
            "=================================================================\n",
            "embedding_8 (Embedding)      (None, 50, 100)           1144800   \n",
            "_________________________________________________________________\n",
            "spatial_dropout1d_2 (Spatial (None, 50, 100)           0         \n",
            "_________________________________________________________________\n",
            "dropout_8 (Dropout)          (None, 50, 100)           0         \n",
            "_________________________________________________________________\n",
            "bidirectional_4 (Bidirection (None, 50, 64)            34048     \n",
            "_________________________________________________________________\n",
            "bidirectional_5 (Bidirection (None, 64)                24832     \n",
            "_________________________________________________________________\n",
            "dense_8 (Dense)              (None, 1)                 65        \n",
            "=================================================================\n",
            "Total params: 1,203,745\n",
            "Trainable params: 1,203,745\n",
            "Non-trainable params: 0\n",
            "_________________________________________________________________\n",
            "Epoch 1/20\n",
            "155/155 [==============================] - 16s 62ms/step - loss: 0.6971 - accuracy: 0.5130 - val_loss: 0.6913 - val_accuracy: 0.5190\n",
            "Epoch 2/20\n",
            "155/155 [==============================] - 7s 47ms/step - loss: 0.6924 - accuracy: 0.5274 - val_loss: 0.7042 - val_accuracy: 0.4937\n",
            "Epoch 3/20\n",
            "155/155 [==============================] - 7s 48ms/step - loss: 0.6887 - accuracy: 0.5420 - val_loss: 0.7044 - val_accuracy: 0.5047\n",
            "Epoch 4/20\n",
            "155/155 [==============================] - 7s 47ms/step - loss: 0.6797 - accuracy: 0.5695 - val_loss: 0.6968 - val_accuracy: 0.5158\n",
            "Epoch 5/20\n",
            "155/155 [==============================] - 7s 47ms/step - loss: 0.6571 - accuracy: 0.6117 - val_loss: 0.7164 - val_accuracy: 0.5206\n",
            "Epoch 6/20\n",
            "155/155 [==============================] - 7s 47ms/step - loss: 0.6190 - accuracy: 0.6614 - val_loss: 0.7537 - val_accuracy: 0.5222\n",
            "Epoch 7/20\n",
            "155/155 [==============================] - 7s 47ms/step - loss: 0.5789 - accuracy: 0.6934 - val_loss: 0.7893 - val_accuracy: 0.5285\n",
            "Epoch 8/20\n",
            "155/155 [==============================] - 7s 47ms/step - loss: 0.5269 - accuracy: 0.7399 - val_loss: 0.8904 - val_accuracy: 0.5364\n",
            "Epoch 9/20\n",
            "155/155 [==============================] - 7s 48ms/step - loss: 0.4669 - accuracy: 0.7812 - val_loss: 0.8879 - val_accuracy: 0.5301\n",
            "Epoch 10/20\n",
            "155/155 [==============================] - 7s 47ms/step - loss: 0.4286 - accuracy: 0.8035 - val_loss: 0.9705 - val_accuracy: 0.5380\n",
            "Epoch 11/20\n",
            "155/155 [==============================] - 7s 48ms/step - loss: 0.3865 - accuracy: 0.8307 - val_loss: 1.1100 - val_accuracy: 0.5253\n",
            "Epoch 12/20\n",
            "155/155 [==============================] - 7s 47ms/step - loss: 0.3414 - accuracy: 0.8518 - val_loss: 1.1009 - val_accuracy: 0.5332\n",
            "Epoch 13/20\n",
            "155/155 [==============================] - 7s 48ms/step - loss: 0.3085 - accuracy: 0.8627 - val_loss: 1.2597 - val_accuracy: 0.5127\n",
            "Epoch 14/20\n",
            "155/155 [==============================] - 7s 48ms/step - loss: 0.2757 - accuracy: 0.8861 - val_loss: 1.1541 - val_accuracy: 0.5190\n",
            "Epoch 15/20\n",
            "155/155 [==============================] - 7s 47ms/step - loss: 0.2731 - accuracy: 0.8879 - val_loss: 1.3020 - val_accuracy: 0.5348\n",
            "Epoch 16/20\n",
            "155/155 [==============================] - 7s 48ms/step - loss: 0.2393 - accuracy: 0.9029 - val_loss: 1.2925 - val_accuracy: 0.5222\n",
            "Epoch 17/20\n",
            "155/155 [==============================] - 7s 47ms/step - loss: 0.2197 - accuracy: 0.9096 - val_loss: 1.4701 - val_accuracy: 0.5316\n",
            "Epoch 18/20\n",
            "155/155 [==============================] - 7s 48ms/step - loss: 0.2028 - accuracy: 0.9157 - val_loss: 1.5353 - val_accuracy: 0.5174\n",
            "Epoch 19/20\n",
            "155/155 [==============================] - 7s 47ms/step - loss: 0.1696 - accuracy: 0.9292 - val_loss: 1.6061 - val_accuracy: 0.5316\n",
            "Epoch 20/20\n",
            "155/155 [==============================] - 7s 48ms/step - loss: 0.1620 - accuracy: 0.9367 - val_loss: 1.5794 - val_accuracy: 0.5332\n"
          ]
        }
      ]
    },
    {
      "cell_type": "code",
      "metadata": {
        "colab": {
          "base_uri": "https://localhost:8080/",
          "height": 541
        },
        "id": "9bQH9NoAYoFy",
        "outputId": "4b2610aa-c950-4230-fd92-aed73ff6b256"
      },
      "source": [
        "plot_graph_loss(history)"
      ],
      "execution_count": 56,
      "outputs": [
        {
          "output_type": "display_data",
          "data": {
            "image/png": "[encoded data removed]",
            "text/plain": [
              "<Figure size 432x288 with 1 Axes>"
            ]
          },
          "metadata": {
            "needs_background": "light"
          }
        },
        {
          "output_type": "display_data",
          "data": {
            "image/png": "[encoded data removed]",
            "text/plain": [
              "<Figure size 432x288 with 1 Axes>"
            ]
          },
          "metadata": {
            "needs_background": "light"
          }
        }
      ]
    },
    {
      "cell_type": "code",
      "metadata": {
        "colab": {
          "base_uri": "https://localhost:8080/",
          "height": 611
        },
        "id": "aXNHQWcPYoMd",
        "outputId": "24342f92-c1d9-4d08-8f45-f9be75b20217"
      },
      "source": [
        "predictions = bi_lstm.predict(testing_padded)\n",
        "predictions = predictions.flatten()\n",
        "predictions = np.where(predictions >= 0.5, 1, 0)\n",
        "calculate_metrics_classification(y_test, predictions)"
      ],
      "execution_count": 57,
      "outputs": [
        {
          "output_type": "stream",
          "name": "stdout",
          "text": [
            "              precision    recall  f1-score   support\n",
            "\n",
            "           0       0.54      0.49      0.51       336\n",
            "           1       0.45      0.50      0.47       279\n",
            "\n",
            "    accuracy                           0.49       615\n",
            "   macro avg       0.49      0.49      0.49       615\n",
            "weighted avg       0.50      0.49      0.49       615\n",
            "\n"
          ]
        },
        {
          "output_type": "display_data",
          "data": {
            "image/png": "[encoded data removed]",
            "text/plain": [
              "<Figure size 504x504 with 2 Axes>"
            ]
          },
          "metadata": {
            "needs_background": "light"
          }
        }
      ]
    },
    {
      "cell_type": "markdown",
      "metadata": {
        "id": "fUtYS4oQZB_s"
      },
      "source": [
        "**Bidirectional GRU**"
      ]
    },
    {
      "cell_type": "code",
      "metadata": {
        "colab": {
          "base_uri": "https://localhost:8080/"
        },
        "id": "l_1pnefBZBb8",
        "outputId": "be8b4807-35ed-42c8-852b-ad3ee4243652"
      },
      "source": [
        "bi_gru = build_bidirectional_GRU(vocabulary_size, max_length, embedding_weights)\n",
        "history = bi_gru.fit(training_padded, y_train, epochs=10, validation_data=(validation_padded, y_dev), verbose=1)"
      ],
      "execution_count": 52,
      "outputs": [
        {
          "output_type": "stream",
          "name": "stdout",
          "text": [
            "Model: \"sequential_7\"\n",
            "_________________________________________________________________\n",
            "Layer (type)                 Output Shape              Param #   \n",
            "=================================================================\n",
            "embedding_7 (Embedding)      (None, 50, 100)           1144800   \n",
            "_________________________________________________________________\n",
            "spatial_dropout1d_1 (Spatial (None, 50, 100)           0         \n",
            "_________________________________________________________________\n",
            "dropout_7 (Dropout)          (None, 50, 100)           0         \n",
            "_________________________________________________________________\n",
            "bidirectional_2 (Bidirection (None, 50, 64)            25728     \n",
            "_________________________________________________________________\n",
            "bidirectional_3 (Bidirection (None, 64)                18816     \n",
            "_________________________________________________________________\n",
            "dense_7 (Dense)              (None, 1)                 65        \n",
            "=================================================================\n",
            "Total params: 1,189,409\n",
            "Trainable params: 1,189,409\n",
            "Non-trainable params: 0\n",
            "_________________________________________________________________\n",
            "Epoch 1/10\n",
            "155/155 [==============================] - 16s 56ms/step - loss: 0.7034 - accuracy: 0.5067 - val_loss: 0.7042 - val_accuracy: 0.4858\n",
            "Epoch 2/10\n",
            "155/155 [==============================] - 7s 47ms/step - loss: 0.6948 - accuracy: 0.5180 - val_loss: 0.6992 - val_accuracy: 0.5127\n",
            "Epoch 3/10\n",
            "155/155 [==============================] - 7s 47ms/step - loss: 0.6896 - accuracy: 0.5430 - val_loss: 0.6975 - val_accuracy: 0.5427\n",
            "Epoch 4/10\n",
            "155/155 [==============================] - 7s 47ms/step - loss: 0.6793 - accuracy: 0.5667 - val_loss: 0.7001 - val_accuracy: 0.5158\n",
            "Epoch 5/10\n",
            "155/155 [==============================] - 7s 47ms/step - loss: 0.6553 - accuracy: 0.6042 - val_loss: 0.7276 - val_accuracy: 0.5253\n",
            "Epoch 6/10\n",
            "155/155 [==============================] - 7s 47ms/step - loss: 0.6200 - accuracy: 0.6488 - val_loss: 0.7645 - val_accuracy: 0.5174\n",
            "Epoch 7/10\n",
            "155/155 [==============================] - 7s 47ms/step - loss: 0.5730 - accuracy: 0.6971 - val_loss: 0.8487 - val_accuracy: 0.5222\n",
            "Epoch 8/10\n",
            "155/155 [==============================] - 7s 47ms/step - loss: 0.5174 - accuracy: 0.7459 - val_loss: 0.8599 - val_accuracy: 0.5111\n",
            "Epoch 9/10\n",
            "155/155 [==============================] - 7s 47ms/step - loss: 0.4689 - accuracy: 0.7749 - val_loss: 0.9457 - val_accuracy: 0.4953\n",
            "Epoch 10/10\n",
            "155/155 [==============================] - 7s 47ms/step - loss: 0.4160 - accuracy: 0.8072 - val_loss: 0.9848 - val_accuracy: 0.4810\n"
          ]
        }
      ]
    },
    {
      "cell_type": "code",
      "metadata": {
        "colab": {
          "base_uri": "https://localhost:8080/",
          "height": 541
        },
        "id": "VpARht0FZcC-",
        "outputId": "026bbb92-29ed-49d2-9fe0-50e106961364"
      },
      "source": [
        "plot_graph_loss(history)"
      ],
      "execution_count": 53,
      "outputs": [
        {
          "output_type": "display_data",
          "data": {
            "image/png": "[encoded data removed]",
            "text/plain": [
              "<Figure size 432x288 with 1 Axes>"
            ]
          },
          "metadata": {
            "needs_background": "light"
          }
        },
        {
          "output_type": "display_data",
          "data": {
            "image/png": "[encoded data removed]",
            "text/plain": [
              "<Figure size 432x288 with 1 Axes>"
            ]
          },
          "metadata": {
            "needs_background": "light"
          }
        }
      ]
    },
    {
      "cell_type": "code",
      "metadata": {
        "colab": {
          "base_uri": "https://localhost:8080/",
          "height": 611
        },
        "id": "gf8nXro8Zd7l",
        "outputId": "f8214d3a-bdf7-4a75-ed6f-124f9794c3ec"
      },
      "source": [
        "predictions = bi_gru.predict(testing_padded)\n",
        "predictions = predictions.flatten()\n",
        "predictions = np.where(predictions >= 0.5, 1, 0)\n",
        "calculate_metrics_classification(y_test, predictions)"
      ],
      "execution_count": 54,
      "outputs": [
        {
          "output_type": "stream",
          "name": "stdout",
          "text": [
            "              precision    recall  f1-score   support\n",
            "\n",
            "           0       0.55      0.51      0.53       336\n",
            "           1       0.45      0.49      0.47       279\n",
            "\n",
            "    accuracy                           0.50       615\n",
            "   macro avg       0.50      0.50      0.50       615\n",
            "weighted avg       0.50      0.50      0.50       615\n",
            "\n"
          ]
        },
        {
          "output_type": "display_data",
          "data": {
            "image/png": "[encoded data removed]",
            "text/plain": [
              "<Figure size 504x504 with 2 Axes>"
            ]
          },
          "metadata": {
            "needs_background": "light"
          }
        }
      ]
    },
    {
      "cell_type": "markdown",
      "metadata": {
        "id": "Xf4iBVhgVYFL"
      },
      "source": [
        "**CNN Model**"
      ]
    },
    {
      "cell_type": "code",
      "metadata": {
        "id": "Hc7wgZc2Vblr",
        "colab": {
          "base_uri": "https://localhost:8080/"
        },
        "outputId": "344ee082-af38-4f4c-ad82-5c1b5bc4794a"
      },
      "source": [
        "cnn = build_CNN(vocabulary_size, max_length, embedding_weights)\n",
        "history = cnn.fit(training_padded, y_train, epochs=10, validation_data=(validation_padded, y_dev), verbose=1)"
      ],
      "execution_count": 58,
      "outputs": [
        {
          "output_type": "stream",
          "name": "stdout",
          "text": [
            "Model: \"sequential_9\"\n",
            "_________________________________________________________________\n",
            "Layer (type)                 Output Shape              Param #   \n",
            "=================================================================\n",
            "embedding_9 (Embedding)      (None, 50, 100)           1144800   \n",
            "_________________________________________________________________\n",
            "conv1d (Conv1D)              (None, 46, 32)            16032     \n",
            "_________________________________________________________________\n",
            "dropout_9 (Dropout)          (None, 46, 32)            0         \n",
            "_________________________________________________________________\n",
            "conv1d_1 (Conv1D)            (None, 44, 16)            1552      \n",
            "_________________________________________________________________\n",
            "max_pooling1d (MaxPooling1D) (None, 14, 16)            0         \n",
            "_________________________________________________________________\n",
            "flatten (Flatten)            (None, 224)               0         \n",
            "_________________________________________________________________\n",
            "dense_9 (Dense)              (None, 1)                 225       \n",
            "=================================================================\n",
            "Total params: 1,162,609\n",
            "Trainable params: 1,162,609\n",
            "Non-trainable params: 0\n",
            "_________________________________________________________________\n",
            "Epoch 1/10\n",
            "155/155 [==============================] - 29s 10ms/step - loss: 0.7034 - accuracy: 0.4992 - val_loss: 0.6979 - val_accuracy: 0.4937\n",
            "Epoch 2/10\n",
            "155/155 [==============================] - 1s 8ms/step - loss: 0.6914 - accuracy: 0.5282 - val_loss: 0.6987 - val_accuracy: 0.4858\n",
            "Epoch 3/10\n",
            "155/155 [==============================] - 1s 8ms/step - loss: 0.6799 - accuracy: 0.5706 - val_loss: 0.6889 - val_accuracy: 0.5364\n",
            "Epoch 4/10\n",
            "155/155 [==============================] - 1s 8ms/step - loss: 0.6572 - accuracy: 0.6271 - val_loss: 0.7017 - val_accuracy: 0.4984\n",
            "Epoch 5/10\n",
            "155/155 [==============================] - 1s 9ms/step - loss: 0.6251 - accuracy: 0.6819 - val_loss: 0.7036 - val_accuracy: 0.5301\n",
            "Epoch 6/10\n",
            "155/155 [==============================] - 1s 8ms/step - loss: 0.5704 - accuracy: 0.7411 - val_loss: 0.7312 - val_accuracy: 0.5206\n",
            "Epoch 7/10\n",
            "155/155 [==============================] - 1s 8ms/step - loss: 0.4711 - accuracy: 0.8133 - val_loss: 0.7827 - val_accuracy: 0.5142\n",
            "Epoch 8/10\n",
            "155/155 [==============================] - 1s 8ms/step - loss: 0.3573 - accuracy: 0.8743 - val_loss: 0.8784 - val_accuracy: 0.5047\n",
            "Epoch 9/10\n",
            "155/155 [==============================] - 1s 9ms/step - loss: 0.2587 - accuracy: 0.9223 - val_loss: 0.9665 - val_accuracy: 0.5158\n",
            "Epoch 10/10\n",
            "155/155 [==============================] - 1s 8ms/step - loss: 0.1845 - accuracy: 0.9487 - val_loss: 1.0716 - val_accuracy: 0.5127\n"
          ]
        }
      ]
    },
    {
      "cell_type": "code",
      "metadata": {
        "id": "LIX3wGniVew_",
        "colab": {
          "base_uri": "https://localhost:8080/",
          "height": 541
        },
        "outputId": "be1d402b-60aa-401c-9475-13f377208623"
      },
      "source": [
        "plot_graph_loss(history)"
      ],
      "execution_count": 59,
      "outputs": [
        {
          "output_type": "display_data",
          "data": {
            "image/png": "[encoded data removed]",
            "text/plain": [
              "<Figure size 432x288 with 1 Axes>"
            ]
          },
          "metadata": {
            "needs_background": "light"
          }
        },
        {
          "output_type": "display_data",
          "data": {
            "image/png": "[encoded data removed]",
            "text/plain": [
              "<Figure size 432x288 with 1 Axes>"
            ]
          },
          "metadata": {
            "needs_background": "light"
          }
        }
      ]
    },
    {
      "cell_type": "code",
      "metadata": {
        "id": "qFnjDPeHVhXs",
        "colab": {
          "base_uri": "https://localhost:8080/",
          "height": 611
        },
        "outputId": "0c4a5fe4-797e-4056-9549-d250ce9f9a07"
      },
      "source": [
        "predictions = cnn.predict(testing_padded)\n",
        "predictions = predictions.flatten()\n",
        "predictions = np.where(predictions >= 0.5, 1, 0)\n",
        "calculate_metrics_classification(y_test, predictions)"
      ],
      "execution_count": 60,
      "outputs": [
        {
          "output_type": "stream",
          "name": "stdout",
          "text": [
            "              precision    recall  f1-score   support\n",
            "\n",
            "           0       0.55      0.48      0.51       336\n",
            "           1       0.46      0.53      0.49       279\n",
            "\n",
            "    accuracy                           0.50       615\n",
            "   macro avg       0.50      0.50      0.50       615\n",
            "weighted avg       0.51      0.50      0.50       615\n",
            "\n"
          ]
        },
        {
          "output_type": "display_data",
          "data": {
            "image/png": "[encoded data removed]",
            "text/plain": [
              "<Figure size 504x504 with 2 Axes>"
            ]
          },
          "metadata": {
            "needs_background": "light"
          }
        }
      ]
    },
    {
      "cell_type": "markdown",
      "metadata": {
        "id": "m94AvqIoTyQP"
      },
      "source": [
        "**LSTM CNN Model**"
      ]
    },
    {
      "cell_type": "code",
      "metadata": {
        "id": "A429a1SsT1dN",
        "colab": {
          "base_uri": "https://localhost:8080/"
        },
        "outputId": "0985300f-5c76-4add-927f-7a1ffc39842f"
      },
      "source": [
        "lstm_cnn = build_LSTM_CNN(vocabulary_size, max_length, embedding_weights)\n",
        "history = lstm_cnn.fit(training_padded, y_train, epochs=20, validation_data=(validation_padded, y_dev), verbose=1)"
      ],
      "execution_count": 61,
      "outputs": [
        {
          "output_type": "stream",
          "name": "stdout",
          "text": [
            "Model: \"sequential_10\"\n",
            "_________________________________________________________________\n",
            "Layer (type)                 Output Shape              Param #   \n",
            "=================================================================\n",
            "embedding_10 (Embedding)     (None, 50, 100)           1144800   \n",
            "_________________________________________________________________\n",
            "dropout_10 (Dropout)         (None, 50, 100)           0         \n",
            "_________________________________________________________________\n",
            "bidirectional_6 (Bidirection (None, 50, 128)           84480     \n",
            "_________________________________________________________________\n",
            "conv1d_2 (Conv1D)            (None, 48, 64)            24640     \n",
            "_________________________________________________________________\n",
            "flatten_1 (Flatten)          (None, 3072)              0         \n",
            "_________________________________________________________________\n",
            "dense_10 (Dense)             (None, 1)                 3073      \n",
            "=================================================================\n",
            "Total params: 1,256,993\n",
            "Trainable params: 1,256,993\n",
            "Non-trainable params: 0\n",
            "_________________________________________________________________\n",
            "Epoch 1/20\n",
            "155/155 [==============================] - 9s 35ms/step - loss: 0.7015 - accuracy: 0.4909 - val_loss: 0.6922 - val_accuracy: 0.5396\n",
            "Epoch 2/20\n",
            "155/155 [==============================] - 4s 29ms/step - loss: 0.6927 - accuracy: 0.5174 - val_loss: 0.6979 - val_accuracy: 0.4684\n",
            "Epoch 3/20\n",
            "155/155 [==============================] - 4s 29ms/step - loss: 0.6890 - accuracy: 0.5361 - val_loss: 0.6948 - val_accuracy: 0.4889\n",
            "Epoch 4/20\n",
            "155/155 [==============================] - 4s 29ms/step - loss: 0.6750 - accuracy: 0.5821 - val_loss: 0.7163 - val_accuracy: 0.4873\n",
            "Epoch 5/20\n",
            "155/155 [==============================] - 4s 28ms/step - loss: 0.6463 - accuracy: 0.6196 - val_loss: 0.7466 - val_accuracy: 0.4873\n",
            "Epoch 6/20\n",
            "155/155 [==============================] - 4s 29ms/step - loss: 0.5910 - accuracy: 0.6796 - val_loss: 0.7556 - val_accuracy: 0.5396\n",
            "Epoch 7/20\n",
            "155/155 [==============================] - 5s 29ms/step - loss: 0.5170 - accuracy: 0.7417 - val_loss: 0.8918 - val_accuracy: 0.4794\n",
            "Epoch 8/20\n",
            "155/155 [==============================] - 4s 29ms/step - loss: 0.4278 - accuracy: 0.7960 - val_loss: 0.9138 - val_accuracy: 0.4858\n",
            "Epoch 9/20\n",
            "155/155 [==============================] - 4s 29ms/step - loss: 0.3552 - accuracy: 0.8445 - val_loss: 1.0319 - val_accuracy: 0.4953\n",
            "Epoch 10/20\n",
            "155/155 [==============================] - 4s 29ms/step - loss: 0.2843 - accuracy: 0.8771 - val_loss: 1.2118 - val_accuracy: 0.4763\n",
            "Epoch 11/20\n",
            "155/155 [==============================] - 4s 29ms/step - loss: 0.2461 - accuracy: 0.8968 - val_loss: 1.2062 - val_accuracy: 0.4794\n",
            "Epoch 12/20\n",
            "155/155 [==============================] - 4s 29ms/step - loss: 0.2052 - accuracy: 0.9132 - val_loss: 1.3449 - val_accuracy: 0.5016\n",
            "Epoch 13/20\n",
            "155/155 [==============================] - 4s 29ms/step - loss: 0.1659 - accuracy: 0.9335 - val_loss: 1.5912 - val_accuracy: 0.4842\n",
            "Epoch 14/20\n",
            "155/155 [==============================] - 4s 29ms/step - loss: 0.1385 - accuracy: 0.9426 - val_loss: 1.6410 - val_accuracy: 0.5127\n",
            "Epoch 15/20\n",
            "155/155 [==============================] - 4s 29ms/step - loss: 0.1242 - accuracy: 0.9489 - val_loss: 1.6973 - val_accuracy: 0.5206\n",
            "Epoch 16/20\n",
            "155/155 [==============================] - 4s 29ms/step - loss: 0.1125 - accuracy: 0.9594 - val_loss: 1.6463 - val_accuracy: 0.5079\n",
            "Epoch 17/20\n",
            "155/155 [==============================] - 4s 29ms/step - loss: 0.0890 - accuracy: 0.9690 - val_loss: 1.7421 - val_accuracy: 0.5142\n",
            "Epoch 18/20\n",
            "155/155 [==============================] - 5s 29ms/step - loss: 0.0759 - accuracy: 0.9702 - val_loss: 1.9630 - val_accuracy: 0.4937\n",
            "Epoch 19/20\n",
            "155/155 [==============================] - 4s 29ms/step - loss: 0.0792 - accuracy: 0.9704 - val_loss: 1.9921 - val_accuracy: 0.5095\n",
            "Epoch 20/20\n",
            "155/155 [==============================] - 4s 29ms/step - loss: 0.0606 - accuracy: 0.9785 - val_loss: 2.1044 - val_accuracy: 0.5032\n"
          ]
        }
      ]
    },
    {
      "cell_type": "code",
      "metadata": {
        "id": "7FhWY_0-T1-N",
        "colab": {
          "base_uri": "https://localhost:8080/",
          "height": 544
        },
        "outputId": "7328fd45-7352-4ea2-d3d5-902612012fd1"
      },
      "source": [
        "plot_graph_loss(history)"
      ],
      "execution_count": 62,
      "outputs": [
        {
          "output_type": "display_data",
          "data": {
            "image/png": "[encoded data removed]",
            "text/plain": [
              "<Figure size 432x288 with 1 Axes>"
            ]
          },
          "metadata": {
            "needs_background": "light"
          }
        },
        {
          "output_type": "display_data",
          "data": {
            "image/png": "[encoded data removed]",
            "text/plain": [
              "<Figure size 432x288 with 1 Axes>"
            ]
          },
          "metadata": {
            "needs_background": "light"
          }
        }
      ]
    },
    {
      "cell_type": "code",
      "metadata": {
        "id": "B0PFEUtOT31M",
        "colab": {
          "base_uri": "https://localhost:8080/",
          "height": 611
        },
        "outputId": "f31f31f1-df5d-44b5-ece6-adc78dde9131"
      },
      "source": [
        "predictions = lstm_cnn.predict(testing_padded)\n",
        "predictions = predictions.flatten()\n",
        "predictions = np.where(predictions >= 0.5, 1, 0)\n",
        "calculate_metrics_classification(y_test, predictions)"
      ],
      "execution_count": 63,
      "outputs": [
        {
          "output_type": "stream",
          "name": "stdout",
          "text": [
            "              precision    recall  f1-score   support\n",
            "\n",
            "           0       0.58      0.47      0.52       336\n",
            "           1       0.48      0.58      0.53       279\n",
            "\n",
            "    accuracy                           0.52       615\n",
            "   macro avg       0.53      0.53      0.52       615\n",
            "weighted avg       0.53      0.52      0.52       615\n",
            "\n"
          ]
        },
        {
          "output_type": "display_data",
          "data": {
            "image/png": "[encoded data removed]",
            "text/plain": [
              "<Figure size 504x504 with 2 Axes>"
            ]
          },
          "metadata": {
            "needs_background": "light"
          }
        }
      ]
    },
    {
      "cell_type": "markdown",
      "metadata": {
        "id": "IBxrt9PsT5V1"
      },
      "source": [
        "**CNN LSTM Model**"
      ]
    },
    {
      "cell_type": "code",
      "metadata": {
        "id": "rtSez6tST8PV",
        "colab": {
          "base_uri": "https://localhost:8080/"
        },
        "outputId": "24b9074d-9d8a-4195-df31-de5c529b641c"
      },
      "source": [
        "cnn_lstm = build_CNN_LSTM(vocabulary_size, max_length, embedding_weights)\n",
        "history = cnn_lstm.fit(training_padded, y_train, epochs=20, validation_data=(validation_padded, y_dev), verbose=1)"
      ],
      "execution_count": 64,
      "outputs": [
        {
          "output_type": "stream",
          "name": "stdout",
          "text": [
            "Model: \"sequential_11\"\n",
            "_________________________________________________________________\n",
            "Layer (type)                 Output Shape              Param #   \n",
            "=================================================================\n",
            "embedding_11 (Embedding)     (None, 50, 100)           1144800   \n",
            "_________________________________________________________________\n",
            "spatial_dropout1d_3 (Spatial (None, 50, 100)           0         \n",
            "_________________________________________________________________\n",
            "conv1d_3 (Conv1D)            (None, 47, 64)            25664     \n",
            "_________________________________________________________________\n",
            "max_pooling1d_1 (MaxPooling1 (None, 11, 64)            0         \n",
            "_________________________________________________________________\n",
            "bidirectional_7 (Bidirection (None, 64)                24832     \n",
            "_________________________________________________________________\n",
            "dense_11 (Dense)             (None, 1)                 65        \n",
            "=================================================================\n",
            "Total params: 1,195,361\n",
            "Trainable params: 1,195,361\n",
            "Non-trainable params: 0\n",
            "_________________________________________________________________\n",
            "Epoch 1/20\n",
            "155/155 [==============================] - 8s 20ms/step - loss: 0.7032 - accuracy: 0.5006 - val_loss: 0.7038 - val_accuracy: 0.4858\n",
            "Epoch 2/20\n",
            "155/155 [==============================] - 2s 13ms/step - loss: 0.6916 - accuracy: 0.5268 - val_loss: 0.6959 - val_accuracy: 0.4905\n",
            "Epoch 3/20\n",
            "155/155 [==============================] - 2s 13ms/step - loss: 0.6902 - accuracy: 0.5351 - val_loss: 0.6959 - val_accuracy: 0.5142\n",
            "Epoch 4/20\n",
            "155/155 [==============================] - 2s 13ms/step - loss: 0.6855 - accuracy: 0.5438 - val_loss: 0.6946 - val_accuracy: 0.5095\n",
            "Epoch 5/20\n",
            "155/155 [==============================] - 2s 13ms/step - loss: 0.6732 - accuracy: 0.5766 - val_loss: 0.7075 - val_accuracy: 0.5111\n",
            "Epoch 6/20\n",
            "155/155 [==============================] - 2s 13ms/step - loss: 0.6538 - accuracy: 0.6158 - val_loss: 0.7195 - val_accuracy: 0.4763\n",
            "Epoch 7/20\n",
            "155/155 [==============================] - 2s 13ms/step - loss: 0.6218 - accuracy: 0.6586 - val_loss: 0.7609 - val_accuracy: 0.5127\n",
            "Epoch 8/20\n",
            "155/155 [==============================] - 2s 13ms/step - loss: 0.5824 - accuracy: 0.6867 - val_loss: 0.7832 - val_accuracy: 0.5063\n",
            "Epoch 9/20\n",
            "155/155 [==============================] - 2s 14ms/step - loss: 0.5370 - accuracy: 0.7279 - val_loss: 0.8024 - val_accuracy: 0.4984\n",
            "Epoch 10/20\n",
            "155/155 [==============================] - 2s 13ms/step - loss: 0.4881 - accuracy: 0.7628 - val_loss: 0.8369 - val_accuracy: 0.5253\n",
            "Epoch 11/20\n",
            "155/155 [==============================] - 2s 13ms/step - loss: 0.4316 - accuracy: 0.8043 - val_loss: 0.9043 - val_accuracy: 0.5142\n",
            "Epoch 12/20\n",
            "155/155 [==============================] - 2s 13ms/step - loss: 0.3848 - accuracy: 0.8264 - val_loss: 0.9544 - val_accuracy: 0.5237\n",
            "Epoch 13/20\n",
            "155/155 [==============================] - 2s 13ms/step - loss: 0.3471 - accuracy: 0.8504 - val_loss: 1.0418 - val_accuracy: 0.5174\n",
            "Epoch 14/20\n",
            "155/155 [==============================] - 2s 13ms/step - loss: 0.2981 - accuracy: 0.8757 - val_loss: 1.0860 - val_accuracy: 0.5142\n",
            "Epoch 15/20\n",
            "155/155 [==============================] - 2s 13ms/step - loss: 0.2740 - accuracy: 0.8867 - val_loss: 1.1637 - val_accuracy: 0.4984\n",
            "Epoch 16/20\n",
            "155/155 [==============================] - 2s 14ms/step - loss: 0.2541 - accuracy: 0.8968 - val_loss: 1.2596 - val_accuracy: 0.5174\n",
            "Epoch 17/20\n",
            "155/155 [==============================] - 2s 13ms/step - loss: 0.2213 - accuracy: 0.9118 - val_loss: 1.2711 - val_accuracy: 0.5079\n",
            "Epoch 18/20\n",
            "155/155 [==============================] - 2s 13ms/step - loss: 0.2109 - accuracy: 0.9144 - val_loss: 1.3150 - val_accuracy: 0.5032\n",
            "Epoch 19/20\n",
            "155/155 [==============================] - 2s 13ms/step - loss: 0.1881 - accuracy: 0.9225 - val_loss: 1.3753 - val_accuracy: 0.5063\n",
            "Epoch 20/20\n",
            "155/155 [==============================] - 2s 13ms/step - loss: 0.1764 - accuracy: 0.9317 - val_loss: 1.3978 - val_accuracy: 0.5206\n"
          ]
        }
      ]
    },
    {
      "cell_type": "code",
      "metadata": {
        "id": "WEturki8T9W9",
        "colab": {
          "base_uri": "https://localhost:8080/",
          "height": 541
        },
        "outputId": "8b3726f0-235a-49cc-8e02-99f7e1133818"
      },
      "source": [
        "plot_graph_loss(history)"
      ],
      "execution_count": 65,
      "outputs": [
        {
          "output_type": "display_data",
          "data": {
            "image/png": "[encoded data removed]",
            "text/plain": [
              "<Figure size 432x288 with 1 Axes>"
            ]
          },
          "metadata": {
            "needs_background": "light"
          }
        },
        {
          "output_type": "display_data",
          "data": {
            "image/png": "[encoded data removed]",
            "text/plain": [
              "<Figure size 432x288 with 1 Axes>"
            ]
          },
          "metadata": {
            "needs_background": "light"
          }
        }
      ]
    },
    {
      "cell_type": "code",
      "metadata": {
        "id": "NUMgP1SLT_Hm",
        "colab": {
          "base_uri": "https://localhost:8080/",
          "height": 611
        },
        "outputId": "474e3474-853b-43ae-877e-b9bb59719f78"
      },
      "source": [
        "predictions = cnn_lstm.predict(testing_padded)\n",
        "predictions = predictions.flatten()\n",
        "predictions = np.where(predictions >= 0.5, 1, 0)\n",
        "calculate_metrics_classification(y_test, predictions)"
      ],
      "execution_count": 66,
      "outputs": [
        {
          "output_type": "stream",
          "name": "stdout",
          "text": [
            "              precision    recall  f1-score   support\n",
            "\n",
            "           0       0.53      0.51      0.52       336\n",
            "           1       0.43      0.45      0.44       279\n",
            "\n",
            "    accuracy                           0.48       615\n",
            "   macro avg       0.48      0.48      0.48       615\n",
            "weighted avg       0.48      0.48      0.48       615\n",
            "\n"
          ]
        },
        {
          "output_type": "display_data",
          "data": {
            "image/png": "[encoded data removed]",
            "text/plain": [
              "<Figure size 504x504 with 2 Axes>"
            ]
          },
          "metadata": {
            "needs_background": "light"
          }
        }
      ]
    },
    {
      "cell_type": "markdown",
      "metadata": {
        "id": "BikZeuI1Vjfx"
      },
      "source": [
        "**BERT Model**"
      ]
    },
    {
      "cell_type": "code",
      "metadata": {
        "id": "mTCxFXEzfozO"
      },
      "source": [
        "text_train = list(X_train)\n",
        "text_val = list(X_dev)\n",
        "text_test = list(X_test)"
      ],
      "execution_count": 115,
      "outputs": []
    },
    {
      "cell_type": "code",
      "metadata": {
        "id": "7kkcc9N6ftS-"
      },
      "source": [
        "bert_tokenizer = BertTokenizerFast.from_pretrained('bert-base-uncased')"
      ],
      "execution_count": 116,
      "outputs": []
    },
    {
      "cell_type": "code",
      "metadata": {
        "id": "mdgTULk5fuoJ"
      },
      "source": [
        "train_encodings = bert_tokenizer(text_train, max_length=100, truncation=True, padding=\"max_length\", return_tensors='tf')\n",
        "val_encodings = bert_tokenizer(text_val, max_length=100, truncation=True, padding=\"max_length\", return_tensors='tf')\n",
        "test_encodings = bert_tokenizer(text_test, max_length=100, truncation=True, padding=\"max_length\", return_tensors='tf')"
      ],
      "execution_count": 117,
      "outputs": []
    },
    {
      "cell_type": "code",
      "metadata": {
        "id": "-_UGaf3Kfwe6"
      },
      "source": [
        "def bert_model(input_shape):\n",
        "    model = TFBertModel.from_pretrained('bert-base-uncased')\n",
        "    layer = model.layers[0]\n",
        "\n",
        "    inputs = keras.Input(shape=input_shape, dtype='int32')\n",
        "    input_masks = keras.Input(shape=input_shape, dtype='int32')\n",
        "\n",
        "    outputs = layer([inputs, input_masks])\n",
        "    output = outputs[0]\n",
        "    pooled_output = output[:, 0, :] \n",
        "\n",
        "    is_humor = layers.Dropout(0.3)(pooled_output)\n",
        "    is_humor = layers.Dense(32, activation=\"relu\")(is_humor)\n",
        "    is_humor = layers.Dense(1, activation=\"sigmoid\")(is_humor)\n",
        "\n",
        "    model = keras.Model(inputs=[inputs, input_masks], outputs=is_humor)    \n",
        "    return model"
      ],
      "execution_count": 118,
      "outputs": []
    },
    {
      "cell_type": "code",
      "metadata": {
        "colab": {
          "base_uri": "https://localhost:8080/"
        },
        "id": "rT1veMo6fzQI",
        "outputId": "f2b18bcd-319b-46c7-f696-15d3bbac7b23"
      },
      "source": [
        "model = bert_model((100,))\n",
        "optimizer = keras.optimizers.Adam(learning_rate=2e-5)\n",
        "loss_fun = [tf.keras.losses.BinaryCrossentropy(from_logits=False)]\n",
        "metric = [\n",
        "    tf.keras.metrics.BinaryAccuracy(),\n",
        "    tf.keras.metrics.Precision(),\n",
        "    tf.keras.metrics.Recall()\n",
        "]\n",
        "model.compile(optimizer=optimizer, loss=loss_fun, metrics=metric)\n",
        "model.summary()"
      ],
      "execution_count": 119,
      "outputs": [
        {
          "output_type": "stream",
          "name": "stderr",
          "text": [
            "Some layers from the model checkpoint at bert-base-uncased were not used when initializing TFBertModel: ['mlm___cls', 'nsp___cls']\n",
            "- This IS expected if you are initializing TFBertModel from the checkpoint of a model trained on another task or with another architecture (e.g. initializing a BertForSequenceClassification model from a BertForPreTraining model).\n",
            "- This IS NOT expected if you are initializing TFBertModel from the checkpoint of a model that you expect to be exactly identical (initializing a BertForSequenceClassification model from a BertForSequenceClassification model).\n",
            "All the layers of TFBertModel were initialized from the model checkpoint at bert-base-uncased.\n",
            "If your task is similar to the task the model of the checkpoint was trained on, you can already use TFBertModel for predictions without further training.\n"
          ]
        },
        {
          "output_type": "stream",
          "name": "stdout",
          "text": [
            "Model: \"model_9\"\n",
            "__________________________________________________________________________________________________\n",
            "Layer (type)                    Output Shape         Param #     Connected to                     \n",
            "==================================================================================================\n",
            "input_19 (InputLayer)           [(None, 100)]        0                                            \n",
            "__________________________________________________________________________________________________\n",
            "input_20 (InputLayer)           [(None, 100)]        0                                            \n",
            "__________________________________________________________________________________________________\n",
            "bert (TFBertMainLayer)          TFBaseModelOutputWit 109482240   input_19[0][0]                   \n",
            "                                                                 input_20[0][0]                   \n",
            "__________________________________________________________________________________________________\n",
            "tf.__operators__.getitem_9 (Sli (None, 768)          0           bert[0][0]                       \n",
            "__________________________________________________________________________________________________\n",
            "dropout_291 (Dropout)           (None, 768)          0           tf.__operators__.getitem_9[0][0] \n",
            "__________________________________________________________________________________________________\n",
            "dense_33 (Dense)                (None, 32)           24608       dropout_291[0][0]                \n",
            "__________________________________________________________________________________________________\n",
            "dense_34 (Dense)                (None, 1)            33          dense_33[0][0]                   \n",
            "==================================================================================================\n",
            "Total params: 109,506,881\n",
            "Trainable params: 109,506,881\n",
            "Non-trainable params: 0\n",
            "__________________________________________________________________________________________________\n"
          ]
        }
      ]
    },
    {
      "cell_type": "code",
      "metadata": {
        "colab": {
          "base_uri": "https://localhost:8080/"
        },
        "id": "atjn2yFRf1-m",
        "outputId": "28f75023-65dd-44f4-d19c-76639d56f297"
      },
      "source": [
        "history = model.fit(x = [train_encodings[\"input_ids\"], train_encodings[\"attention_mask\"]], y = y_train,\n",
        "    validation_data = ([val_encodings[\"input_ids\"], val_encodings[\"attention_mask\"]], y_dev),\n",
        "    batch_size=16, shuffle=True, epochs=3)"
      ],
      "execution_count": 120,
      "outputs": [
        {
          "output_type": "stream",
          "name": "stdout",
          "text": [
            "Epoch 1/3\n",
            "WARNING:tensorflow:Gradients do not exist for variables ['tf_bert_model_4/bert/pooler/dense/kernel:0', 'tf_bert_model_4/bert/pooler/dense/bias:0'] when minimizing the loss.\n",
            "WARNING:tensorflow:Gradients do not exist for variables ['tf_bert_model_4/bert/pooler/dense/kernel:0', 'tf_bert_model_4/bert/pooler/dense/bias:0'] when minimizing the loss.\n",
            "309/309 [==============================] - 234s 690ms/step - loss: 0.6999 - binary_accuracy: 0.5128 - precision_9: 0.5111 - recall_9: 0.5801 - val_loss: 0.6917 - val_binary_accuracy: 0.5380 - val_precision_9: 0.5444 - val_recall_9: 0.3182\n",
            "Epoch 2/3\n",
            "309/309 [==============================] - 209s 676ms/step - loss: 0.6885 - binary_accuracy: 0.5562 - precision_9: 0.5551 - recall_9: 0.5643 - val_loss: 0.7265 - val_binary_accuracy: 0.5047 - val_precision_9: 0.4957 - val_recall_9: 0.9416\n",
            "Epoch 3/3\n",
            "309/309 [==============================] - 209s 676ms/step - loss: 0.6714 - binary_accuracy: 0.5829 - precision_9: 0.5765 - recall_9: 0.6235 - val_loss: 0.6903 - val_binary_accuracy: 0.5570 - val_precision_9: 0.5405 - val_recall_9: 0.6071\n"
          ]
        }
      ]
    },
    {
      "cell_type": "code",
      "metadata": {
        "colab": {
          "base_uri": "https://localhost:8080/",
          "height": 611
        },
        "id": "i1L9MVV3f43_",
        "outputId": "8b5296c3-4d31-446e-c90d-b0b7552c4eed"
      },
      "source": [
        "predictions = model.predict([test_encodings[\"input_ids\"], test_encodings[\"attention_mask\"]])\n",
        "predictions = np.round(predictions)\n",
        "predictions = np.squeeze(predictions, axis=-1)\n",
        "calculate_metrics_classification(y_test, predictions)"
      ],
      "execution_count": 121,
      "outputs": [
        {
          "output_type": "stream",
          "name": "stdout",
          "text": [
            "              precision    recall  f1-score   support\n",
            "\n",
            "           0       0.60      0.53      0.56       336\n",
            "           1       0.50      0.57      0.53       279\n",
            "\n",
            "    accuracy                           0.55       615\n",
            "   macro avg       0.55      0.55      0.55       615\n",
            "weighted avg       0.55      0.55      0.55       615\n",
            "\n"
          ]
        },
        {
          "output_type": "display_data",
          "data": {
            "image/png": "[encoded data removed]",
            "text/plain": [
              "<Figure size 504x504 with 2 Axes>"
            ]
          },
          "metadata": {
            "needs_background": "light"
          }
        }
      ]
    },
    {
      "cell_type": "markdown",
      "metadata": {
        "id": "RTeCTEwOVqMR"
      },
      "source": [
        "**ALBERT Model**"
      ]
    },
    {
      "cell_type": "code",
      "metadata": {
        "colab": {
          "base_uri": "https://localhost:8080/",
          "height": 169,
          "referenced_widgets": [
            "513d37007eb349d9bc8da66f5b6b81f4",
            "029559f12fb54bbf8c2129566eb76401",
            "9bf1c72b8d554756a19a5d95154c7810",
            "63f3a275b37b43378fa433aa65f8bb06",
            "9d8037f669004bfca82438f01e5d4c57",
            "4c6d4b89579441788eb9d2a3f4409228",
            "9c530cbf76b64f28ad43bdbee292c6ab",
            "d21f9f00fda942a88a22020ec9b84b6f",
            "8a6e0f10b32948dbaedc8b47b2f5a00d",
            "ec4ca6db0a63454c94a76c9a1ce00fe3",
            "28488e8d392c4526aa77fb389ec81d60",
            "697626f2e16a42f2a9efdf52d7663e6c",
            "e321473d135d45f9884c709215f83a0d",
            "2895ced4d9684d4b94ea6d75949c4846",
            "111f3e0197ce4fe18f5a515dd440c7bf",
            "9af0824669474b93a451094cca0aa062",
            "82dcb455991045118c93e465a92bfe42",
            "bf341921f0e641e29026441a7b54aa0a",
            "ea1ef401731941a6ae249681a521327a",
            "059f3920b4944b56a1a1b8d4826d6d1c",
            "ac4a3ce15c56417c8ad317c27b34c172",
            "3db32a8bbcf64d6a8c169e584000a89a",
            "5da1c73afe21444f9b8ed0ca7cdc9121",
            "6cac94d275db473191b11a81125f4684",
            "0481c3f9d659414aa679c8262e93feb9",
            "532501db9b9b421bb44fce8f735a1d4c",
            "8e363837767f4e0781da8ea0924c2d7f",
            "ea145be9c03140bfa4203292d899e52e",
            "d9728ab335634343b8fddbbfd0ba4441",
            "bcac3b8e52724194a5f8552af4e95d1f",
            "86b0e0e9fb524bc9a5a39c2e93ad7af0",
            "4931ec31847040d0b1b4afc7ffded0d8",
            "da3753ff4a454ab58b0ea03e3d9f0a4c"
          ]
        },
        "id": "8DFq_vXdf_J6",
        "outputId": "81f47086-dc0f-4ea6-c9ff-f8aad307c8c0"
      },
      "source": [
        "albert_tokenizer = AlbertTokenizerFast.from_pretrained('albert-base-v2')"
      ],
      "execution_count": 78,
      "outputs": [
        {
          "output_type": "display_data",
          "data": {
            "application/vnd.jupyter.widget-view+json": {
              "model_id": "513d37007eb349d9bc8da66f5b6b81f4",
              "version_minor": 0,
              "version_major": 2
            },
            "text/plain": [
              "Downloading:   0%|          | 0.00/760k [00:00<?, ?B/s]"
            ]
          },
          "metadata": {}
        },
        {
          "output_type": "display_data",
          "data": {
            "application/vnd.jupyter.widget-view+json": {
              "model_id": "697626f2e16a42f2a9efdf52d7663e6c",
              "version_minor": 0,
              "version_major": 2
            },
            "text/plain": [
              "Downloading:   0%|          | 0.00/1.31M [00:00<?, ?B/s]"
            ]
          },
          "metadata": {}
        },
        {
          "output_type": "display_data",
          "data": {
            "application/vnd.jupyter.widget-view+json": {
              "model_id": "5da1c73afe21444f9b8ed0ca7cdc9121",
              "version_minor": 0,
              "version_major": 2
            },
            "text/plain": [
              "Downloading:   0%|          | 0.00/684 [00:00<?, ?B/s]"
            ]
          },
          "metadata": {}
        }
      ]
    },
    {
      "cell_type": "code",
      "metadata": {
        "id": "6pW_B8iigBrs"
      },
      "source": [
        "train_encodings = albert_tokenizer(text_train, max_length=100, truncation=True, padding=\"max_length\", return_tensors='tf')\n",
        "val_encodings = albert_tokenizer(text_val, max_length=100, truncation=True, padding=\"max_length\", return_tensors='tf')\n",
        "test_encodings = albert_tokenizer(text_test, max_length=100, truncation=True, padding=\"max_length\", return_tensors='tf')"
      ],
      "execution_count": 94,
      "outputs": []
    },
    {
      "cell_type": "code",
      "metadata": {
        "id": "ilD487d6gDVy"
      },
      "source": [
        "def albert_model(input_shape):\n",
        "    model = TFAlbertModel.from_pretrained('albert-base-v2')\n",
        "    layer = model.layers[0]\n",
        "\n",
        "    inputs = keras.Input(shape=input_shape, dtype='int32')\n",
        "    input_masks = keras.Input(shape=input_shape, dtype='int32')\n",
        "\n",
        "    outputs = layer([inputs, input_masks])\n",
        "    output = outputs[0]\n",
        "    pooled_output = output[:, 0, :] \n",
        "\n",
        "    is_humor = layers.Dropout(0.3)(pooled_output)\n",
        "    is_humor = layers.Dense(32, activation=\"relu\")(is_humor)\n",
        "    is_humor = layers.Dense(1, activation=\"sigmoid\")(is_humor)\n",
        "\n",
        "    model = keras.Model(inputs=[inputs, input_masks], outputs=is_humor)    \n",
        "    return model"
      ],
      "execution_count": 95,
      "outputs": []
    },
    {
      "cell_type": "code",
      "metadata": {
        "colab": {
          "base_uri": "https://localhost:8080/"
        },
        "id": "EHHxkG0vgF5P",
        "outputId": "2ac9583f-fc8a-4d12-ee5b-8244413d7471"
      },
      "source": [
        "model = albert_model((100,))\n",
        "optimizer = keras.optimizers.Adam(learning_rate=2e-5)\n",
        "loss_fun = [tf.keras.losses.BinaryCrossentropy(from_logits=False)]\n",
        "metric = [\n",
        "    tf.keras.metrics.BinaryAccuracy(),\n",
        "    tf.keras.metrics.Precision(),\n",
        "    tf.keras.metrics.Recall()\n",
        "]\n",
        "model.compile(optimizer=optimizer, loss=loss_fun, metrics=metric)\n",
        "model.summary()"
      ],
      "execution_count": 96,
      "outputs": [
        {
          "output_type": "stream",
          "name": "stderr",
          "text": [
            "Some layers from the model checkpoint at albert-base-v2 were not used when initializing TFAlbertModel: ['predictions']\n",
            "- This IS expected if you are initializing TFAlbertModel from the checkpoint of a model trained on another task or with another architecture (e.g. initializing a BertForSequenceClassification model from a BertForPreTraining model).\n",
            "- This IS NOT expected if you are initializing TFAlbertModel from the checkpoint of a model that you expect to be exactly identical (initializing a BertForSequenceClassification model from a BertForSequenceClassification model).\n",
            "All the layers of TFAlbertModel were initialized from the model checkpoint at albert-base-v2.\n",
            "If your task is similar to the task the model of the checkpoint was trained on, you can already use TFAlbertModel for predictions without further training.\n"
          ]
        },
        {
          "output_type": "stream",
          "name": "stdout",
          "text": [
            "Model: \"model_5\"\n",
            "__________________________________________________________________________________________________\n",
            "Layer (type)                    Output Shape         Param #     Connected to                     \n",
            "==================================================================================================\n",
            "input_11 (InputLayer)           [(None, 100)]        0                                            \n",
            "__________________________________________________________________________________________________\n",
            "input_12 (InputLayer)           [(None, 100)]        0                                            \n",
            "__________________________________________________________________________________________________\n",
            "albert (TFAlbertMainLayer)      TFBaseModelOutputWit 11683584    input_11[0][0]                   \n",
            "                                                                 input_12[0][0]                   \n",
            "__________________________________________________________________________________________________\n",
            "tf.__operators__.getitem_5 (Sli (None, 768)          0           albert[0][0]                     \n",
            "__________________________________________________________________________________________________\n",
            "dropout_172 (Dropout)           (None, 768)          0           tf.__operators__.getitem_5[0][0] \n",
            "__________________________________________________________________________________________________\n",
            "dense_23 (Dense)                (None, 32)           24608       dropout_172[0][0]                \n",
            "__________________________________________________________________________________________________\n",
            "dense_24 (Dense)                (None, 1)            33          dense_23[0][0]                   \n",
            "==================================================================================================\n",
            "Total params: 11,708,225\n",
            "Trainable params: 11,708,225\n",
            "Non-trainable params: 0\n",
            "__________________________________________________________________________________________________\n"
          ]
        }
      ]
    },
    {
      "cell_type": "code",
      "metadata": {
        "colab": {
          "base_uri": "https://localhost:8080/"
        },
        "id": "UKC8TozTgG9t",
        "outputId": "e3cfc39d-84ca-4072-98d0-bd6c2e13eb3f"
      },
      "source": [
        "history = model.fit(x = [train_encodings[\"input_ids\"], train_encodings[\"attention_mask\"]], y = y_train,\n",
        "    validation_data = ([val_encodings[\"input_ids\"], val_encodings[\"attention_mask\"]], y_dev),\n",
        "    batch_size=16, shuffle=True, epochs=3)"
      ],
      "execution_count": 97,
      "outputs": [
        {
          "output_type": "stream",
          "name": "stdout",
          "text": [
            "Epoch 1/3\n",
            "WARNING:tensorflow:Gradients do not exist for variables ['tf_albert_model_1/albert/pooler/kernel:0', 'tf_albert_model_1/albert/pooler/bias:0'] when minimizing the loss.\n",
            "WARNING:tensorflow:Gradients do not exist for variables ['tf_albert_model_1/albert/pooler/kernel:0', 'tf_albert_model_1/albert/pooler/bias:0'] when minimizing the loss.\n",
            "309/309 [==============================] - 221s 660ms/step - loss: 0.7153 - binary_accuracy: 0.5024 - precision_5: 0.5024 - recall_5: 0.4755 - val_loss: 0.6929 - val_binary_accuracy: 0.5127 - val_precision_5: 0.0000e+00 - val_recall_5: 0.0000e+00\n",
            "Epoch 2/3\n",
            "309/309 [==============================] - 200s 648ms/step - loss: 0.6986 - binary_accuracy: 0.5063 - precision_5: 0.5059 - recall_5: 0.5181 - val_loss: 0.6950 - val_binary_accuracy: 0.4873 - val_precision_5: 0.4873 - val_recall_5: 1.0000\n",
            "Epoch 3/3\n",
            "309/309 [==============================] - 200s 646ms/step - loss: 0.6961 - binary_accuracy: 0.5030 - precision_5: 0.5029 - recall_5: 0.4905 - val_loss: 0.6906 - val_binary_accuracy: 0.5237 - val_precision_5: 0.5075 - val_recall_5: 0.7727\n"
          ]
        }
      ]
    },
    {
      "cell_type": "code",
      "metadata": {
        "colab": {
          "base_uri": "https://localhost:8080/",
          "height": 611
        },
        "id": "uwv0eaLIgIW9",
        "outputId": "08935c26-812c-4180-dfb2-86ca4bc3b9d7"
      },
      "source": [
        "predictions = model.predict([test_encodings[\"input_ids\"], test_encodings[\"attention_mask\"]])\n",
        "predictions = np.round(predictions)\n",
        "predictions = np.squeeze(predictions, axis=-1)\n",
        "calculate_metrics_classification(y_test, predictions)"
      ],
      "execution_count": 98,
      "outputs": [
        {
          "output_type": "stream",
          "name": "stdout",
          "text": [
            "              precision    recall  f1-score   support\n",
            "\n",
            "           0       0.63      0.20      0.31       336\n",
            "           1       0.47      0.86      0.61       279\n",
            "\n",
            "    accuracy                           0.50       615\n",
            "   macro avg       0.55      0.53      0.46       615\n",
            "weighted avg       0.56      0.50      0.44       615\n",
            "\n"
          ]
        },
        {
          "output_type": "display_data",
          "data": {
            "image/png": "[encoded data removed]",
            "text/plain": [
              "<Figure size 504x504 with 2 Axes>"
            ]
          },
          "metadata": {
            "needs_background": "light"
          }
        }
      ]
    },
    {
      "cell_type": "markdown",
      "metadata": {
        "id": "nev1Xr1CVw2G"
      },
      "source": [
        "**RoBERTa Model**"
      ]
    },
    {
      "cell_type": "code",
      "metadata": {
        "colab": {
          "base_uri": "https://localhost:8080/",
          "height": 201,
          "referenced_widgets": [
            "4b643171ab974c75a1c1d8c7ebe4c64f",
            "3ec4b402fe8044baa33c1dced8f96a1f",
            "77488d0d61814622a3ad50975cd5f006",
            "bbf9703c8db34dbe81fb45647f68d39d",
            "a9a4f444c5a04c359b19ad818fcc5610",
            "f079a943c5094972954a1ab49d9efdc9",
            "f2521b8ca6444edd925c703f681c7e06",
            "0f91b4bade244f1bba027985afa2e454",
            "61d2ac199cfc4e42aaec5949e2f0d81f",
            "dc14a828ea634d8b82f59f48b2fcfa41",
            "905bd41f68e74d0ca1af0ca65b309326",
            "0ef23a67af764382ad7108279e98f35c",
            "482669c37de942e094f3e9fa461000da",
            "3b6b528d475c4f2e97e57ab21c5be412",
            "50e1c4d4027a47d09606a55a84e565b4",
            "50d7c00e50c34cd486578c79f40c6d82",
            "bbb22d53b6494e08a4bc71b65594c67e",
            "60f37768cb844d30af316c7fbb9dfa00",
            "2abe2a61d24d404887e43af81a0bda3f",
            "d784027defde4f558273e9b20a5a4085",
            "69865d6ce09546afba86ad831108491e",
            "0844d5c3ef3e459ab835c4d017d7a28f",
            "7b97b04e1d00471ca3050aa0138c8d1b",
            "996f15a9dd3e4fc593e0396b523e815d",
            "f8d91fd6769a4c72b85e51d0693129e3",
            "5157b1ceb7334c5a883b3bc4b3b9bce7",
            "8b02a97ab48741ad820a94e752a95708",
            "5596f1ac6ed3494a8bcfaf6b2802c5be",
            "623deb41722e4ae38e25b8f8543f5167",
            "41f37632f9d8402c8a2301256e1a784f",
            "9e15ac5430e946c2b66c926552d355a5",
            "089b475a269c43309420e9a7d926648e",
            "4ed9c6ed5742496ea4b97031ee5d6268",
            "330a6b378f764a55b935e9463d1bcdd7",
            "5c27aa4376f6432c8843411e6f2a8ca7",
            "7195991715714036a4bf536a808b4669",
            "e70c01d0d3ea49b0b645f63fbfbe69c8",
            "d9600739e2e5442db2ed9af8609216d5",
            "2d4d270c383d4c7091e37695905534df",
            "e471c909ea954b468898d7a79a37dc01",
            "4650cfb266f1405ba423bf8210b1b047",
            "07f2849601b44e2c8d766c70d2747bf9",
            "149cc38bbe77480db63677a400174a10",
            "72636b84c93148d6beb025170dff5809"
          ]
        },
        "id": "_SNZ0VVDgKT8",
        "outputId": "0e2ae0c9-2caa-441b-ecad-6e6f86199296"
      },
      "source": [
        "roberta_tokenizer = RobertaTokenizerFast.from_pretrained('roberta-base')"
      ],
      "execution_count": 103,
      "outputs": [
        {
          "output_type": "display_data",
          "data": {
            "application/vnd.jupyter.widget-view+json": {
              "model_id": "4b643171ab974c75a1c1d8c7ebe4c64f",
              "version_minor": 0,
              "version_major": 2
            },
            "text/plain": [
              "Downloading:   0%|          | 0.00/899k [00:00<?, ?B/s]"
            ]
          },
          "metadata": {}
        },
        {
          "output_type": "display_data",
          "data": {
            "application/vnd.jupyter.widget-view+json": {
              "model_id": "0ef23a67af764382ad7108279e98f35c",
              "version_minor": 0,
              "version_major": 2
            },
            "text/plain": [
              "Downloading:   0%|          | 0.00/456k [00:00<?, ?B/s]"
            ]
          },
          "metadata": {}
        },
        {
          "output_type": "display_data",
          "data": {
            "application/vnd.jupyter.widget-view+json": {
              "model_id": "7b97b04e1d00471ca3050aa0138c8d1b",
              "version_minor": 0,
              "version_major": 2
            },
            "text/plain": [
              "Downloading:   0%|          | 0.00/1.36M [00:00<?, ?B/s]"
            ]
          },
          "metadata": {}
        },
        {
          "output_type": "display_data",
          "data": {
            "application/vnd.jupyter.widget-view+json": {
              "model_id": "330a6b378f764a55b935e9463d1bcdd7",
              "version_minor": 0,
              "version_major": 2
            },
            "text/plain": [
              "Downloading:   0%|          | 0.00/481 [00:00<?, ?B/s]"
            ]
          },
          "metadata": {}
        }
      ]
    },
    {
      "cell_type": "code",
      "metadata": {
        "id": "wfjP_PPpgLwf"
      },
      "source": [
        "train_encodings = roberta_tokenizer(text_train, max_length=100, truncation=True, padding=\"max_length\", return_tensors='tf')\n",
        "val_encodings = roberta_tokenizer(text_val, max_length=100, truncation=True, padding=\"max_length\", return_tensors='tf')\n",
        "test_encodings = roberta_tokenizer(text_test, max_length=100, truncation=True, padding=\"max_length\", return_tensors='tf')"
      ],
      "execution_count": 104,
      "outputs": []
    },
    {
      "cell_type": "code",
      "metadata": {
        "id": "ZqMvW-LHgNLQ"
      },
      "source": [
        "def roberta_model(input_shape):\n",
        "    model = TFRobertaModel.from_pretrained('roberta-base')\n",
        "    layer = model.layers[0]\n",
        "\n",
        "    inputs = keras.Input(shape=input_shape, dtype='int32')\n",
        "    input_masks = keras.Input(shape=input_shape, dtype='int32')\n",
        "\n",
        "    outputs = layer([inputs, input_masks])\n",
        "    output = outputs[0]\n",
        "    pooled_output = output[:, 0, :] \n",
        "\n",
        "    is_humor = layers.Dropout(0.3)(pooled_output)\n",
        "    is_humor = layers.Dense(32, activation=\"relu\")(is_humor)\n",
        "    is_humor = layers.Dense(1, activation=\"sigmoid\")(is_humor)\n",
        "\n",
        "    model = keras.Model(inputs=[inputs, input_masks], outputs=is_humor)    \n",
        "    return model"
      ],
      "execution_count": 105,
      "outputs": []
    },
    {
      "cell_type": "code",
      "metadata": {
        "colab": {
          "base_uri": "https://localhost:8080/",
          "height": 573,
          "referenced_widgets": [
            "c4455cca9ce642afa25a569c3d68bda3",
            "b57a1911e1664bef878d91463000f4d3",
            "a2af5631b7b84413b7c44d1517d4406c",
            "7f438551a36a457e9d8c7dc512bf29ef",
            "8e039f61e4a447caa34139a9799992d2",
            "a57286b625844e97996b1ce216442435",
            "b66e050ae9ae4d5eb610930519f5ff0f",
            "b96831207a874bc1aad6bb1938fcb6fd",
            "b45024f810b14494bcf31809cea399a1",
            "eababfd86cbc4b239287c8b1a8ccdee7",
            "691f8c143c494caebdec242eb60cccff"
          ]
        },
        "id": "gbJyftccgOwB",
        "outputId": "906b301f-60ae-40c9-c998-a6c2286fd8fe"
      },
      "source": [
        "model = roberta_model((100,))\n",
        "optimizer = keras.optimizers.Adam(learning_rate=2e-5)\n",
        "loss_fun = [tf.keras.losses.BinaryCrossentropy(from_logits=False)]\n",
        "metric = [\n",
        "    tf.keras.metrics.BinaryAccuracy(),\n",
        "    tf.keras.metrics.Precision(),\n",
        "    tf.keras.metrics.Recall()\n",
        "]\n",
        "model.compile(optimizer=optimizer, loss=loss_fun, metrics=metric)\n",
        "model.summary()"
      ],
      "execution_count": 106,
      "outputs": [
        {
          "output_type": "display_data",
          "data": {
            "application/vnd.jupyter.widget-view+json": {
              "model_id": "c4455cca9ce642afa25a569c3d68bda3",
              "version_minor": 0,
              "version_major": 2
            },
            "text/plain": [
              "Downloading:   0%|          | 0.00/657M [00:00<?, ?B/s]"
            ]
          },
          "metadata": {}
        },
        {
          "output_type": "stream",
          "name": "stderr",
          "text": [
            "Some layers from the model checkpoint at roberta-base were not used when initializing TFRobertaModel: ['lm_head']\n",
            "- This IS expected if you are initializing TFRobertaModel from the checkpoint of a model trained on another task or with another architecture (e.g. initializing a BertForSequenceClassification model from a BertForPreTraining model).\n",
            "- This IS NOT expected if you are initializing TFRobertaModel from the checkpoint of a model that you expect to be exactly identical (initializing a BertForSequenceClassification model from a BertForSequenceClassification model).\n",
            "All the layers of TFRobertaModel were initialized from the model checkpoint at roberta-base.\n",
            "If your task is similar to the task the model of the checkpoint was trained on, you can already use TFRobertaModel for predictions without further training.\n"
          ]
        },
        {
          "output_type": "stream",
          "name": "stdout",
          "text": [
            "Model: \"model_7\"\n",
            "__________________________________________________________________________________________________\n",
            "Layer (type)                    Output Shape         Param #     Connected to                     \n",
            "==================================================================================================\n",
            "input_15 (InputLayer)           [(None, 100)]        0                                            \n",
            "__________________________________________________________________________________________________\n",
            "input_16 (InputLayer)           [(None, 100)]        0                                            \n",
            "__________________________________________________________________________________________________\n",
            "roberta (TFRobertaMainLayer)    TFBaseModelOutputWit 124645632   input_15[0][0]                   \n",
            "                                                                 input_16[0][0]                   \n",
            "__________________________________________________________________________________________________\n",
            "tf.__operators__.getitem_7 (Sli (None, 768)          0           roberta[0][0]                    \n",
            "__________________________________________________________________________________________________\n",
            "dropout_215 (Dropout)           (None, 768)          0           tf.__operators__.getitem_7[0][0] \n",
            "__________________________________________________________________________________________________\n",
            "dense_28 (Dense)                (None, 32)           24608       dropout_215[0][0]                \n",
            "__________________________________________________________________________________________________\n",
            "dense_29 (Dense)                (None, 1)            33          dense_28[0][0]                   \n",
            "==================================================================================================\n",
            "Total params: 124,670,273\n",
            "Trainable params: 124,670,273\n",
            "Non-trainable params: 0\n",
            "__________________________________________________________________________________________________\n"
          ]
        }
      ]
    },
    {
      "cell_type": "code",
      "metadata": {
        "colab": {
          "base_uri": "https://localhost:8080/"
        },
        "id": "LC3dNW7YgQaC",
        "outputId": "3965f17c-0972-48fc-9573-8e54e6080937"
      },
      "source": [
        "history = model.fit(x = [train_encodings[\"input_ids\"], train_encodings[\"attention_mask\"]], y = y_train,\n",
        "    validation_data = ([val_encodings[\"input_ids\"], val_encodings[\"attention_mask\"]], y_dev),\n",
        "    batch_size=16, shuffle=True, epochs=3)"
      ],
      "execution_count": 107,
      "outputs": [
        {
          "output_type": "stream",
          "name": "stdout",
          "text": [
            "Epoch 1/3\n",
            "WARNING:tensorflow:Gradients do not exist for variables ['tf_roberta_model/roberta/pooler/dense/kernel:0', 'tf_roberta_model/roberta/pooler/dense/bias:0'] when minimizing the loss.\n",
            "WARNING:tensorflow:Gradients do not exist for variables ['tf_roberta_model/roberta/pooler/dense/kernel:0', 'tf_roberta_model/roberta/pooler/dense/bias:0'] when minimizing the loss.\n",
            "309/309 [==============================] - 237s 703ms/step - loss: 0.6976 - binary_accuracy: 0.5047 - precision_7: 0.5047 - recall_7: 0.4803 - val_loss: 0.6927 - val_binary_accuracy: 0.4858 - val_precision_7: 0.4864 - val_recall_7: 0.9870\n",
            "Epoch 2/3\n",
            "309/309 [==============================] - 213s 688ms/step - loss: 0.6927 - binary_accuracy: 0.5333 - precision_7: 0.5343 - recall_7: 0.5148 - val_loss: 0.6898 - val_binary_accuracy: 0.5380 - val_precision_7: 0.5174 - val_recall_7: 0.7727\n",
            "Epoch 3/3\n",
            "309/309 [==============================] - 213s 688ms/step - loss: 0.6838 - binary_accuracy: 0.5649 - precision_7: 0.5692 - recall_7: 0.5323 - val_loss: 0.6835 - val_binary_accuracy: 0.5649 - val_precision_7: 0.5609 - val_recall_7: 0.4935\n"
          ]
        }
      ]
    },
    {
      "cell_type": "code",
      "metadata": {
        "colab": {
          "base_uri": "https://localhost:8080/",
          "height": 611
        },
        "id": "S3gwrSrqgRvU",
        "outputId": "5f168936-1e97-45e8-ca7a-f5a7bbbb748b"
      },
      "source": [
        "predictions = model.predict([test_encodings[\"input_ids\"], test_encodings[\"attention_mask\"]])\n",
        "predictions = np.round(predictions)\n",
        "predictions = np.squeeze(predictions, axis=-1)\n",
        "calculate_metrics_classification(y_test, predictions)"
      ],
      "execution_count": 108,
      "outputs": [
        {
          "output_type": "stream",
          "name": "stdout",
          "text": [
            "              precision    recall  f1-score   support\n",
            "\n",
            "           0       0.57      0.61      0.59       336\n",
            "           1       0.48      0.44      0.46       279\n",
            "\n",
            "    accuracy                           0.53       615\n",
            "   macro avg       0.53      0.53      0.52       615\n",
            "weighted avg       0.53      0.53      0.53       615\n",
            "\n"
          ]
        },
        {
          "output_type": "display_data",
          "data": {
            "image/png": "[encoded data removed]",
            "text/plain": [
              "<Figure size 504x504 with 2 Axes>"
            ]
          },
          "metadata": {
            "needs_background": "light"
          }
        }
      ]
    }
  ]
}